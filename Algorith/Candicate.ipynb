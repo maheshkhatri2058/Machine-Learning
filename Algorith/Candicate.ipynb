{
 "cells": [
  {
   "cell_type": "code",
   "execution_count": null,
   "id": "0858fc37",
   "metadata": {},
   "outputs": [
    {
     "name": "stdout",
     "output_type": "stream",
     "text": [
      "\n",
      "Final Specific Hypothesis (S): ['Sunny', 'Warm', '?', 'Strong', '?', '?']\n",
      "Final General Hypothesis (G): [['Sunny', '?', '?', '?', '?', '?'], ['?', 'Warm', '?', '?', '?', '?'], ['?', '?', '?', 'Strong', '?', '?']]\n"
     ]
    }
   ],
   "source": [
    "import csv \n",
    "def load_data(filename):\n",
    "    with open(filename, 'r') as f:\n",
    "        reader = csv.reader(f)\n",
    "        data = list(reader)\n",
    "        header = data[0]             # First row is header\n",
    "        examples = data[1:]          # Rest are examples\n",
    "    return header, examples\n",
    "\n",
    "def candidate_elimination(examples):\n",
    "    num_attributes = len(examples[0]) - 1\n",
    "    S = ['0'] * num_attributes   # Most specific hypothesis\n",
    "    G = [['?' for _ in range(num_attributes)]]  # Most general hypothesis\n",
    "\n",
    "    for example in examples:\n",
    "        attributes, label = example[:-1], example[-1]\n",
    "\n",
    "        if label.strip().lower() == 'yes':\n",
    "            for i in range(num_attributes):\n",
    "                if S[i] == '0':\n",
    "                    S[i] = attributes[i]\n",
    "                elif S[i] != attributes[i]:\n",
    "                    S[i] = '?'\n",
    "\n",
    "            G = [g for g in G if all(\n",
    "                g[i] == '?' or g[i] == attributes[i] for i in range(num_attributes)\n",
    "            )]\n",
    "\n",
    "        elif label.strip().lower() == 'no':\n",
    "            new_G = []\n",
    "            for g in G:\n",
    "                for i in range(num_attributes):\n",
    "                    if g[i] == '?':\n",
    "                        if S[i] != '?':\n",
    "                            h = g.copy()\n",
    "                            h[i] = S[i]\n",
    "                            if h not in new_G:\n",
    "                                new_G.append(h)\n",
    "            G = new_G\n",
    "\n",
    "    return S, G\n",
    "header, examples = load_data('Candict.csv')\n",
    "S_final, G_final = candidate_elimination(examples)\n",
    "\n",
    "print(\"\\nFinal Specific Hypothesis (S):\", S_final)\n",
    "print(\"Final General Hypothesis (G):\", G_final)\n"
   ]
  }
 ],
 "metadata": {
  "kernelspec": {
   "display_name": "base",
   "language": "python",
   "name": "python3"
  },
  "language_info": {
   "codemirror_mode": {
    "name": "ipython",
    "version": 3
   },
   "file_extension": ".py",
   "mimetype": "text/x-python",
   "name": "python",
   "nbconvert_exporter": "python",
   "pygments_lexer": "ipython3",
   "version": "3.12.7"
  }
 },
 "nbformat": 4,
 "nbformat_minor": 5
}
