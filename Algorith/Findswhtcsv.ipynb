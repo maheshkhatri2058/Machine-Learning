{
 "cells": [
  {
   "cell_type": "code",
   "execution_count": 4,
   "id": "1f59498c",
   "metadata": {},
   "outputs": [
    {
     "name": "stdout",
     "output_type": "stream",
     "text": [
      "Final hypothesis: ['Sunny', 'Warm', '?', 'Strong', '?', '?']\n"
     ]
    }
   ],
   "source": [
    "import pandas as pd\n",
    "def find_s_algorithm(df):\n",
    "    #convering dataframe into list of list as required formate \n",
    "    training_data = df.values.tolist()\n",
    "    h=training_data[0][:-1]\n",
    "    # Refine hypothesis\n",
    "    for instance in training_data:\n",
    "        if instance[-1].lower() == 'yes':\n",
    "            for i in range(len(h)):\n",
    "                if h[i] != instance[i]:\n",
    "                    h[i] = '?'\n",
    "    return h\n",
    "df=pd.read_csv('finds.csv')\n",
    "hypothesis = find_s_algorithm(df)\n",
    "print(\"Final hypothesis:\", hypothesis)\n"
   ]
  }
 ],
 "metadata": {
  "kernelspec": {
   "display_name": "base",
   "language": "python",
   "name": "python3"
  },
  "language_info": {
   "codemirror_mode": {
    "name": "ipython",
    "version": 3
   },
   "file_extension": ".py",
   "mimetype": "text/x-python",
   "name": "python",
   "nbconvert_exporter": "python",
   "pygments_lexer": "ipython3",
   "version": "3.12.7"
  }
 },
 "nbformat": 4,
 "nbformat_minor": 5
}
