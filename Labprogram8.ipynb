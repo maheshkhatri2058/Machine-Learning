{
 "cells": [
  {
   "cell_type": "code",
   "execution_count": 5,
   "id": "1b5d0013",
   "metadata": {},
   "outputs": [],
   "source": [
    "import statistics as stc"
   ]
  },
  {
   "cell_type": "code",
   "execution_count": 7,
   "id": "50d63ddc",
   "metadata": {},
   "outputs": [
    {
     "name": "stdout",
     "output_type": "stream",
     "text": [
      "Different statistic summary\n",
      "Mean : 11.375\n",
      "Medain : 10.0\n",
      "Mode : 6\n",
      "Standard Deviation : 5.527528509973642\n",
      "Variance : 30.553571428571427\n"
     ]
    }
   ],
   "source": [
    "x=[11,6,17,21,6,9,7,14]\n",
    "print(\"Different statistic summary\")\n",
    "print(\"Mean :\",stc.mean(x))\n",
    "print(\"Medain :\",stc.median(x))\n",
    "print(\"Mode :\",stc.mode(x))\n",
    "print(\"Standard Deviation :\",stc.stdev(x))\n",
    "print(\"Variance :\",stc.variance(x))"
   ]
  }
 ],
 "metadata": {
  "kernelspec": {
   "display_name": "base",
   "language": "python",
   "name": "python3"
  },
  "language_info": {
   "codemirror_mode": {
    "name": "ipython",
    "version": 3
   },
   "file_extension": ".py",
   "mimetype": "text/x-python",
   "name": "python",
   "nbconvert_exporter": "python",
   "pygments_lexer": "ipython3",
   "version": "3.12.7"
  }
 },
 "nbformat": 4,
 "nbformat_minor": 5
}
