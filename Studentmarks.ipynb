{
 "cells": [
  {
   "cell_type": "code",
   "execution_count": 2,
   "id": "ab17a381",
   "metadata": {},
   "outputs": [],
   "source": [
    "import numpy as np"
   ]
  },
  {
   "cell_type": "code",
   "execution_count": null,
   "id": "a75dab56",
   "metadata": {},
   "outputs": [
    {
     "name": "stdout",
     "output_type": "stream",
     "text": [
      "====== Student Marks Analyzer ======\n",
      "\n",
      "Average Marks per Student:\n",
      "Ram: 85.00\n",
      "Shyam: 70.00\n",
      "Sita: 90.00\n",
      "Gita: 60.67\n",
      "Hari: 97.67\n",
      "\n",
      "Average Marks per Subject:\n",
      "Math: 79.00\n",
      "Science: 83.00\n",
      "English: 80.00\n",
      "\\ Highest Marks per Subject:\n",
      "Math: 95\n",
      "Science: 98\n",
      "English: 100\n",
      "\n",
      " Lowest Marks per Subject:\n",
      "Math: 60\n",
      "Science: 64\n",
      "English: 58\n",
      "\n",
      " Standard Deviation per Subject:\n",
      "Math: 12.81\n",
      "Science: 12.03\n",
      "English: 15.99\n",
      "\n",
      "Top Performer: Hari with an average of 97.67\n"
     ]
    },
    {
     "name": "stderr",
     "output_type": "stream",
     "text": [
      "<>:39: SyntaxWarning: invalid escape sequence '\\ '\n",
      "<>:39: SyntaxWarning: invalid escape sequence '\\ '\n",
      "C:\\Users\\Mahesh khatri\\AppData\\Local\\Temp\\ipykernel_6704\\3082740607.py:39: SyntaxWarning: invalid escape sequence '\\ '\n",
      "  print(\"\\ Highest Marks per Subject:\")\n"
     ]
    }
   ],
   "source": [
    "student_names = [\"Ram\", \"Shyam\", \"Sita\", \"Gita\", \"Hari\"]\n",
    "marks = np.array([\n",
    "    [80, 90, 85],   # Ram\n",
    "    [70, 75, 65],   # Shyam\n",
    "    [90, 88, 92],   # Sita\n",
    "    [60, 64, 58],   # Gita\n",
    "    [95, 98, 100]   # Hari\n",
    "])\n",
    "subjects = [\"Math\", \"Science\", \"English\"]\n",
    "\n",
    "# Average marks per student\n",
    "avg_per_student = np.mean(marks, axis=1)\n",
    "\n",
    "# Average marks per subject\n",
    "avg_per_subject = np.mean(marks, axis=0)\n",
    "\n",
    "# Highest and Lowest marks in each subject\n",
    "highest = np.max(marks, axis=0)\n",
    "lowest = np.min(marks, axis=0)\n",
    "\n",
    "# Standard deviation per subject\n",
    "std_dev = np.std(marks, axis=0)\n",
    "\n",
    "# Top performer\n",
    "top_index = np.argmax(avg_per_student)\n",
    "top_student = student_names[top_index]\n",
    "\n",
    "\n",
    "print(\"====== Student Marks Analyzer ======\\n\")\n",
    "\n",
    "print(\"Average Marks per Student:\")\n",
    "for i in range(len(student_names)):\n",
    "    print(f\"{student_names[i]}: {avg_per_student[i]:.2f}\")\n",
    "\n",
    "print(\"\\nAverage Marks per Subject:\")\n",
    "for i in range(3):\n",
    "    print(f\"{subjects[i]}: {avg_per_subject[i]:.2f}\")\n",
    "\n",
    "print(\"\\n Highest Marks per Subject:\")\n",
    "for i in range(3):\n",
    "    print(f\"{subjects[i]}: {highest[i]}\")\n",
    "\n",
    "print(\"\\n Lowest Marks per Subject:\")\n",
    "for i in range(3):\n",
    "    print(f\"{subjects[i]}: {lowest[i]}\")\n",
    "\n",
    "print(\"\\n Standard Deviation per Subject:\")\n",
    "for i in range(3):\n",
    "    print(f\"{subjects[i]}: {std_dev[i]:.2f}\")\n",
    "\n",
    "print(f\"\\nTop Performer: {top_student} with an average of {avg_per_student[top_index]:.2f}\")\n"
   ]
  }
 ],
 "metadata": {
  "kernelspec": {
   "display_name": "base",
   "language": "python",
   "name": "python3"
  },
  "language_info": {
   "codemirror_mode": {
    "name": "ipython",
    "version": 3
   },
   "file_extension": ".py",
   "mimetype": "text/x-python",
   "name": "python",
   "nbconvert_exporter": "python",
   "pygments_lexer": "ipython3",
   "version": "3.12.7"
  }
 },
 "nbformat": 4,
 "nbformat_minor": 5
}
