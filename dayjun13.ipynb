{
 "cells": [
  {
   "cell_type": "code",
   "execution_count": 31,
   "id": "a343c0a4",
   "metadata": {},
   "outputs": [],
   "source": [
    "from sklearn.datasets import make_regression\n",
    "import pandas as pd\n",
    "import numpy as np\n",
    "\n",
    "import plotly.express as px\n",
    "import plotly.graph_objects as go\n",
    "\n",
    "from sklearn.metrics import mean_absolute_error,mean_squared_error,r2_score"
   ]
  },
  {
   "cell_type": "code",
   "execution_count": 32,
   "id": "9382c895",
   "metadata": {},
   "outputs": [],
   "source": [
    "from sklearn.metrics import mean_absolute_error,mean_squared_error,r2_score"
   ]
  },
  {
   "cell_type": "code",
   "execution_count": 33,
   "id": "b9b363ed",
   "metadata": {},
   "outputs": [],
   "source": [
    "x,y = make_regression(n_samples=100, n_features=2, n_informative=2, n_targets=1, noise=50)\n",
    "df = pd.DataFrame({'feature1':x[:,0],'feature2':x[:,1],'target':y})\n"
   ]
  },
  {
   "cell_type": "code",
   "execution_count": 34,
   "id": "0b0bc1da",
   "metadata": {},
   "outputs": [
    {
     "data": {
      "text/plain": [
       "(100, 3)"
      ]
     },
     "execution_count": 34,
     "metadata": {},
     "output_type": "execute_result"
    }
   ],
   "source": [
    "df.shape"
   ]
  },
  {
   "cell_type": "code",
   "execution_count": 35,
   "id": "0f89b515",
   "metadata": {},
   "outputs": [
    {
     "data": {
      "text/html": [
       "<div>\n",
       "<style scoped>\n",
       "    .dataframe tbody tr th:only-of-type {\n",
       "        vertical-align: middle;\n",
       "    }\n",
       "\n",
       "    .dataframe tbody tr th {\n",
       "        vertical-align: top;\n",
       "    }\n",
       "\n",
       "    .dataframe thead th {\n",
       "        text-align: right;\n",
       "    }\n",
       "</style>\n",
       "<table border=\"1\" class=\"dataframe\">\n",
       "  <thead>\n",
       "    <tr style=\"text-align: right;\">\n",
       "      <th></th>\n",
       "      <th>feature1</th>\n",
       "      <th>feature2</th>\n",
       "      <th>target</th>\n",
       "    </tr>\n",
       "  </thead>\n",
       "  <tbody>\n",
       "    <tr>\n",
       "      <th>0</th>\n",
       "      <td>-1.707749</td>\n",
       "      <td>-0.123090</td>\n",
       "      <td>-64.671025</td>\n",
       "    </tr>\n",
       "    <tr>\n",
       "      <th>1</th>\n",
       "      <td>-0.096699</td>\n",
       "      <td>-0.223504</td>\n",
       "      <td>-23.578634</td>\n",
       "    </tr>\n",
       "    <tr>\n",
       "      <th>2</th>\n",
       "      <td>0.446016</td>\n",
       "      <td>1.394673</td>\n",
       "      <td>80.687809</td>\n",
       "    </tr>\n",
       "    <tr>\n",
       "      <th>3</th>\n",
       "      <td>-0.256327</td>\n",
       "      <td>-1.495953</td>\n",
       "      <td>-54.371838</td>\n",
       "    </tr>\n",
       "    <tr>\n",
       "      <th>4</th>\n",
       "      <td>-0.070525</td>\n",
       "      <td>-1.081566</td>\n",
       "      <td>-72.127068</td>\n",
       "    </tr>\n",
       "  </tbody>\n",
       "</table>\n",
       "</div>"
      ],
      "text/plain": [
       "   feature1  feature2     target\n",
       "0 -1.707749 -0.123090 -64.671025\n",
       "1 -0.096699 -0.223504 -23.578634\n",
       "2  0.446016  1.394673  80.687809\n",
       "3 -0.256327 -1.495953 -54.371838\n",
       "4 -0.070525 -1.081566 -72.127068"
      ]
     },
     "execution_count": 35,
     "metadata": {},
     "output_type": "execute_result"
    }
   ],
   "source": [
    "df.head()"
   ]
  },
  {
   "cell_type": "code",
   "execution_count": 36,
   "id": "18140281",
   "metadata": {},
   "outputs": [
    {
     "data": {
      "application/vnd.plotly.v1+json": {
       "config": {
        "plotlyServerURL": "https://plot.ly"
       },
       "data": [
        {
         "hovertemplate": "feature1=%{x}<br>feature2=%{y}<br>target=%{z}<extra></extra>",
         "legendgroup": "",
         "marker": {
          "color": "#636efa",
          "symbol": "circle"
         },
         "mode": "markers",
         "name": "",
         "scene": "scene",
         "showlegend": false,
         "type": "scatter3d",
         "x": [
          -1.7077487723292268,
          -0.09669939064326183,
          0.4460158144484434,
          -0.25632747671482653,
          -0.07052533530145873,
          0.3104518577802936,
          1.5205543997612363,
          -1.6493892525999403,
          1.5199722865186551,
          -0.3373043838222666,
          1.0160019740250867,
          -2.1246909250330765,
          0.6336381180309941,
          -0.8360114567382783,
          0.7201339276797194,
          -1.3176582148913973,
          -0.9179667405121081,
          0.6832956472712611,
          0.06796557037102112,
          -0.3612674149209946,
          0.5650863516705241,
          0.775512820041089,
          1.1515087171725342,
          0.004027189880241762,
          -0.726967038663463,
          0.13185316565455335,
          0.3279418936010442,
          0.061656466527222446,
          1.9113782648926323,
          -1.3382121959527407,
          0.42071373449439936,
          -0.2561793059106879,
          -0.41019276634627505,
          -0.5950518502809227,
          0.17625776038753113,
          0.8118889684166765,
          -0.968812659005146,
          2.1748955145770137,
          -1.8694467375755879,
          0.35947847626349855,
          -1.0325925772400948,
          -0.4883883042112778,
          0.463888112894473,
          0.31270973940247626,
          -0.6573174162554041,
          -0.46670735221989024,
          -1.2082668781653705,
          1.0878464401822898,
          -2.6192598555708813,
          -1.0254496343848531,
          -0.6524353985610483,
          0.28707816340536196,
          0.8883029429412884,
          1.0108579233619408,
          -1.5738829625160926,
          -0.3987121392594112,
          -0.6398447071058095,
          0.6709950552331955,
          -0.7439779213027234,
          -1.1540314741805502,
          0.8911815475687723,
          1.5010056141197943,
          -0.13112773404205605,
          0.10141091776526684,
          2.6527446589540635,
          -0.38383580717223587,
          -1.2705639347187159,
          -1.00358019655432,
          -3.9964527663142806,
          1.9074342872957324,
          -0.6050607355174699,
          1.2020593213057789,
          -2.345388379161939,
          -0.1646984400471218,
          2.0424827188369052,
          -1.5366620399791917,
          -1.20115009950287,
          -1.2196209101712463,
          -0.042346967072294905,
          -0.5253656508483161,
          -0.03983258252992016,
          -2.383306275641221,
          1.528164001255755,
          0.7197739771956445,
          2.255384126448613,
          -2.3090015669208723,
          -0.3437301473541824,
          -0.8336625581627676,
          0.8454792805622824,
          -1.243682521216024,
          -0.7058450456717864,
          0.8071510210367694,
          0.13865194808297027,
          -0.37140082065679,
          0.6707502185550523,
          -0.4029701251564703,
          1.9138560643588114,
          -1.1833031949337032,
          -1.3939407887383852,
          1.3178313695310073
         ],
         "y": [
          -0.12308980250896397,
          -0.22350434280252032,
          1.3946725024896136,
          -1.4959534078587684,
          -1.0815658603019795,
          -1.5841039029602146,
          0.21403629412406075,
          -1.055670375085299,
          -0.02286491009078143,
          -0.8549469175638201,
          -1.371880189032002,
          0.6465836513966159,
          0.8945165941924986,
          -0.1105166878303111,
          -0.7947525167894779,
          -1.2904718456260345,
          -1.4645578897638671,
          -0.8988362679375564,
          -1.1980065062535943,
          0.9008425310095037,
          -1.4544271747588853,
          1.7784740351031194,
          -1.4408415128996666,
          -1.1202319580942517,
          -0.24677482667827053,
          0.35688523533665895,
          -0.49416913929749573,
          0.7821906503477012,
          -0.7005605966669054,
          0.14781985158127772,
          0.4386838252647745,
          1.5121572870085604,
          -1.7930065024453603,
          0.23050626482048234,
          -1.4628264474895243,
          0.5856908211787515,
          -0.3589464086738161,
          -0.4279503509551293,
          -1.7991197910223464,
          -0.15270755230884306,
          -0.37088036752413045,
          1.0775745247026758,
          -0.1604865618007504,
          0.164809282705133,
          0.8592967997609593,
          0.4408406030719531,
          0.33916683674961,
          1.0121259000581344,
          0.07574362000067414,
          -1.2710892372319846,
          -0.43559293120135534,
          -0.37094637396431174,
          -1.1341084417619316,
          1.1154250699791104,
          1.297207880550535,
          0.443090540394375,
          -0.26829264121250257,
          -1.491682175880226,
          0.4476129895937652,
          0.4809974980992992,
          -1.7738378914846138,
          -1.03549727601338,
          -0.5241190825594447,
          0.3848283999232367,
          0.5671874012137781,
          1.7927500112478127,
          0.5159078865948763,
          0.2403305033481198,
          -0.35530789122490813,
          -0.2828213187421201,
          -2.0169590025336848,
          0.1366406286063216,
          -0.07295842317399594,
          -0.9492197358778897,
          -0.23107569769470376,
          -0.17509810349515792,
          0.0995509043952448,
          1.2783775293547361,
          -0.5179222476420622,
          -0.1437986575741156,
          -1.738949056258808,
          1.0669781704192167,
          0.9523118349911488,
          0.36673364011471415,
          -1.5402397140595459,
          0.1602468209168824,
          0.22552644085779655,
          0.9587169653126371,
          -0.805726865823831,
          -1.6256094254213582,
          2.011188289722997,
          -0.7166224950215234,
          1.2942198491809362,
          -0.21267424214052416,
          0.3461660829447693,
          0.5072187369088891,
          -1.2499250267725202,
          -0.06768428103401411,
          0.738086782060987,
          0.4646556001263645
         ],
         "z": [
          -64.67102518524665,
          -23.578634270093445,
          80.687808876878,
          -54.371837723992186,
          -72.1270679809594,
          -53.32411319518346,
          -6.361686680094465,
          -45.98691279977582,
          110.28090113705318,
          32.09975557756675,
          -39.56686816278662,
          -24.249621310442215,
          -19.31045671966251,
          -53.202731391844715,
          62.9172779976248,
          -126.21094582856406,
          -50.00762495519064,
          -28.537676826618906,
          21.64068291471921,
          59.172761775884496,
          45.758594345976825,
          11.479158899076495,
          58.73524406321418,
          -36.201784176464095,
          17.7326081467763,
          9.433649307123078,
          44.624090867719055,
          109.82836653472938,
          -19.035670529875404,
          -85.47208944159622,
          21.026851805229015,
          -61.323693073583286,
          -2.2229029254275474,
          -27.239664985952167,
          81.31387945906691,
          -7.717029991590586,
          -103.88332192131978,
          88.91253041379036,
          -76.75376818180108,
          -7.458089115298771,
          -120.47435175357137,
          -20.69812558082565,
          0.843779806489243,
          39.18803464087954,
          -14.633252539104951,
          6.579511446676347,
          12.22585137533386,
          54.10561134338265,
          -52.74592855076867,
          -92.43610667980565,
          24.709043006113667,
          -22.52417654226511,
          -31.242955848093363,
          -6.137556980554535,
          32.07398083997464,
          -49.622024043235214,
          11.496419542017005,
          11.905465219747612,
          -43.85683012014562,
          -50.900800852575465,
          -14.661932289154066,
          -97.22626222594536,
          -39.29448591122642,
          26.276725672824288,
          114.34436915926878,
          40.95093841604209,
          36.45681965507543,
          2.4183305560626067,
          -173.37347172986634,
          45.582553238818335,
          -53.55550779816617,
          60.373384750854896,
          -16.583578197447018,
          -78.75905073962284,
          26.342134856171253,
          -67.36872879358039,
          -71.76808225972405,
          24.63198120622474,
          37.66822031091209,
          -85.45000045023293,
          -83.61607859335295,
          1.1265931012160806,
          148.3804931165804,
          73.06105227058956,
          52.71943800603697,
          -76.41232855474506,
          57.6073561846842,
          -5.535631596340922,
          71.08139318546446,
          -45.16173866749997,
          78.77246949128009,
          -10.074649943359011,
          -95.08481651607349,
          -72.31952525841469,
          -1.8539959514727222,
          -44.848083606847766,
          52.80206216851545,
          -95.53959709282708,
          -71.69246375358892,
          73.03613507573348
         ]
        }
       ],
       "layout": {
        "legend": {
         "tracegroupgap": 0
        },
        "margin": {
         "t": 60
        },
        "scene": {
         "domain": {
          "x": [
           0,
           1
          ],
          "y": [
           0,
           1
          ]
         },
         "xaxis": {
          "title": {
           "text": "feature1"
          }
         },
         "yaxis": {
          "title": {
           "text": "feature2"
          }
         },
         "zaxis": {
          "title": {
           "text": "target"
          }
         }
        },
        "template": {
         "data": {
          "bar": [
           {
            "error_x": {
             "color": "#2a3f5f"
            },
            "error_y": {
             "color": "#2a3f5f"
            },
            "marker": {
             "line": {
              "color": "#E5ECF6",
              "width": 0.5
             },
             "pattern": {
              "fillmode": "overlay",
              "size": 10,
              "solidity": 0.2
             }
            },
            "type": "bar"
           }
          ],
          "barpolar": [
           {
            "marker": {
             "line": {
              "color": "#E5ECF6",
              "width": 0.5
             },
             "pattern": {
              "fillmode": "overlay",
              "size": 10,
              "solidity": 0.2
             }
            },
            "type": "barpolar"
           }
          ],
          "carpet": [
           {
            "aaxis": {
             "endlinecolor": "#2a3f5f",
             "gridcolor": "white",
             "linecolor": "white",
             "minorgridcolor": "white",
             "startlinecolor": "#2a3f5f"
            },
            "baxis": {
             "endlinecolor": "#2a3f5f",
             "gridcolor": "white",
             "linecolor": "white",
             "minorgridcolor": "white",
             "startlinecolor": "#2a3f5f"
            },
            "type": "carpet"
           }
          ],
          "choropleth": [
           {
            "colorbar": {
             "outlinewidth": 0,
             "ticks": ""
            },
            "type": "choropleth"
           }
          ],
          "contour": [
           {
            "colorbar": {
             "outlinewidth": 0,
             "ticks": ""
            },
            "colorscale": [
             [
              0,
              "#0d0887"
             ],
             [
              0.1111111111111111,
              "#46039f"
             ],
             [
              0.2222222222222222,
              "#7201a8"
             ],
             [
              0.3333333333333333,
              "#9c179e"
             ],
             [
              0.4444444444444444,
              "#bd3786"
             ],
             [
              0.5555555555555556,
              "#d8576b"
             ],
             [
              0.6666666666666666,
              "#ed7953"
             ],
             [
              0.7777777777777778,
              "#fb9f3a"
             ],
             [
              0.8888888888888888,
              "#fdca26"
             ],
             [
              1,
              "#f0f921"
             ]
            ],
            "type": "contour"
           }
          ],
          "contourcarpet": [
           {
            "colorbar": {
             "outlinewidth": 0,
             "ticks": ""
            },
            "type": "contourcarpet"
           }
          ],
          "heatmap": [
           {
            "colorbar": {
             "outlinewidth": 0,
             "ticks": ""
            },
            "colorscale": [
             [
              0,
              "#0d0887"
             ],
             [
              0.1111111111111111,
              "#46039f"
             ],
             [
              0.2222222222222222,
              "#7201a8"
             ],
             [
              0.3333333333333333,
              "#9c179e"
             ],
             [
              0.4444444444444444,
              "#bd3786"
             ],
             [
              0.5555555555555556,
              "#d8576b"
             ],
             [
              0.6666666666666666,
              "#ed7953"
             ],
             [
              0.7777777777777778,
              "#fb9f3a"
             ],
             [
              0.8888888888888888,
              "#fdca26"
             ],
             [
              1,
              "#f0f921"
             ]
            ],
            "type": "heatmap"
           }
          ],
          "heatmapgl": [
           {
            "colorbar": {
             "outlinewidth": 0,
             "ticks": ""
            },
            "colorscale": [
             [
              0,
              "#0d0887"
             ],
             [
              0.1111111111111111,
              "#46039f"
             ],
             [
              0.2222222222222222,
              "#7201a8"
             ],
             [
              0.3333333333333333,
              "#9c179e"
             ],
             [
              0.4444444444444444,
              "#bd3786"
             ],
             [
              0.5555555555555556,
              "#d8576b"
             ],
             [
              0.6666666666666666,
              "#ed7953"
             ],
             [
              0.7777777777777778,
              "#fb9f3a"
             ],
             [
              0.8888888888888888,
              "#fdca26"
             ],
             [
              1,
              "#f0f921"
             ]
            ],
            "type": "heatmapgl"
           }
          ],
          "histogram": [
           {
            "marker": {
             "pattern": {
              "fillmode": "overlay",
              "size": 10,
              "solidity": 0.2
             }
            },
            "type": "histogram"
           }
          ],
          "histogram2d": [
           {
            "colorbar": {
             "outlinewidth": 0,
             "ticks": ""
            },
            "colorscale": [
             [
              0,
              "#0d0887"
             ],
             [
              0.1111111111111111,
              "#46039f"
             ],
             [
              0.2222222222222222,
              "#7201a8"
             ],
             [
              0.3333333333333333,
              "#9c179e"
             ],
             [
              0.4444444444444444,
              "#bd3786"
             ],
             [
              0.5555555555555556,
              "#d8576b"
             ],
             [
              0.6666666666666666,
              "#ed7953"
             ],
             [
              0.7777777777777778,
              "#fb9f3a"
             ],
             [
              0.8888888888888888,
              "#fdca26"
             ],
             [
              1,
              "#f0f921"
             ]
            ],
            "type": "histogram2d"
           }
          ],
          "histogram2dcontour": [
           {
            "colorbar": {
             "outlinewidth": 0,
             "ticks": ""
            },
            "colorscale": [
             [
              0,
              "#0d0887"
             ],
             [
              0.1111111111111111,
              "#46039f"
             ],
             [
              0.2222222222222222,
              "#7201a8"
             ],
             [
              0.3333333333333333,
              "#9c179e"
             ],
             [
              0.4444444444444444,
              "#bd3786"
             ],
             [
              0.5555555555555556,
              "#d8576b"
             ],
             [
              0.6666666666666666,
              "#ed7953"
             ],
             [
              0.7777777777777778,
              "#fb9f3a"
             ],
             [
              0.8888888888888888,
              "#fdca26"
             ],
             [
              1,
              "#f0f921"
             ]
            ],
            "type": "histogram2dcontour"
           }
          ],
          "mesh3d": [
           {
            "colorbar": {
             "outlinewidth": 0,
             "ticks": ""
            },
            "type": "mesh3d"
           }
          ],
          "parcoords": [
           {
            "line": {
             "colorbar": {
              "outlinewidth": 0,
              "ticks": ""
             }
            },
            "type": "parcoords"
           }
          ],
          "pie": [
           {
            "automargin": true,
            "type": "pie"
           }
          ],
          "scatter": [
           {
            "fillpattern": {
             "fillmode": "overlay",
             "size": 10,
             "solidity": 0.2
            },
            "type": "scatter"
           }
          ],
          "scatter3d": [
           {
            "line": {
             "colorbar": {
              "outlinewidth": 0,
              "ticks": ""
             }
            },
            "marker": {
             "colorbar": {
              "outlinewidth": 0,
              "ticks": ""
             }
            },
            "type": "scatter3d"
           }
          ],
          "scattercarpet": [
           {
            "marker": {
             "colorbar": {
              "outlinewidth": 0,
              "ticks": ""
             }
            },
            "type": "scattercarpet"
           }
          ],
          "scattergeo": [
           {
            "marker": {
             "colorbar": {
              "outlinewidth": 0,
              "ticks": ""
             }
            },
            "type": "scattergeo"
           }
          ],
          "scattergl": [
           {
            "marker": {
             "colorbar": {
              "outlinewidth": 0,
              "ticks": ""
             }
            },
            "type": "scattergl"
           }
          ],
          "scattermapbox": [
           {
            "marker": {
             "colorbar": {
              "outlinewidth": 0,
              "ticks": ""
             }
            },
            "type": "scattermapbox"
           }
          ],
          "scatterpolar": [
           {
            "marker": {
             "colorbar": {
              "outlinewidth": 0,
              "ticks": ""
             }
            },
            "type": "scatterpolar"
           }
          ],
          "scatterpolargl": [
           {
            "marker": {
             "colorbar": {
              "outlinewidth": 0,
              "ticks": ""
             }
            },
            "type": "scatterpolargl"
           }
          ],
          "scatterternary": [
           {
            "marker": {
             "colorbar": {
              "outlinewidth": 0,
              "ticks": ""
             }
            },
            "type": "scatterternary"
           }
          ],
          "surface": [
           {
            "colorbar": {
             "outlinewidth": 0,
             "ticks": ""
            },
            "colorscale": [
             [
              0,
              "#0d0887"
             ],
             [
              0.1111111111111111,
              "#46039f"
             ],
             [
              0.2222222222222222,
              "#7201a8"
             ],
             [
              0.3333333333333333,
              "#9c179e"
             ],
             [
              0.4444444444444444,
              "#bd3786"
             ],
             [
              0.5555555555555556,
              "#d8576b"
             ],
             [
              0.6666666666666666,
              "#ed7953"
             ],
             [
              0.7777777777777778,
              "#fb9f3a"
             ],
             [
              0.8888888888888888,
              "#fdca26"
             ],
             [
              1,
              "#f0f921"
             ]
            ],
            "type": "surface"
           }
          ],
          "table": [
           {
            "cells": {
             "fill": {
              "color": "#EBF0F8"
             },
             "line": {
              "color": "white"
             }
            },
            "header": {
             "fill": {
              "color": "#C8D4E3"
             },
             "line": {
              "color": "white"
             }
            },
            "type": "table"
           }
          ]
         },
         "layout": {
          "annotationdefaults": {
           "arrowcolor": "#2a3f5f",
           "arrowhead": 0,
           "arrowwidth": 1
          },
          "autotypenumbers": "strict",
          "coloraxis": {
           "colorbar": {
            "outlinewidth": 0,
            "ticks": ""
           }
          },
          "colorscale": {
           "diverging": [
            [
             0,
             "#8e0152"
            ],
            [
             0.1,
             "#c51b7d"
            ],
            [
             0.2,
             "#de77ae"
            ],
            [
             0.3,
             "#f1b6da"
            ],
            [
             0.4,
             "#fde0ef"
            ],
            [
             0.5,
             "#f7f7f7"
            ],
            [
             0.6,
             "#e6f5d0"
            ],
            [
             0.7,
             "#b8e186"
            ],
            [
             0.8,
             "#7fbc41"
            ],
            [
             0.9,
             "#4d9221"
            ],
            [
             1,
             "#276419"
            ]
           ],
           "sequential": [
            [
             0,
             "#0d0887"
            ],
            [
             0.1111111111111111,
             "#46039f"
            ],
            [
             0.2222222222222222,
             "#7201a8"
            ],
            [
             0.3333333333333333,
             "#9c179e"
            ],
            [
             0.4444444444444444,
             "#bd3786"
            ],
            [
             0.5555555555555556,
             "#d8576b"
            ],
            [
             0.6666666666666666,
             "#ed7953"
            ],
            [
             0.7777777777777778,
             "#fb9f3a"
            ],
            [
             0.8888888888888888,
             "#fdca26"
            ],
            [
             1,
             "#f0f921"
            ]
           ],
           "sequentialminus": [
            [
             0,
             "#0d0887"
            ],
            [
             0.1111111111111111,
             "#46039f"
            ],
            [
             0.2222222222222222,
             "#7201a8"
            ],
            [
             0.3333333333333333,
             "#9c179e"
            ],
            [
             0.4444444444444444,
             "#bd3786"
            ],
            [
             0.5555555555555556,
             "#d8576b"
            ],
            [
             0.6666666666666666,
             "#ed7953"
            ],
            [
             0.7777777777777778,
             "#fb9f3a"
            ],
            [
             0.8888888888888888,
             "#fdca26"
            ],
            [
             1,
             "#f0f921"
            ]
           ]
          },
          "colorway": [
           "#636efa",
           "#EF553B",
           "#00cc96",
           "#ab63fa",
           "#FFA15A",
           "#19d3f3",
           "#FF6692",
           "#B6E880",
           "#FF97FF",
           "#FECB52"
          ],
          "font": {
           "color": "#2a3f5f"
          },
          "geo": {
           "bgcolor": "white",
           "lakecolor": "white",
           "landcolor": "#E5ECF6",
           "showlakes": true,
           "showland": true,
           "subunitcolor": "white"
          },
          "hoverlabel": {
           "align": "left"
          },
          "hovermode": "closest",
          "mapbox": {
           "style": "light"
          },
          "paper_bgcolor": "white",
          "plot_bgcolor": "#E5ECF6",
          "polar": {
           "angularaxis": {
            "gridcolor": "white",
            "linecolor": "white",
            "ticks": ""
           },
           "bgcolor": "#E5ECF6",
           "radialaxis": {
            "gridcolor": "white",
            "linecolor": "white",
            "ticks": ""
           }
          },
          "scene": {
           "xaxis": {
            "backgroundcolor": "#E5ECF6",
            "gridcolor": "white",
            "gridwidth": 2,
            "linecolor": "white",
            "showbackground": true,
            "ticks": "",
            "zerolinecolor": "white"
           },
           "yaxis": {
            "backgroundcolor": "#E5ECF6",
            "gridcolor": "white",
            "gridwidth": 2,
            "linecolor": "white",
            "showbackground": true,
            "ticks": "",
            "zerolinecolor": "white"
           },
           "zaxis": {
            "backgroundcolor": "#E5ECF6",
            "gridcolor": "white",
            "gridwidth": 2,
            "linecolor": "white",
            "showbackground": true,
            "ticks": "",
            "zerolinecolor": "white"
           }
          },
          "shapedefaults": {
           "line": {
            "color": "#2a3f5f"
           }
          },
          "ternary": {
           "aaxis": {
            "gridcolor": "white",
            "linecolor": "white",
            "ticks": ""
           },
           "baxis": {
            "gridcolor": "white",
            "linecolor": "white",
            "ticks": ""
           },
           "bgcolor": "#E5ECF6",
           "caxis": {
            "gridcolor": "white",
            "linecolor": "white",
            "ticks": ""
           }
          },
          "title": {
           "x": 0.05
          },
          "xaxis": {
           "automargin": true,
           "gridcolor": "white",
           "linecolor": "white",
           "ticks": "",
           "title": {
            "standoff": 15
           },
           "zerolinecolor": "white",
           "zerolinewidth": 2
          },
          "yaxis": {
           "automargin": true,
           "gridcolor": "white",
           "linecolor": "white",
           "ticks": "",
           "title": {
            "standoff": 15
           },
           "zerolinecolor": "white",
           "zerolinewidth": 2
          }
         }
        }
       }
      }
     },
     "metadata": {},
     "output_type": "display_data"
    }
   ],
   "source": [
    "fig = px.scatter_3d(df, x='feature1', y='feature2', z='target')\n",
    "fig.show()"
   ]
  },
  {
   "cell_type": "code",
   "execution_count": 37,
   "id": "d0ae9f98",
   "metadata": {},
   "outputs": [
    {
     "data": {
      "text/html": [
       "<style>#sk-container-id-1 {\n",
       "  /* Definition of color scheme common for light and dark mode */\n",
       "  --sklearn-color-text: black;\n",
       "  --sklearn-color-line: gray;\n",
       "  /* Definition of color scheme for unfitted estimators */\n",
       "  --sklearn-color-unfitted-level-0: #fff5e6;\n",
       "  --sklearn-color-unfitted-level-1: #f6e4d2;\n",
       "  --sklearn-color-unfitted-level-2: #ffe0b3;\n",
       "  --sklearn-color-unfitted-level-3: chocolate;\n",
       "  /* Definition of color scheme for fitted estimators */\n",
       "  --sklearn-color-fitted-level-0: #f0f8ff;\n",
       "  --sklearn-color-fitted-level-1: #d4ebff;\n",
       "  --sklearn-color-fitted-level-2: #b3dbfd;\n",
       "  --sklearn-color-fitted-level-3: cornflowerblue;\n",
       "\n",
       "  /* Specific color for light theme */\n",
       "  --sklearn-color-text-on-default-background: var(--sg-text-color, var(--theme-code-foreground, var(--jp-content-font-color1, black)));\n",
       "  --sklearn-color-background: var(--sg-background-color, var(--theme-background, var(--jp-layout-color0, white)));\n",
       "  --sklearn-color-border-box: var(--sg-text-color, var(--theme-code-foreground, var(--jp-content-font-color1, black)));\n",
       "  --sklearn-color-icon: #696969;\n",
       "\n",
       "  @media (prefers-color-scheme: dark) {\n",
       "    /* Redefinition of color scheme for dark theme */\n",
       "    --sklearn-color-text-on-default-background: var(--sg-text-color, var(--theme-code-foreground, var(--jp-content-font-color1, white)));\n",
       "    --sklearn-color-background: var(--sg-background-color, var(--theme-background, var(--jp-layout-color0, #111)));\n",
       "    --sklearn-color-border-box: var(--sg-text-color, var(--theme-code-foreground, var(--jp-content-font-color1, white)));\n",
       "    --sklearn-color-icon: #878787;\n",
       "  }\n",
       "}\n",
       "\n",
       "#sk-container-id-1 {\n",
       "  color: var(--sklearn-color-text);\n",
       "}\n",
       "\n",
       "#sk-container-id-1 pre {\n",
       "  padding: 0;\n",
       "}\n",
       "\n",
       "#sk-container-id-1 input.sk-hidden--visually {\n",
       "  border: 0;\n",
       "  clip: rect(1px 1px 1px 1px);\n",
       "  clip: rect(1px, 1px, 1px, 1px);\n",
       "  height: 1px;\n",
       "  margin: -1px;\n",
       "  overflow: hidden;\n",
       "  padding: 0;\n",
       "  position: absolute;\n",
       "  width: 1px;\n",
       "}\n",
       "\n",
       "#sk-container-id-1 div.sk-dashed-wrapped {\n",
       "  border: 1px dashed var(--sklearn-color-line);\n",
       "  margin: 0 0.4em 0.5em 0.4em;\n",
       "  box-sizing: border-box;\n",
       "  padding-bottom: 0.4em;\n",
       "  background-color: var(--sklearn-color-background);\n",
       "}\n",
       "\n",
       "#sk-container-id-1 div.sk-container {\n",
       "  /* jupyter's `normalize.less` sets `[hidden] { display: none; }`\n",
       "     but bootstrap.min.css set `[hidden] { display: none !important; }`\n",
       "     so we also need the `!important` here to be able to override the\n",
       "     default hidden behavior on the sphinx rendered scikit-learn.org.\n",
       "     See: https://github.com/scikit-learn/scikit-learn/issues/21755 */\n",
       "  display: inline-block !important;\n",
       "  position: relative;\n",
       "}\n",
       "\n",
       "#sk-container-id-1 div.sk-text-repr-fallback {\n",
       "  display: none;\n",
       "}\n",
       "\n",
       "div.sk-parallel-item,\n",
       "div.sk-serial,\n",
       "div.sk-item {\n",
       "  /* draw centered vertical line to link estimators */\n",
       "  background-image: linear-gradient(var(--sklearn-color-text-on-default-background), var(--sklearn-color-text-on-default-background));\n",
       "  background-size: 2px 100%;\n",
       "  background-repeat: no-repeat;\n",
       "  background-position: center center;\n",
       "}\n",
       "\n",
       "/* Parallel-specific style estimator block */\n",
       "\n",
       "#sk-container-id-1 div.sk-parallel-item::after {\n",
       "  content: \"\";\n",
       "  width: 100%;\n",
       "  border-bottom: 2px solid var(--sklearn-color-text-on-default-background);\n",
       "  flex-grow: 1;\n",
       "}\n",
       "\n",
       "#sk-container-id-1 div.sk-parallel {\n",
       "  display: flex;\n",
       "  align-items: stretch;\n",
       "  justify-content: center;\n",
       "  background-color: var(--sklearn-color-background);\n",
       "  position: relative;\n",
       "}\n",
       "\n",
       "#sk-container-id-1 div.sk-parallel-item {\n",
       "  display: flex;\n",
       "  flex-direction: column;\n",
       "}\n",
       "\n",
       "#sk-container-id-1 div.sk-parallel-item:first-child::after {\n",
       "  align-self: flex-end;\n",
       "  width: 50%;\n",
       "}\n",
       "\n",
       "#sk-container-id-1 div.sk-parallel-item:last-child::after {\n",
       "  align-self: flex-start;\n",
       "  width: 50%;\n",
       "}\n",
       "\n",
       "#sk-container-id-1 div.sk-parallel-item:only-child::after {\n",
       "  width: 0;\n",
       "}\n",
       "\n",
       "/* Serial-specific style estimator block */\n",
       "\n",
       "#sk-container-id-1 div.sk-serial {\n",
       "  display: flex;\n",
       "  flex-direction: column;\n",
       "  align-items: center;\n",
       "  background-color: var(--sklearn-color-background);\n",
       "  padding-right: 1em;\n",
       "  padding-left: 1em;\n",
       "}\n",
       "\n",
       "\n",
       "/* Toggleable style: style used for estimator/Pipeline/ColumnTransformer box that is\n",
       "clickable and can be expanded/collapsed.\n",
       "- Pipeline and ColumnTransformer use this feature and define the default style\n",
       "- Estimators will overwrite some part of the style using the `sk-estimator` class\n",
       "*/\n",
       "\n",
       "/* Pipeline and ColumnTransformer style (default) */\n",
       "\n",
       "#sk-container-id-1 div.sk-toggleable {\n",
       "  /* Default theme specific background. It is overwritten whether we have a\n",
       "  specific estimator or a Pipeline/ColumnTransformer */\n",
       "  background-color: var(--sklearn-color-background);\n",
       "}\n",
       "\n",
       "/* Toggleable label */\n",
       "#sk-container-id-1 label.sk-toggleable__label {\n",
       "  cursor: pointer;\n",
       "  display: block;\n",
       "  width: 100%;\n",
       "  margin-bottom: 0;\n",
       "  padding: 0.5em;\n",
       "  box-sizing: border-box;\n",
       "  text-align: center;\n",
       "}\n",
       "\n",
       "#sk-container-id-1 label.sk-toggleable__label-arrow:before {\n",
       "  /* Arrow on the left of the label */\n",
       "  content: \"▸\";\n",
       "  float: left;\n",
       "  margin-right: 0.25em;\n",
       "  color: var(--sklearn-color-icon);\n",
       "}\n",
       "\n",
       "#sk-container-id-1 label.sk-toggleable__label-arrow:hover:before {\n",
       "  color: var(--sklearn-color-text);\n",
       "}\n",
       "\n",
       "/* Toggleable content - dropdown */\n",
       "\n",
       "#sk-container-id-1 div.sk-toggleable__content {\n",
       "  max-height: 0;\n",
       "  max-width: 0;\n",
       "  overflow: hidden;\n",
       "  text-align: left;\n",
       "  /* unfitted */\n",
       "  background-color: var(--sklearn-color-unfitted-level-0);\n",
       "}\n",
       "\n",
       "#sk-container-id-1 div.sk-toggleable__content.fitted {\n",
       "  /* fitted */\n",
       "  background-color: var(--sklearn-color-fitted-level-0);\n",
       "}\n",
       "\n",
       "#sk-container-id-1 div.sk-toggleable__content pre {\n",
       "  margin: 0.2em;\n",
       "  border-radius: 0.25em;\n",
       "  color: var(--sklearn-color-text);\n",
       "  /* unfitted */\n",
       "  background-color: var(--sklearn-color-unfitted-level-0);\n",
       "}\n",
       "\n",
       "#sk-container-id-1 div.sk-toggleable__content.fitted pre {\n",
       "  /* unfitted */\n",
       "  background-color: var(--sklearn-color-fitted-level-0);\n",
       "}\n",
       "\n",
       "#sk-container-id-1 input.sk-toggleable__control:checked~div.sk-toggleable__content {\n",
       "  /* Expand drop-down */\n",
       "  max-height: 200px;\n",
       "  max-width: 100%;\n",
       "  overflow: auto;\n",
       "}\n",
       "\n",
       "#sk-container-id-1 input.sk-toggleable__control:checked~label.sk-toggleable__label-arrow:before {\n",
       "  content: \"▾\";\n",
       "}\n",
       "\n",
       "/* Pipeline/ColumnTransformer-specific style */\n",
       "\n",
       "#sk-container-id-1 div.sk-label input.sk-toggleable__control:checked~label.sk-toggleable__label {\n",
       "  color: var(--sklearn-color-text);\n",
       "  background-color: var(--sklearn-color-unfitted-level-2);\n",
       "}\n",
       "\n",
       "#sk-container-id-1 div.sk-label.fitted input.sk-toggleable__control:checked~label.sk-toggleable__label {\n",
       "  background-color: var(--sklearn-color-fitted-level-2);\n",
       "}\n",
       "\n",
       "/* Estimator-specific style */\n",
       "\n",
       "/* Colorize estimator box */\n",
       "#sk-container-id-1 div.sk-estimator input.sk-toggleable__control:checked~label.sk-toggleable__label {\n",
       "  /* unfitted */\n",
       "  background-color: var(--sklearn-color-unfitted-level-2);\n",
       "}\n",
       "\n",
       "#sk-container-id-1 div.sk-estimator.fitted input.sk-toggleable__control:checked~label.sk-toggleable__label {\n",
       "  /* fitted */\n",
       "  background-color: var(--sklearn-color-fitted-level-2);\n",
       "}\n",
       "\n",
       "#sk-container-id-1 div.sk-label label.sk-toggleable__label,\n",
       "#sk-container-id-1 div.sk-label label {\n",
       "  /* The background is the default theme color */\n",
       "  color: var(--sklearn-color-text-on-default-background);\n",
       "}\n",
       "\n",
       "/* On hover, darken the color of the background */\n",
       "#sk-container-id-1 div.sk-label:hover label.sk-toggleable__label {\n",
       "  color: var(--sklearn-color-text);\n",
       "  background-color: var(--sklearn-color-unfitted-level-2);\n",
       "}\n",
       "\n",
       "/* Label box, darken color on hover, fitted */\n",
       "#sk-container-id-1 div.sk-label.fitted:hover label.sk-toggleable__label.fitted {\n",
       "  color: var(--sklearn-color-text);\n",
       "  background-color: var(--sklearn-color-fitted-level-2);\n",
       "}\n",
       "\n",
       "/* Estimator label */\n",
       "\n",
       "#sk-container-id-1 div.sk-label label {\n",
       "  font-family: monospace;\n",
       "  font-weight: bold;\n",
       "  display: inline-block;\n",
       "  line-height: 1.2em;\n",
       "}\n",
       "\n",
       "#sk-container-id-1 div.sk-label-container {\n",
       "  text-align: center;\n",
       "}\n",
       "\n",
       "/* Estimator-specific */\n",
       "#sk-container-id-1 div.sk-estimator {\n",
       "  font-family: monospace;\n",
       "  border: 1px dotted var(--sklearn-color-border-box);\n",
       "  border-radius: 0.25em;\n",
       "  box-sizing: border-box;\n",
       "  margin-bottom: 0.5em;\n",
       "  /* unfitted */\n",
       "  background-color: var(--sklearn-color-unfitted-level-0);\n",
       "}\n",
       "\n",
       "#sk-container-id-1 div.sk-estimator.fitted {\n",
       "  /* fitted */\n",
       "  background-color: var(--sklearn-color-fitted-level-0);\n",
       "}\n",
       "\n",
       "/* on hover */\n",
       "#sk-container-id-1 div.sk-estimator:hover {\n",
       "  /* unfitted */\n",
       "  background-color: var(--sklearn-color-unfitted-level-2);\n",
       "}\n",
       "\n",
       "#sk-container-id-1 div.sk-estimator.fitted:hover {\n",
       "  /* fitted */\n",
       "  background-color: var(--sklearn-color-fitted-level-2);\n",
       "}\n",
       "\n",
       "/* Specification for estimator info (e.g. \"i\" and \"?\") */\n",
       "\n",
       "/* Common style for \"i\" and \"?\" */\n",
       "\n",
       ".sk-estimator-doc-link,\n",
       "a:link.sk-estimator-doc-link,\n",
       "a:visited.sk-estimator-doc-link {\n",
       "  float: right;\n",
       "  font-size: smaller;\n",
       "  line-height: 1em;\n",
       "  font-family: monospace;\n",
       "  background-color: var(--sklearn-color-background);\n",
       "  border-radius: 1em;\n",
       "  height: 1em;\n",
       "  width: 1em;\n",
       "  text-decoration: none !important;\n",
       "  margin-left: 1ex;\n",
       "  /* unfitted */\n",
       "  border: var(--sklearn-color-unfitted-level-1) 1pt solid;\n",
       "  color: var(--sklearn-color-unfitted-level-1);\n",
       "}\n",
       "\n",
       ".sk-estimator-doc-link.fitted,\n",
       "a:link.sk-estimator-doc-link.fitted,\n",
       "a:visited.sk-estimator-doc-link.fitted {\n",
       "  /* fitted */\n",
       "  border: var(--sklearn-color-fitted-level-1) 1pt solid;\n",
       "  color: var(--sklearn-color-fitted-level-1);\n",
       "}\n",
       "\n",
       "/* On hover */\n",
       "div.sk-estimator:hover .sk-estimator-doc-link:hover,\n",
       ".sk-estimator-doc-link:hover,\n",
       "div.sk-label-container:hover .sk-estimator-doc-link:hover,\n",
       ".sk-estimator-doc-link:hover {\n",
       "  /* unfitted */\n",
       "  background-color: var(--sklearn-color-unfitted-level-3);\n",
       "  color: var(--sklearn-color-background);\n",
       "  text-decoration: none;\n",
       "}\n",
       "\n",
       "div.sk-estimator.fitted:hover .sk-estimator-doc-link.fitted:hover,\n",
       ".sk-estimator-doc-link.fitted:hover,\n",
       "div.sk-label-container:hover .sk-estimator-doc-link.fitted:hover,\n",
       ".sk-estimator-doc-link.fitted:hover {\n",
       "  /* fitted */\n",
       "  background-color: var(--sklearn-color-fitted-level-3);\n",
       "  color: var(--sklearn-color-background);\n",
       "  text-decoration: none;\n",
       "}\n",
       "\n",
       "/* Span, style for the box shown on hovering the info icon */\n",
       ".sk-estimator-doc-link span {\n",
       "  display: none;\n",
       "  z-index: 9999;\n",
       "  position: relative;\n",
       "  font-weight: normal;\n",
       "  right: .2ex;\n",
       "  padding: .5ex;\n",
       "  margin: .5ex;\n",
       "  width: min-content;\n",
       "  min-width: 20ex;\n",
       "  max-width: 50ex;\n",
       "  color: var(--sklearn-color-text);\n",
       "  box-shadow: 2pt 2pt 4pt #999;\n",
       "  /* unfitted */\n",
       "  background: var(--sklearn-color-unfitted-level-0);\n",
       "  border: .5pt solid var(--sklearn-color-unfitted-level-3);\n",
       "}\n",
       "\n",
       ".sk-estimator-doc-link.fitted span {\n",
       "  /* fitted */\n",
       "  background: var(--sklearn-color-fitted-level-0);\n",
       "  border: var(--sklearn-color-fitted-level-3);\n",
       "}\n",
       "\n",
       ".sk-estimator-doc-link:hover span {\n",
       "  display: block;\n",
       "}\n",
       "\n",
       "/* \"?\"-specific style due to the `<a>` HTML tag */\n",
       "\n",
       "#sk-container-id-1 a.estimator_doc_link {\n",
       "  float: right;\n",
       "  font-size: 1rem;\n",
       "  line-height: 1em;\n",
       "  font-family: monospace;\n",
       "  background-color: var(--sklearn-color-background);\n",
       "  border-radius: 1rem;\n",
       "  height: 1rem;\n",
       "  width: 1rem;\n",
       "  text-decoration: none;\n",
       "  /* unfitted */\n",
       "  color: var(--sklearn-color-unfitted-level-1);\n",
       "  border: var(--sklearn-color-unfitted-level-1) 1pt solid;\n",
       "}\n",
       "\n",
       "#sk-container-id-1 a.estimator_doc_link.fitted {\n",
       "  /* fitted */\n",
       "  border: var(--sklearn-color-fitted-level-1) 1pt solid;\n",
       "  color: var(--sklearn-color-fitted-level-1);\n",
       "}\n",
       "\n",
       "/* On hover */\n",
       "#sk-container-id-1 a.estimator_doc_link:hover {\n",
       "  /* unfitted */\n",
       "  background-color: var(--sklearn-color-unfitted-level-3);\n",
       "  color: var(--sklearn-color-background);\n",
       "  text-decoration: none;\n",
       "}\n",
       "\n",
       "#sk-container-id-1 a.estimator_doc_link.fitted:hover {\n",
       "  /* fitted */\n",
       "  background-color: var(--sklearn-color-fitted-level-3);\n",
       "}\n",
       "</style><div id=\"sk-container-id-1\" class=\"sk-top-container\"><div class=\"sk-text-repr-fallback\"><pre>LinearRegression()</pre><b>In a Jupyter environment, please rerun this cell to show the HTML representation or trust the notebook. <br />On GitHub, the HTML representation is unable to render, please try loading this page with nbviewer.org.</b></div><div class=\"sk-container\" hidden><div class=\"sk-item\"><div class=\"sk-estimator fitted sk-toggleable\"><input class=\"sk-toggleable__control sk-hidden--visually\" id=\"sk-estimator-id-1\" type=\"checkbox\" checked><label for=\"sk-estimator-id-1\" class=\"sk-toggleable__label fitted sk-toggleable__label-arrow fitted\">&nbsp;&nbsp;LinearRegression<a class=\"sk-estimator-doc-link fitted\" rel=\"noreferrer\" target=\"_blank\" href=\"https://scikit-learn.org/1.5/modules/generated/sklearn.linear_model.LinearRegression.html\">?<span>Documentation for LinearRegression</span></a><span class=\"sk-estimator-doc-link fitted\">i<span>Fitted</span></span></label><div class=\"sk-toggleable__content fitted\"><pre>LinearRegression()</pre></div> </div></div></div></div>"
      ],
      "text/plain": [
       "LinearRegression()"
      ]
     },
     "execution_count": 37,
     "metadata": {},
     "output_type": "execute_result"
    }
   ],
   "source": [
    "from sklearn.model_selection import train_test_split\n",
    "x_train,x_test,y_train,y_test = train_test_split(x,y,test_size=0.2,random_state=3)\n",
    "from sklearn.linear_model import LinearRegression\n",
    "lr = LinearRegression()\n",
    "lr.fit(x_train,y_train)"
   ]
  },
  {
   "cell_type": "code",
   "execution_count": 38,
   "id": "e82d04b2",
   "metadata": {},
   "outputs": [],
   "source": [
    "y_pred = lr.predict(x_test)"
   ]
  },
  {
   "cell_type": "code",
   "execution_count": 39,
   "id": "de3cf21b",
   "metadata": {},
   "outputs": [
    {
     "name": "stdout",
     "output_type": "stream",
     "text": [
      "MAE 41.43640424400537\n",
      "MSE 2437.338718190928\n",
      "R2 score 0.5068120918769883\n"
     ]
    }
   ],
   "source": [
    "print(\"MAE\",mean_absolute_error(y_test,y_pred))\n",
    "print(\"MSE\",mean_squared_error(y_test,y_pred))\n",
    "print(\"R2 score\",r2_score(y_test,y_pred))"
   ]
  },
  {
   "cell_type": "code",
   "execution_count": 40,
   "id": "7f8983d3",
   "metadata": {},
   "outputs": [
    {
     "data": {
      "application/vnd.plotly.v1+json": {
       "config": {
        "plotlyServerURL": "https://plot.ly"
       },
       "data": [
        {
         "marker": {
          "color": "blue",
          "size": 4
         },
         "mode": "markers",
         "name": "Actual Data",
         "type": "scatter3d",
         "x": [
          -1.7077487723292268,
          -0.09669939064326183,
          0.4460158144484434,
          -0.25632747671482653,
          -0.07052533530145873,
          0.3104518577802936,
          1.5205543997612363,
          -1.6493892525999403,
          1.5199722865186551,
          -0.3373043838222666,
          1.0160019740250867,
          -2.1246909250330765,
          0.6336381180309941,
          -0.8360114567382783,
          0.7201339276797194,
          -1.3176582148913973,
          -0.9179667405121081,
          0.6832956472712611,
          0.06796557037102112,
          -0.3612674149209946,
          0.5650863516705241,
          0.775512820041089,
          1.1515087171725342,
          0.004027189880241762,
          -0.726967038663463,
          0.13185316565455335,
          0.3279418936010442,
          0.061656466527222446,
          1.9113782648926323,
          -1.3382121959527407,
          0.42071373449439936,
          -0.2561793059106879,
          -0.41019276634627505,
          -0.5950518502809227,
          0.17625776038753113,
          0.8118889684166765,
          -0.968812659005146,
          2.1748955145770137,
          -1.8694467375755879,
          0.35947847626349855,
          -1.0325925772400948,
          -0.4883883042112778,
          0.463888112894473,
          0.31270973940247626,
          -0.6573174162554041,
          -0.46670735221989024,
          -1.2082668781653705,
          1.0878464401822898,
          -2.6192598555708813,
          -1.0254496343848531,
          -0.6524353985610483,
          0.28707816340536196,
          0.8883029429412884,
          1.0108579233619408,
          -1.5738829625160926,
          -0.3987121392594112,
          -0.6398447071058095,
          0.6709950552331955,
          -0.7439779213027234,
          -1.1540314741805502,
          0.8911815475687723,
          1.5010056141197943,
          -0.13112773404205605,
          0.10141091776526684,
          2.6527446589540635,
          -0.38383580717223587,
          -1.2705639347187159,
          -1.00358019655432,
          -3.9964527663142806,
          1.9074342872957324,
          -0.6050607355174699,
          1.2020593213057789,
          -2.345388379161939,
          -0.1646984400471218,
          2.0424827188369052,
          -1.5366620399791917,
          -1.20115009950287,
          -1.2196209101712463,
          -0.042346967072294905,
          -0.5253656508483161,
          -0.03983258252992016,
          -2.383306275641221,
          1.528164001255755,
          0.7197739771956445,
          2.255384126448613,
          -2.3090015669208723,
          -0.3437301473541824,
          -0.8336625581627676,
          0.8454792805622824,
          -1.243682521216024,
          -0.7058450456717864,
          0.8071510210367694,
          0.13865194808297027,
          -0.37140082065679,
          0.6707502185550523,
          -0.4029701251564703,
          1.9138560643588114,
          -1.1833031949337032,
          -1.3939407887383852,
          1.3178313695310073
         ],
         "y": [
          -0.12308980250896397,
          -0.22350434280252032,
          1.3946725024896136,
          -1.4959534078587684,
          -1.0815658603019795,
          -1.5841039029602146,
          0.21403629412406075,
          -1.055670375085299,
          -0.02286491009078143,
          -0.8549469175638201,
          -1.371880189032002,
          0.6465836513966159,
          0.8945165941924986,
          -0.1105166878303111,
          -0.7947525167894779,
          -1.2904718456260345,
          -1.4645578897638671,
          -0.8988362679375564,
          -1.1980065062535943,
          0.9008425310095037,
          -1.4544271747588853,
          1.7784740351031194,
          -1.4408415128996666,
          -1.1202319580942517,
          -0.24677482667827053,
          0.35688523533665895,
          -0.49416913929749573,
          0.7821906503477012,
          -0.7005605966669054,
          0.14781985158127772,
          0.4386838252647745,
          1.5121572870085604,
          -1.7930065024453603,
          0.23050626482048234,
          -1.4628264474895243,
          0.5856908211787515,
          -0.3589464086738161,
          -0.4279503509551293,
          -1.7991197910223464,
          -0.15270755230884306,
          -0.37088036752413045,
          1.0775745247026758,
          -0.1604865618007504,
          0.164809282705133,
          0.8592967997609593,
          0.4408406030719531,
          0.33916683674961,
          1.0121259000581344,
          0.07574362000067414,
          -1.2710892372319846,
          -0.43559293120135534,
          -0.37094637396431174,
          -1.1341084417619316,
          1.1154250699791104,
          1.297207880550535,
          0.443090540394375,
          -0.26829264121250257,
          -1.491682175880226,
          0.4476129895937652,
          0.4809974980992992,
          -1.7738378914846138,
          -1.03549727601338,
          -0.5241190825594447,
          0.3848283999232367,
          0.5671874012137781,
          1.7927500112478127,
          0.5159078865948763,
          0.2403305033481198,
          -0.35530789122490813,
          -0.2828213187421201,
          -2.0169590025336848,
          0.1366406286063216,
          -0.07295842317399594,
          -0.9492197358778897,
          -0.23107569769470376,
          -0.17509810349515792,
          0.0995509043952448,
          1.2783775293547361,
          -0.5179222476420622,
          -0.1437986575741156,
          -1.738949056258808,
          1.0669781704192167,
          0.9523118349911488,
          0.36673364011471415,
          -1.5402397140595459,
          0.1602468209168824,
          0.22552644085779655,
          0.9587169653126371,
          -0.805726865823831,
          -1.6256094254213582,
          2.011188289722997,
          -0.7166224950215234,
          1.2942198491809362,
          -0.21267424214052416,
          0.3461660829447693,
          0.5072187369088891,
          -1.2499250267725202,
          -0.06768428103401411,
          0.738086782060987,
          0.4646556001263645
         ],
         "z": [
          -64.67102518524665,
          -23.578634270093445,
          80.687808876878,
          -54.371837723992186,
          -72.1270679809594,
          -53.32411319518346,
          -6.361686680094465,
          -45.98691279977582,
          110.28090113705318,
          32.09975557756675,
          -39.56686816278662,
          -24.249621310442215,
          -19.31045671966251,
          -53.202731391844715,
          62.9172779976248,
          -126.21094582856406,
          -50.00762495519064,
          -28.537676826618906,
          21.64068291471921,
          59.172761775884496,
          45.758594345976825,
          11.479158899076495,
          58.73524406321418,
          -36.201784176464095,
          17.7326081467763,
          9.433649307123078,
          44.624090867719055,
          109.82836653472938,
          -19.035670529875404,
          -85.47208944159622,
          21.026851805229015,
          -61.323693073583286,
          -2.2229029254275474,
          -27.239664985952167,
          81.31387945906691,
          -7.717029991590586,
          -103.88332192131978,
          88.91253041379036,
          -76.75376818180108,
          -7.458089115298771,
          -120.47435175357137,
          -20.69812558082565,
          0.843779806489243,
          39.18803464087954,
          -14.633252539104951,
          6.579511446676347,
          12.22585137533386,
          54.10561134338265,
          -52.74592855076867,
          -92.43610667980565,
          24.709043006113667,
          -22.52417654226511,
          -31.242955848093363,
          -6.137556980554535,
          32.07398083997464,
          -49.622024043235214,
          11.496419542017005,
          11.905465219747612,
          -43.85683012014562,
          -50.900800852575465,
          -14.661932289154066,
          -97.22626222594536,
          -39.29448591122642,
          26.276725672824288,
          114.34436915926878,
          40.95093841604209,
          36.45681965507543,
          2.4183305560626067,
          -173.37347172986634,
          45.582553238818335,
          -53.55550779816617,
          60.373384750854896,
          -16.583578197447018,
          -78.75905073962284,
          26.342134856171253,
          -67.36872879358039,
          -71.76808225972405,
          24.63198120622474,
          37.66822031091209,
          -85.45000045023293,
          -83.61607859335295,
          1.1265931012160806,
          148.3804931165804,
          73.06105227058956,
          52.71943800603697,
          -76.41232855474506,
          57.6073561846842,
          -5.535631596340922,
          71.08139318546446,
          -45.16173866749997,
          78.77246949128009,
          -10.074649943359011,
          -95.08481651607349,
          -72.31952525841469,
          -1.8539959514727222,
          -44.848083606847766,
          52.80206216851545,
          -95.53959709282708,
          -71.69246375358892,
          73.03613507573348
         ]
        },
        {
         "colorscale": [
          [
           0,
           "#440154"
          ],
          [
           0.1111111111111111,
           "#482878"
          ],
          [
           0.2222222222222222,
           "#3e4989"
          ],
          [
           0.3333333333333333,
           "#31688e"
          ],
          [
           0.4444444444444444,
           "#26828e"
          ],
          [
           0.5555555555555556,
           "#1f9e89"
          ],
          [
           0.6666666666666666,
           "#35b779"
          ],
          [
           0.7777777777777778,
           "#6ece58"
          ],
          [
           0.8888888888888888,
           "#b5de2b"
          ],
          [
           1,
           "#fde725"
          ]
         ],
         "name": "Regression Plane",
         "opacity": 0.5,
         "type": "surface",
         "x": [
          [
           -3.9964527663142806,
           -3.7671700964774413,
           -3.5378874266406015,
           -3.308604756803762,
           -3.079322086966923,
           -2.850039417130083,
           -2.620756747293244,
           -2.3914740774564045,
           -2.1621914076195647,
           -1.9329087377827254,
           -1.7036260679458861,
           -1.4743433981090468,
           -1.245060728272207,
           -1.0157780584353677,
           -0.7864953885985284,
           -0.5572127187616887,
           -0.32793004892484934,
           -0.09864737908801002,
           0.13063529074882974,
           0.3599179605856686,
           0.5892006304225084,
           0.8184833002593481,
           1.047765970096187,
           1.2770486399330268,
           1.5063313097698665,
           1.7356139796067054,
           1.9648966494435451,
           2.194179319280385,
           2.4234619891172238,
           2.6527446589540635
          ],
          [
           -3.9964527663142806,
           -3.7671700964774413,
           -3.5378874266406015,
           -3.308604756803762,
           -3.079322086966923,
           -2.850039417130083,
           -2.620756747293244,
           -2.3914740774564045,
           -2.1621914076195647,
           -1.9329087377827254,
           -1.7036260679458861,
           -1.4743433981090468,
           -1.245060728272207,
           -1.0157780584353677,
           -0.7864953885985284,
           -0.5572127187616887,
           -0.32793004892484934,
           -0.09864737908801002,
           0.13063529074882974,
           0.3599179605856686,
           0.5892006304225084,
           0.8184833002593481,
           1.047765970096187,
           1.2770486399330268,
           1.5063313097698665,
           1.7356139796067054,
           1.9648966494435451,
           2.194179319280385,
           2.4234619891172238,
           2.6527446589540635
          ],
          [
           -3.9964527663142806,
           -3.7671700964774413,
           -3.5378874266406015,
           -3.308604756803762,
           -3.079322086966923,
           -2.850039417130083,
           -2.620756747293244,
           -2.3914740774564045,
           -2.1621914076195647,
           -1.9329087377827254,
           -1.7036260679458861,
           -1.4743433981090468,
           -1.245060728272207,
           -1.0157780584353677,
           -0.7864953885985284,
           -0.5572127187616887,
           -0.32793004892484934,
           -0.09864737908801002,
           0.13063529074882974,
           0.3599179605856686,
           0.5892006304225084,
           0.8184833002593481,
           1.047765970096187,
           1.2770486399330268,
           1.5063313097698665,
           1.7356139796067054,
           1.9648966494435451,
           2.194179319280385,
           2.4234619891172238,
           2.6527446589540635
          ],
          [
           -3.9964527663142806,
           -3.7671700964774413,
           -3.5378874266406015,
           -3.308604756803762,
           -3.079322086966923,
           -2.850039417130083,
           -2.620756747293244,
           -2.3914740774564045,
           -2.1621914076195647,
           -1.9329087377827254,
           -1.7036260679458861,
           -1.4743433981090468,
           -1.245060728272207,
           -1.0157780584353677,
           -0.7864953885985284,
           -0.5572127187616887,
           -0.32793004892484934,
           -0.09864737908801002,
           0.13063529074882974,
           0.3599179605856686,
           0.5892006304225084,
           0.8184833002593481,
           1.047765970096187,
           1.2770486399330268,
           1.5063313097698665,
           1.7356139796067054,
           1.9648966494435451,
           2.194179319280385,
           2.4234619891172238,
           2.6527446589540635
          ],
          [
           -3.9964527663142806,
           -3.7671700964774413,
           -3.5378874266406015,
           -3.308604756803762,
           -3.079322086966923,
           -2.850039417130083,
           -2.620756747293244,
           -2.3914740774564045,
           -2.1621914076195647,
           -1.9329087377827254,
           -1.7036260679458861,
           -1.4743433981090468,
           -1.245060728272207,
           -1.0157780584353677,
           -0.7864953885985284,
           -0.5572127187616887,
           -0.32793004892484934,
           -0.09864737908801002,
           0.13063529074882974,
           0.3599179605856686,
           0.5892006304225084,
           0.8184833002593481,
           1.047765970096187,
           1.2770486399330268,
           1.5063313097698665,
           1.7356139796067054,
           1.9648966494435451,
           2.194179319280385,
           2.4234619891172238,
           2.6527446589540635
          ],
          [
           -3.9964527663142806,
           -3.7671700964774413,
           -3.5378874266406015,
           -3.308604756803762,
           -3.079322086966923,
           -2.850039417130083,
           -2.620756747293244,
           -2.3914740774564045,
           -2.1621914076195647,
           -1.9329087377827254,
           -1.7036260679458861,
           -1.4743433981090468,
           -1.245060728272207,
           -1.0157780584353677,
           -0.7864953885985284,
           -0.5572127187616887,
           -0.32793004892484934,
           -0.09864737908801002,
           0.13063529074882974,
           0.3599179605856686,
           0.5892006304225084,
           0.8184833002593481,
           1.047765970096187,
           1.2770486399330268,
           1.5063313097698665,
           1.7356139796067054,
           1.9648966494435451,
           2.194179319280385,
           2.4234619891172238,
           2.6527446589540635
          ],
          [
           -3.9964527663142806,
           -3.7671700964774413,
           -3.5378874266406015,
           -3.308604756803762,
           -3.079322086966923,
           -2.850039417130083,
           -2.620756747293244,
           -2.3914740774564045,
           -2.1621914076195647,
           -1.9329087377827254,
           -1.7036260679458861,
           -1.4743433981090468,
           -1.245060728272207,
           -1.0157780584353677,
           -0.7864953885985284,
           -0.5572127187616887,
           -0.32793004892484934,
           -0.09864737908801002,
           0.13063529074882974,
           0.3599179605856686,
           0.5892006304225084,
           0.8184833002593481,
           1.047765970096187,
           1.2770486399330268,
           1.5063313097698665,
           1.7356139796067054,
           1.9648966494435451,
           2.194179319280385,
           2.4234619891172238,
           2.6527446589540635
          ],
          [
           -3.9964527663142806,
           -3.7671700964774413,
           -3.5378874266406015,
           -3.308604756803762,
           -3.079322086966923,
           -2.850039417130083,
           -2.620756747293244,
           -2.3914740774564045,
           -2.1621914076195647,
           -1.9329087377827254,
           -1.7036260679458861,
           -1.4743433981090468,
           -1.245060728272207,
           -1.0157780584353677,
           -0.7864953885985284,
           -0.5572127187616887,
           -0.32793004892484934,
           -0.09864737908801002,
           0.13063529074882974,
           0.3599179605856686,
           0.5892006304225084,
           0.8184833002593481,
           1.047765970096187,
           1.2770486399330268,
           1.5063313097698665,
           1.7356139796067054,
           1.9648966494435451,
           2.194179319280385,
           2.4234619891172238,
           2.6527446589540635
          ],
          [
           -3.9964527663142806,
           -3.7671700964774413,
           -3.5378874266406015,
           -3.308604756803762,
           -3.079322086966923,
           -2.850039417130083,
           -2.620756747293244,
           -2.3914740774564045,
           -2.1621914076195647,
           -1.9329087377827254,
           -1.7036260679458861,
           -1.4743433981090468,
           -1.245060728272207,
           -1.0157780584353677,
           -0.7864953885985284,
           -0.5572127187616887,
           -0.32793004892484934,
           -0.09864737908801002,
           0.13063529074882974,
           0.3599179605856686,
           0.5892006304225084,
           0.8184833002593481,
           1.047765970096187,
           1.2770486399330268,
           1.5063313097698665,
           1.7356139796067054,
           1.9648966494435451,
           2.194179319280385,
           2.4234619891172238,
           2.6527446589540635
          ],
          [
           -3.9964527663142806,
           -3.7671700964774413,
           -3.5378874266406015,
           -3.308604756803762,
           -3.079322086966923,
           -2.850039417130083,
           -2.620756747293244,
           -2.3914740774564045,
           -2.1621914076195647,
           -1.9329087377827254,
           -1.7036260679458861,
           -1.4743433981090468,
           -1.245060728272207,
           -1.0157780584353677,
           -0.7864953885985284,
           -0.5572127187616887,
           -0.32793004892484934,
           -0.09864737908801002,
           0.13063529074882974,
           0.3599179605856686,
           0.5892006304225084,
           0.8184833002593481,
           1.047765970096187,
           1.2770486399330268,
           1.5063313097698665,
           1.7356139796067054,
           1.9648966494435451,
           2.194179319280385,
           2.4234619891172238,
           2.6527446589540635
          ],
          [
           -3.9964527663142806,
           -3.7671700964774413,
           -3.5378874266406015,
           -3.308604756803762,
           -3.079322086966923,
           -2.850039417130083,
           -2.620756747293244,
           -2.3914740774564045,
           -2.1621914076195647,
           -1.9329087377827254,
           -1.7036260679458861,
           -1.4743433981090468,
           -1.245060728272207,
           -1.0157780584353677,
           -0.7864953885985284,
           -0.5572127187616887,
           -0.32793004892484934,
           -0.09864737908801002,
           0.13063529074882974,
           0.3599179605856686,
           0.5892006304225084,
           0.8184833002593481,
           1.047765970096187,
           1.2770486399330268,
           1.5063313097698665,
           1.7356139796067054,
           1.9648966494435451,
           2.194179319280385,
           2.4234619891172238,
           2.6527446589540635
          ],
          [
           -3.9964527663142806,
           -3.7671700964774413,
           -3.5378874266406015,
           -3.308604756803762,
           -3.079322086966923,
           -2.850039417130083,
           -2.620756747293244,
           -2.3914740774564045,
           -2.1621914076195647,
           -1.9329087377827254,
           -1.7036260679458861,
           -1.4743433981090468,
           -1.245060728272207,
           -1.0157780584353677,
           -0.7864953885985284,
           -0.5572127187616887,
           -0.32793004892484934,
           -0.09864737908801002,
           0.13063529074882974,
           0.3599179605856686,
           0.5892006304225084,
           0.8184833002593481,
           1.047765970096187,
           1.2770486399330268,
           1.5063313097698665,
           1.7356139796067054,
           1.9648966494435451,
           2.194179319280385,
           2.4234619891172238,
           2.6527446589540635
          ],
          [
           -3.9964527663142806,
           -3.7671700964774413,
           -3.5378874266406015,
           -3.308604756803762,
           -3.079322086966923,
           -2.850039417130083,
           -2.620756747293244,
           -2.3914740774564045,
           -2.1621914076195647,
           -1.9329087377827254,
           -1.7036260679458861,
           -1.4743433981090468,
           -1.245060728272207,
           -1.0157780584353677,
           -0.7864953885985284,
           -0.5572127187616887,
           -0.32793004892484934,
           -0.09864737908801002,
           0.13063529074882974,
           0.3599179605856686,
           0.5892006304225084,
           0.8184833002593481,
           1.047765970096187,
           1.2770486399330268,
           1.5063313097698665,
           1.7356139796067054,
           1.9648966494435451,
           2.194179319280385,
           2.4234619891172238,
           2.6527446589540635
          ],
          [
           -3.9964527663142806,
           -3.7671700964774413,
           -3.5378874266406015,
           -3.308604756803762,
           -3.079322086966923,
           -2.850039417130083,
           -2.620756747293244,
           -2.3914740774564045,
           -2.1621914076195647,
           -1.9329087377827254,
           -1.7036260679458861,
           -1.4743433981090468,
           -1.245060728272207,
           -1.0157780584353677,
           -0.7864953885985284,
           -0.5572127187616887,
           -0.32793004892484934,
           -0.09864737908801002,
           0.13063529074882974,
           0.3599179605856686,
           0.5892006304225084,
           0.8184833002593481,
           1.047765970096187,
           1.2770486399330268,
           1.5063313097698665,
           1.7356139796067054,
           1.9648966494435451,
           2.194179319280385,
           2.4234619891172238,
           2.6527446589540635
          ],
          [
           -3.9964527663142806,
           -3.7671700964774413,
           -3.5378874266406015,
           -3.308604756803762,
           -3.079322086966923,
           -2.850039417130083,
           -2.620756747293244,
           -2.3914740774564045,
           -2.1621914076195647,
           -1.9329087377827254,
           -1.7036260679458861,
           -1.4743433981090468,
           -1.245060728272207,
           -1.0157780584353677,
           -0.7864953885985284,
           -0.5572127187616887,
           -0.32793004892484934,
           -0.09864737908801002,
           0.13063529074882974,
           0.3599179605856686,
           0.5892006304225084,
           0.8184833002593481,
           1.047765970096187,
           1.2770486399330268,
           1.5063313097698665,
           1.7356139796067054,
           1.9648966494435451,
           2.194179319280385,
           2.4234619891172238,
           2.6527446589540635
          ],
          [
           -3.9964527663142806,
           -3.7671700964774413,
           -3.5378874266406015,
           -3.308604756803762,
           -3.079322086966923,
           -2.850039417130083,
           -2.620756747293244,
           -2.3914740774564045,
           -2.1621914076195647,
           -1.9329087377827254,
           -1.7036260679458861,
           -1.4743433981090468,
           -1.245060728272207,
           -1.0157780584353677,
           -0.7864953885985284,
           -0.5572127187616887,
           -0.32793004892484934,
           -0.09864737908801002,
           0.13063529074882974,
           0.3599179605856686,
           0.5892006304225084,
           0.8184833002593481,
           1.047765970096187,
           1.2770486399330268,
           1.5063313097698665,
           1.7356139796067054,
           1.9648966494435451,
           2.194179319280385,
           2.4234619891172238,
           2.6527446589540635
          ],
          [
           -3.9964527663142806,
           -3.7671700964774413,
           -3.5378874266406015,
           -3.308604756803762,
           -3.079322086966923,
           -2.850039417130083,
           -2.620756747293244,
           -2.3914740774564045,
           -2.1621914076195647,
           -1.9329087377827254,
           -1.7036260679458861,
           -1.4743433981090468,
           -1.245060728272207,
           -1.0157780584353677,
           -0.7864953885985284,
           -0.5572127187616887,
           -0.32793004892484934,
           -0.09864737908801002,
           0.13063529074882974,
           0.3599179605856686,
           0.5892006304225084,
           0.8184833002593481,
           1.047765970096187,
           1.2770486399330268,
           1.5063313097698665,
           1.7356139796067054,
           1.9648966494435451,
           2.194179319280385,
           2.4234619891172238,
           2.6527446589540635
          ],
          [
           -3.9964527663142806,
           -3.7671700964774413,
           -3.5378874266406015,
           -3.308604756803762,
           -3.079322086966923,
           -2.850039417130083,
           -2.620756747293244,
           -2.3914740774564045,
           -2.1621914076195647,
           -1.9329087377827254,
           -1.7036260679458861,
           -1.4743433981090468,
           -1.245060728272207,
           -1.0157780584353677,
           -0.7864953885985284,
           -0.5572127187616887,
           -0.32793004892484934,
           -0.09864737908801002,
           0.13063529074882974,
           0.3599179605856686,
           0.5892006304225084,
           0.8184833002593481,
           1.047765970096187,
           1.2770486399330268,
           1.5063313097698665,
           1.7356139796067054,
           1.9648966494435451,
           2.194179319280385,
           2.4234619891172238,
           2.6527446589540635
          ],
          [
           -3.9964527663142806,
           -3.7671700964774413,
           -3.5378874266406015,
           -3.308604756803762,
           -3.079322086966923,
           -2.850039417130083,
           -2.620756747293244,
           -2.3914740774564045,
           -2.1621914076195647,
           -1.9329087377827254,
           -1.7036260679458861,
           -1.4743433981090468,
           -1.245060728272207,
           -1.0157780584353677,
           -0.7864953885985284,
           -0.5572127187616887,
           -0.32793004892484934,
           -0.09864737908801002,
           0.13063529074882974,
           0.3599179605856686,
           0.5892006304225084,
           0.8184833002593481,
           1.047765970096187,
           1.2770486399330268,
           1.5063313097698665,
           1.7356139796067054,
           1.9648966494435451,
           2.194179319280385,
           2.4234619891172238,
           2.6527446589540635
          ],
          [
           -3.9964527663142806,
           -3.7671700964774413,
           -3.5378874266406015,
           -3.308604756803762,
           -3.079322086966923,
           -2.850039417130083,
           -2.620756747293244,
           -2.3914740774564045,
           -2.1621914076195647,
           -1.9329087377827254,
           -1.7036260679458861,
           -1.4743433981090468,
           -1.245060728272207,
           -1.0157780584353677,
           -0.7864953885985284,
           -0.5572127187616887,
           -0.32793004892484934,
           -0.09864737908801002,
           0.13063529074882974,
           0.3599179605856686,
           0.5892006304225084,
           0.8184833002593481,
           1.047765970096187,
           1.2770486399330268,
           1.5063313097698665,
           1.7356139796067054,
           1.9648966494435451,
           2.194179319280385,
           2.4234619891172238,
           2.6527446589540635
          ],
          [
           -3.9964527663142806,
           -3.7671700964774413,
           -3.5378874266406015,
           -3.308604756803762,
           -3.079322086966923,
           -2.850039417130083,
           -2.620756747293244,
           -2.3914740774564045,
           -2.1621914076195647,
           -1.9329087377827254,
           -1.7036260679458861,
           -1.4743433981090468,
           -1.245060728272207,
           -1.0157780584353677,
           -0.7864953885985284,
           -0.5572127187616887,
           -0.32793004892484934,
           -0.09864737908801002,
           0.13063529074882974,
           0.3599179605856686,
           0.5892006304225084,
           0.8184833002593481,
           1.047765970096187,
           1.2770486399330268,
           1.5063313097698665,
           1.7356139796067054,
           1.9648966494435451,
           2.194179319280385,
           2.4234619891172238,
           2.6527446589540635
          ],
          [
           -3.9964527663142806,
           -3.7671700964774413,
           -3.5378874266406015,
           -3.308604756803762,
           -3.079322086966923,
           -2.850039417130083,
           -2.620756747293244,
           -2.3914740774564045,
           -2.1621914076195647,
           -1.9329087377827254,
           -1.7036260679458861,
           -1.4743433981090468,
           -1.245060728272207,
           -1.0157780584353677,
           -0.7864953885985284,
           -0.5572127187616887,
           -0.32793004892484934,
           -0.09864737908801002,
           0.13063529074882974,
           0.3599179605856686,
           0.5892006304225084,
           0.8184833002593481,
           1.047765970096187,
           1.2770486399330268,
           1.5063313097698665,
           1.7356139796067054,
           1.9648966494435451,
           2.194179319280385,
           2.4234619891172238,
           2.6527446589540635
          ],
          [
           -3.9964527663142806,
           -3.7671700964774413,
           -3.5378874266406015,
           -3.308604756803762,
           -3.079322086966923,
           -2.850039417130083,
           -2.620756747293244,
           -2.3914740774564045,
           -2.1621914076195647,
           -1.9329087377827254,
           -1.7036260679458861,
           -1.4743433981090468,
           -1.245060728272207,
           -1.0157780584353677,
           -0.7864953885985284,
           -0.5572127187616887,
           -0.32793004892484934,
           -0.09864737908801002,
           0.13063529074882974,
           0.3599179605856686,
           0.5892006304225084,
           0.8184833002593481,
           1.047765970096187,
           1.2770486399330268,
           1.5063313097698665,
           1.7356139796067054,
           1.9648966494435451,
           2.194179319280385,
           2.4234619891172238,
           2.6527446589540635
          ],
          [
           -3.9964527663142806,
           -3.7671700964774413,
           -3.5378874266406015,
           -3.308604756803762,
           -3.079322086966923,
           -2.850039417130083,
           -2.620756747293244,
           -2.3914740774564045,
           -2.1621914076195647,
           -1.9329087377827254,
           -1.7036260679458861,
           -1.4743433981090468,
           -1.245060728272207,
           -1.0157780584353677,
           -0.7864953885985284,
           -0.5572127187616887,
           -0.32793004892484934,
           -0.09864737908801002,
           0.13063529074882974,
           0.3599179605856686,
           0.5892006304225084,
           0.8184833002593481,
           1.047765970096187,
           1.2770486399330268,
           1.5063313097698665,
           1.7356139796067054,
           1.9648966494435451,
           2.194179319280385,
           2.4234619891172238,
           2.6527446589540635
          ],
          [
           -3.9964527663142806,
           -3.7671700964774413,
           -3.5378874266406015,
           -3.308604756803762,
           -3.079322086966923,
           -2.850039417130083,
           -2.620756747293244,
           -2.3914740774564045,
           -2.1621914076195647,
           -1.9329087377827254,
           -1.7036260679458861,
           -1.4743433981090468,
           -1.245060728272207,
           -1.0157780584353677,
           -0.7864953885985284,
           -0.5572127187616887,
           -0.32793004892484934,
           -0.09864737908801002,
           0.13063529074882974,
           0.3599179605856686,
           0.5892006304225084,
           0.8184833002593481,
           1.047765970096187,
           1.2770486399330268,
           1.5063313097698665,
           1.7356139796067054,
           1.9648966494435451,
           2.194179319280385,
           2.4234619891172238,
           2.6527446589540635
          ],
          [
           -3.9964527663142806,
           -3.7671700964774413,
           -3.5378874266406015,
           -3.308604756803762,
           -3.079322086966923,
           -2.850039417130083,
           -2.620756747293244,
           -2.3914740774564045,
           -2.1621914076195647,
           -1.9329087377827254,
           -1.7036260679458861,
           -1.4743433981090468,
           -1.245060728272207,
           -1.0157780584353677,
           -0.7864953885985284,
           -0.5572127187616887,
           -0.32793004892484934,
           -0.09864737908801002,
           0.13063529074882974,
           0.3599179605856686,
           0.5892006304225084,
           0.8184833002593481,
           1.047765970096187,
           1.2770486399330268,
           1.5063313097698665,
           1.7356139796067054,
           1.9648966494435451,
           2.194179319280385,
           2.4234619891172238,
           2.6527446589540635
          ],
          [
           -3.9964527663142806,
           -3.7671700964774413,
           -3.5378874266406015,
           -3.308604756803762,
           -3.079322086966923,
           -2.850039417130083,
           -2.620756747293244,
           -2.3914740774564045,
           -2.1621914076195647,
           -1.9329087377827254,
           -1.7036260679458861,
           -1.4743433981090468,
           -1.245060728272207,
           -1.0157780584353677,
           -0.7864953885985284,
           -0.5572127187616887,
           -0.32793004892484934,
           -0.09864737908801002,
           0.13063529074882974,
           0.3599179605856686,
           0.5892006304225084,
           0.8184833002593481,
           1.047765970096187,
           1.2770486399330268,
           1.5063313097698665,
           1.7356139796067054,
           1.9648966494435451,
           2.194179319280385,
           2.4234619891172238,
           2.6527446589540635
          ],
          [
           -3.9964527663142806,
           -3.7671700964774413,
           -3.5378874266406015,
           -3.308604756803762,
           -3.079322086966923,
           -2.850039417130083,
           -2.620756747293244,
           -2.3914740774564045,
           -2.1621914076195647,
           -1.9329087377827254,
           -1.7036260679458861,
           -1.4743433981090468,
           -1.245060728272207,
           -1.0157780584353677,
           -0.7864953885985284,
           -0.5572127187616887,
           -0.32793004892484934,
           -0.09864737908801002,
           0.13063529074882974,
           0.3599179605856686,
           0.5892006304225084,
           0.8184833002593481,
           1.047765970096187,
           1.2770486399330268,
           1.5063313097698665,
           1.7356139796067054,
           1.9648966494435451,
           2.194179319280385,
           2.4234619891172238,
           2.6527446589540635
          ],
          [
           -3.9964527663142806,
           -3.7671700964774413,
           -3.5378874266406015,
           -3.308604756803762,
           -3.079322086966923,
           -2.850039417130083,
           -2.620756747293244,
           -2.3914740774564045,
           -2.1621914076195647,
           -1.9329087377827254,
           -1.7036260679458861,
           -1.4743433981090468,
           -1.245060728272207,
           -1.0157780584353677,
           -0.7864953885985284,
           -0.5572127187616887,
           -0.32793004892484934,
           -0.09864737908801002,
           0.13063529074882974,
           0.3599179605856686,
           0.5892006304225084,
           0.8184833002593481,
           1.047765970096187,
           1.2770486399330268,
           1.5063313097698665,
           1.7356139796067054,
           1.9648966494435451,
           2.194179319280385,
           2.4234619891172238,
           2.6527446589540635
          ],
          [
           -3.9964527663142806,
           -3.7671700964774413,
           -3.5378874266406015,
           -3.308604756803762,
           -3.079322086966923,
           -2.850039417130083,
           -2.620756747293244,
           -2.3914740774564045,
           -2.1621914076195647,
           -1.9329087377827254,
           -1.7036260679458861,
           -1.4743433981090468,
           -1.245060728272207,
           -1.0157780584353677,
           -0.7864953885985284,
           -0.5572127187616887,
           -0.32793004892484934,
           -0.09864737908801002,
           0.13063529074882974,
           0.3599179605856686,
           0.5892006304225084,
           0.8184833002593481,
           1.047765970096187,
           1.2770486399330268,
           1.5063313097698665,
           1.7356139796067054,
           1.9648966494435451,
           2.194179319280385,
           2.4234619891172238,
           2.6527446589540635
          ]
         ],
         "y": [
          [
           -2.0169590025336848,
           -2.0169590025336848,
           -2.0169590025336848,
           -2.0169590025336848,
           -2.0169590025336848,
           -2.0169590025336848,
           -2.0169590025336848,
           -2.0169590025336848,
           -2.0169590025336848,
           -2.0169590025336848,
           -2.0169590025336848,
           -2.0169590025336848,
           -2.0169590025336848,
           -2.0169590025336848,
           -2.0169590025336848,
           -2.0169590025336848,
           -2.0169590025336848,
           -2.0169590025336848,
           -2.0169590025336848,
           -2.0169590025336848,
           -2.0169590025336848,
           -2.0169590025336848,
           -2.0169590025336848,
           -2.0169590025336848,
           -2.0169590025336848,
           -2.0169590025336848,
           -2.0169590025336848,
           -2.0169590025336848,
           -2.0169590025336848,
           -2.0169590025336848
          ],
          [
           -1.878057371766213,
           -1.878057371766213,
           -1.878057371766213,
           -1.878057371766213,
           -1.878057371766213,
           -1.878057371766213,
           -1.878057371766213,
           -1.878057371766213,
           -1.878057371766213,
           -1.878057371766213,
           -1.878057371766213,
           -1.878057371766213,
           -1.878057371766213,
           -1.878057371766213,
           -1.878057371766213,
           -1.878057371766213,
           -1.878057371766213,
           -1.878057371766213,
           -1.878057371766213,
           -1.878057371766213,
           -1.878057371766213,
           -1.878057371766213,
           -1.878057371766213,
           -1.878057371766213,
           -1.878057371766213,
           -1.878057371766213,
           -1.878057371766213,
           -1.878057371766213,
           -1.878057371766213,
           -1.878057371766213
          ],
          [
           -1.7391557409987413,
           -1.7391557409987413,
           -1.7391557409987413,
           -1.7391557409987413,
           -1.7391557409987413,
           -1.7391557409987413,
           -1.7391557409987413,
           -1.7391557409987413,
           -1.7391557409987413,
           -1.7391557409987413,
           -1.7391557409987413,
           -1.7391557409987413,
           -1.7391557409987413,
           -1.7391557409987413,
           -1.7391557409987413,
           -1.7391557409987413,
           -1.7391557409987413,
           -1.7391557409987413,
           -1.7391557409987413,
           -1.7391557409987413,
           -1.7391557409987413,
           -1.7391557409987413,
           -1.7391557409987413,
           -1.7391557409987413,
           -1.7391557409987413,
           -1.7391557409987413,
           -1.7391557409987413,
           -1.7391557409987413,
           -1.7391557409987413,
           -1.7391557409987413
          ],
          [
           -1.6002541102312695,
           -1.6002541102312695,
           -1.6002541102312695,
           -1.6002541102312695,
           -1.6002541102312695,
           -1.6002541102312695,
           -1.6002541102312695,
           -1.6002541102312695,
           -1.6002541102312695,
           -1.6002541102312695,
           -1.6002541102312695,
           -1.6002541102312695,
           -1.6002541102312695,
           -1.6002541102312695,
           -1.6002541102312695,
           -1.6002541102312695,
           -1.6002541102312695,
           -1.6002541102312695,
           -1.6002541102312695,
           -1.6002541102312695,
           -1.6002541102312695,
           -1.6002541102312695,
           -1.6002541102312695,
           -1.6002541102312695,
           -1.6002541102312695,
           -1.6002541102312695,
           -1.6002541102312695,
           -1.6002541102312695,
           -1.6002541102312695,
           -1.6002541102312695
          ],
          [
           -1.4613524794637978,
           -1.4613524794637978,
           -1.4613524794637978,
           -1.4613524794637978,
           -1.4613524794637978,
           -1.4613524794637978,
           -1.4613524794637978,
           -1.4613524794637978,
           -1.4613524794637978,
           -1.4613524794637978,
           -1.4613524794637978,
           -1.4613524794637978,
           -1.4613524794637978,
           -1.4613524794637978,
           -1.4613524794637978,
           -1.4613524794637978,
           -1.4613524794637978,
           -1.4613524794637978,
           -1.4613524794637978,
           -1.4613524794637978,
           -1.4613524794637978,
           -1.4613524794637978,
           -1.4613524794637978,
           -1.4613524794637978,
           -1.4613524794637978,
           -1.4613524794637978,
           -1.4613524794637978,
           -1.4613524794637978,
           -1.4613524794637978,
           -1.4613524794637978
          ],
          [
           -1.322450848696326,
           -1.322450848696326,
           -1.322450848696326,
           -1.322450848696326,
           -1.322450848696326,
           -1.322450848696326,
           -1.322450848696326,
           -1.322450848696326,
           -1.322450848696326,
           -1.322450848696326,
           -1.322450848696326,
           -1.322450848696326,
           -1.322450848696326,
           -1.322450848696326,
           -1.322450848696326,
           -1.322450848696326,
           -1.322450848696326,
           -1.322450848696326,
           -1.322450848696326,
           -1.322450848696326,
           -1.322450848696326,
           -1.322450848696326,
           -1.322450848696326,
           -1.322450848696326,
           -1.322450848696326,
           -1.322450848696326,
           -1.322450848696326,
           -1.322450848696326,
           -1.322450848696326,
           -1.322450848696326
          ],
          [
           -1.183549217928854,
           -1.183549217928854,
           -1.183549217928854,
           -1.183549217928854,
           -1.183549217928854,
           -1.183549217928854,
           -1.183549217928854,
           -1.183549217928854,
           -1.183549217928854,
           -1.183549217928854,
           -1.183549217928854,
           -1.183549217928854,
           -1.183549217928854,
           -1.183549217928854,
           -1.183549217928854,
           -1.183549217928854,
           -1.183549217928854,
           -1.183549217928854,
           -1.183549217928854,
           -1.183549217928854,
           -1.183549217928854,
           -1.183549217928854,
           -1.183549217928854,
           -1.183549217928854,
           -1.183549217928854,
           -1.183549217928854,
           -1.183549217928854,
           -1.183549217928854,
           -1.183549217928854,
           -1.183549217928854
          ],
          [
           -1.0446475871613823,
           -1.0446475871613823,
           -1.0446475871613823,
           -1.0446475871613823,
           -1.0446475871613823,
           -1.0446475871613823,
           -1.0446475871613823,
           -1.0446475871613823,
           -1.0446475871613823,
           -1.0446475871613823,
           -1.0446475871613823,
           -1.0446475871613823,
           -1.0446475871613823,
           -1.0446475871613823,
           -1.0446475871613823,
           -1.0446475871613823,
           -1.0446475871613823,
           -1.0446475871613823,
           -1.0446475871613823,
           -1.0446475871613823,
           -1.0446475871613823,
           -1.0446475871613823,
           -1.0446475871613823,
           -1.0446475871613823,
           -1.0446475871613823,
           -1.0446475871613823,
           -1.0446475871613823,
           -1.0446475871613823,
           -1.0446475871613823,
           -1.0446475871613823
          ],
          [
           -0.9057459563939105,
           -0.9057459563939105,
           -0.9057459563939105,
           -0.9057459563939105,
           -0.9057459563939105,
           -0.9057459563939105,
           -0.9057459563939105,
           -0.9057459563939105,
           -0.9057459563939105,
           -0.9057459563939105,
           -0.9057459563939105,
           -0.9057459563939105,
           -0.9057459563939105,
           -0.9057459563939105,
           -0.9057459563939105,
           -0.9057459563939105,
           -0.9057459563939105,
           -0.9057459563939105,
           -0.9057459563939105,
           -0.9057459563939105,
           -0.9057459563939105,
           -0.9057459563939105,
           -0.9057459563939105,
           -0.9057459563939105,
           -0.9057459563939105,
           -0.9057459563939105,
           -0.9057459563939105,
           -0.9057459563939105,
           -0.9057459563939105,
           -0.9057459563939105
          ],
          [
           -0.7668443256264388,
           -0.7668443256264388,
           -0.7668443256264388,
           -0.7668443256264388,
           -0.7668443256264388,
           -0.7668443256264388,
           -0.7668443256264388,
           -0.7668443256264388,
           -0.7668443256264388,
           -0.7668443256264388,
           -0.7668443256264388,
           -0.7668443256264388,
           -0.7668443256264388,
           -0.7668443256264388,
           -0.7668443256264388,
           -0.7668443256264388,
           -0.7668443256264388,
           -0.7668443256264388,
           -0.7668443256264388,
           -0.7668443256264388,
           -0.7668443256264388,
           -0.7668443256264388,
           -0.7668443256264388,
           -0.7668443256264388,
           -0.7668443256264388,
           -0.7668443256264388,
           -0.7668443256264388,
           -0.7668443256264388,
           -0.7668443256264388,
           -0.7668443256264388
          ],
          [
           -0.627942694858967,
           -0.627942694858967,
           -0.627942694858967,
           -0.627942694858967,
           -0.627942694858967,
           -0.627942694858967,
           -0.627942694858967,
           -0.627942694858967,
           -0.627942694858967,
           -0.627942694858967,
           -0.627942694858967,
           -0.627942694858967,
           -0.627942694858967,
           -0.627942694858967,
           -0.627942694858967,
           -0.627942694858967,
           -0.627942694858967,
           -0.627942694858967,
           -0.627942694858967,
           -0.627942694858967,
           -0.627942694858967,
           -0.627942694858967,
           -0.627942694858967,
           -0.627942694858967,
           -0.627942694858967,
           -0.627942694858967,
           -0.627942694858967,
           -0.627942694858967,
           -0.627942694858967,
           -0.627942694858967
          ],
          [
           -0.4890410640914953,
           -0.4890410640914953,
           -0.4890410640914953,
           -0.4890410640914953,
           -0.4890410640914953,
           -0.4890410640914953,
           -0.4890410640914953,
           -0.4890410640914953,
           -0.4890410640914953,
           -0.4890410640914953,
           -0.4890410640914953,
           -0.4890410640914953,
           -0.4890410640914953,
           -0.4890410640914953,
           -0.4890410640914953,
           -0.4890410640914953,
           -0.4890410640914953,
           -0.4890410640914953,
           -0.4890410640914953,
           -0.4890410640914953,
           -0.4890410640914953,
           -0.4890410640914953,
           -0.4890410640914953,
           -0.4890410640914953,
           -0.4890410640914953,
           -0.4890410640914953,
           -0.4890410640914953,
           -0.4890410640914953,
           -0.4890410640914953,
           -0.4890410640914953
          ],
          [
           -0.3501394333240233,
           -0.3501394333240233,
           -0.3501394333240233,
           -0.3501394333240233,
           -0.3501394333240233,
           -0.3501394333240233,
           -0.3501394333240233,
           -0.3501394333240233,
           -0.3501394333240233,
           -0.3501394333240233,
           -0.3501394333240233,
           -0.3501394333240233,
           -0.3501394333240233,
           -0.3501394333240233,
           -0.3501394333240233,
           -0.3501394333240233,
           -0.3501394333240233,
           -0.3501394333240233,
           -0.3501394333240233,
           -0.3501394333240233,
           -0.3501394333240233,
           -0.3501394333240233,
           -0.3501394333240233,
           -0.3501394333240233,
           -0.3501394333240233,
           -0.3501394333240233,
           -0.3501394333240233,
           -0.3501394333240233,
           -0.3501394333240233,
           -0.3501394333240233
          ],
          [
           -0.21123780255655156,
           -0.21123780255655156,
           -0.21123780255655156,
           -0.21123780255655156,
           -0.21123780255655156,
           -0.21123780255655156,
           -0.21123780255655156,
           -0.21123780255655156,
           -0.21123780255655156,
           -0.21123780255655156,
           -0.21123780255655156,
           -0.21123780255655156,
           -0.21123780255655156,
           -0.21123780255655156,
           -0.21123780255655156,
           -0.21123780255655156,
           -0.21123780255655156,
           -0.21123780255655156,
           -0.21123780255655156,
           -0.21123780255655156,
           -0.21123780255655156,
           -0.21123780255655156,
           -0.21123780255655156,
           -0.21123780255655156,
           -0.21123780255655156,
           -0.21123780255655156,
           -0.21123780255655156,
           -0.21123780255655156,
           -0.21123780255655156,
           -0.21123780255655156
          ],
          [
           -0.0723361717890798,
           -0.0723361717890798,
           -0.0723361717890798,
           -0.0723361717890798,
           -0.0723361717890798,
           -0.0723361717890798,
           -0.0723361717890798,
           -0.0723361717890798,
           -0.0723361717890798,
           -0.0723361717890798,
           -0.0723361717890798,
           -0.0723361717890798,
           -0.0723361717890798,
           -0.0723361717890798,
           -0.0723361717890798,
           -0.0723361717890798,
           -0.0723361717890798,
           -0.0723361717890798,
           -0.0723361717890798,
           -0.0723361717890798,
           -0.0723361717890798,
           -0.0723361717890798,
           -0.0723361717890798,
           -0.0723361717890798,
           -0.0723361717890798,
           -0.0723361717890798,
           -0.0723361717890798,
           -0.0723361717890798,
           -0.0723361717890798,
           -0.0723361717890798
          ],
          [
           0.06656545897839194,
           0.06656545897839194,
           0.06656545897839194,
           0.06656545897839194,
           0.06656545897839194,
           0.06656545897839194,
           0.06656545897839194,
           0.06656545897839194,
           0.06656545897839194,
           0.06656545897839194,
           0.06656545897839194,
           0.06656545897839194,
           0.06656545897839194,
           0.06656545897839194,
           0.06656545897839194,
           0.06656545897839194,
           0.06656545897839194,
           0.06656545897839194,
           0.06656545897839194,
           0.06656545897839194,
           0.06656545897839194,
           0.06656545897839194,
           0.06656545897839194,
           0.06656545897839194,
           0.06656545897839194,
           0.06656545897839194,
           0.06656545897839194,
           0.06656545897839194,
           0.06656545897839194,
           0.06656545897839194
          ],
          [
           0.2054670897458637,
           0.2054670897458637,
           0.2054670897458637,
           0.2054670897458637,
           0.2054670897458637,
           0.2054670897458637,
           0.2054670897458637,
           0.2054670897458637,
           0.2054670897458637,
           0.2054670897458637,
           0.2054670897458637,
           0.2054670897458637,
           0.2054670897458637,
           0.2054670897458637,
           0.2054670897458637,
           0.2054670897458637,
           0.2054670897458637,
           0.2054670897458637,
           0.2054670897458637,
           0.2054670897458637,
           0.2054670897458637,
           0.2054670897458637,
           0.2054670897458637,
           0.2054670897458637,
           0.2054670897458637,
           0.2054670897458637,
           0.2054670897458637,
           0.2054670897458637,
           0.2054670897458637,
           0.2054670897458637
          ],
          [
           0.34436872051333545,
           0.34436872051333545,
           0.34436872051333545,
           0.34436872051333545,
           0.34436872051333545,
           0.34436872051333545,
           0.34436872051333545,
           0.34436872051333545,
           0.34436872051333545,
           0.34436872051333545,
           0.34436872051333545,
           0.34436872051333545,
           0.34436872051333545,
           0.34436872051333545,
           0.34436872051333545,
           0.34436872051333545,
           0.34436872051333545,
           0.34436872051333545,
           0.34436872051333545,
           0.34436872051333545,
           0.34436872051333545,
           0.34436872051333545,
           0.34436872051333545,
           0.34436872051333545,
           0.34436872051333545,
           0.34436872051333545,
           0.34436872051333545,
           0.34436872051333545,
           0.34436872051333545,
           0.34436872051333545
          ],
          [
           0.4832703512808072,
           0.4832703512808072,
           0.4832703512808072,
           0.4832703512808072,
           0.4832703512808072,
           0.4832703512808072,
           0.4832703512808072,
           0.4832703512808072,
           0.4832703512808072,
           0.4832703512808072,
           0.4832703512808072,
           0.4832703512808072,
           0.4832703512808072,
           0.4832703512808072,
           0.4832703512808072,
           0.4832703512808072,
           0.4832703512808072,
           0.4832703512808072,
           0.4832703512808072,
           0.4832703512808072,
           0.4832703512808072,
           0.4832703512808072,
           0.4832703512808072,
           0.4832703512808072,
           0.4832703512808072,
           0.4832703512808072,
           0.4832703512808072,
           0.4832703512808072,
           0.4832703512808072,
           0.4832703512808072
          ],
          [
           0.622171982048279,
           0.622171982048279,
           0.622171982048279,
           0.622171982048279,
           0.622171982048279,
           0.622171982048279,
           0.622171982048279,
           0.622171982048279,
           0.622171982048279,
           0.622171982048279,
           0.622171982048279,
           0.622171982048279,
           0.622171982048279,
           0.622171982048279,
           0.622171982048279,
           0.622171982048279,
           0.622171982048279,
           0.622171982048279,
           0.622171982048279,
           0.622171982048279,
           0.622171982048279,
           0.622171982048279,
           0.622171982048279,
           0.622171982048279,
           0.622171982048279,
           0.622171982048279,
           0.622171982048279,
           0.622171982048279,
           0.622171982048279,
           0.622171982048279
          ],
          [
           0.7610736128157507,
           0.7610736128157507,
           0.7610736128157507,
           0.7610736128157507,
           0.7610736128157507,
           0.7610736128157507,
           0.7610736128157507,
           0.7610736128157507,
           0.7610736128157507,
           0.7610736128157507,
           0.7610736128157507,
           0.7610736128157507,
           0.7610736128157507,
           0.7610736128157507,
           0.7610736128157507,
           0.7610736128157507,
           0.7610736128157507,
           0.7610736128157507,
           0.7610736128157507,
           0.7610736128157507,
           0.7610736128157507,
           0.7610736128157507,
           0.7610736128157507,
           0.7610736128157507,
           0.7610736128157507,
           0.7610736128157507,
           0.7610736128157507,
           0.7610736128157507,
           0.7610736128157507,
           0.7610736128157507
          ],
          [
           0.8999752435832225,
           0.8999752435832225,
           0.8999752435832225,
           0.8999752435832225,
           0.8999752435832225,
           0.8999752435832225,
           0.8999752435832225,
           0.8999752435832225,
           0.8999752435832225,
           0.8999752435832225,
           0.8999752435832225,
           0.8999752435832225,
           0.8999752435832225,
           0.8999752435832225,
           0.8999752435832225,
           0.8999752435832225,
           0.8999752435832225,
           0.8999752435832225,
           0.8999752435832225,
           0.8999752435832225,
           0.8999752435832225,
           0.8999752435832225,
           0.8999752435832225,
           0.8999752435832225,
           0.8999752435832225,
           0.8999752435832225,
           0.8999752435832225,
           0.8999752435832225,
           0.8999752435832225,
           0.8999752435832225
          ],
          [
           1.0388768743506942,
           1.0388768743506942,
           1.0388768743506942,
           1.0388768743506942,
           1.0388768743506942,
           1.0388768743506942,
           1.0388768743506942,
           1.0388768743506942,
           1.0388768743506942,
           1.0388768743506942,
           1.0388768743506942,
           1.0388768743506942,
           1.0388768743506942,
           1.0388768743506942,
           1.0388768743506942,
           1.0388768743506942,
           1.0388768743506942,
           1.0388768743506942,
           1.0388768743506942,
           1.0388768743506942,
           1.0388768743506942,
           1.0388768743506942,
           1.0388768743506942,
           1.0388768743506942,
           1.0388768743506942,
           1.0388768743506942,
           1.0388768743506942,
           1.0388768743506942,
           1.0388768743506942,
           1.0388768743506942
          ],
          [
           1.177778505118166,
           1.177778505118166,
           1.177778505118166,
           1.177778505118166,
           1.177778505118166,
           1.177778505118166,
           1.177778505118166,
           1.177778505118166,
           1.177778505118166,
           1.177778505118166,
           1.177778505118166,
           1.177778505118166,
           1.177778505118166,
           1.177778505118166,
           1.177778505118166,
           1.177778505118166,
           1.177778505118166,
           1.177778505118166,
           1.177778505118166,
           1.177778505118166,
           1.177778505118166,
           1.177778505118166,
           1.177778505118166,
           1.177778505118166,
           1.177778505118166,
           1.177778505118166,
           1.177778505118166,
           1.177778505118166,
           1.177778505118166,
           1.177778505118166
          ],
          [
           1.3166801358856381,
           1.3166801358856381,
           1.3166801358856381,
           1.3166801358856381,
           1.3166801358856381,
           1.3166801358856381,
           1.3166801358856381,
           1.3166801358856381,
           1.3166801358856381,
           1.3166801358856381,
           1.3166801358856381,
           1.3166801358856381,
           1.3166801358856381,
           1.3166801358856381,
           1.3166801358856381,
           1.3166801358856381,
           1.3166801358856381,
           1.3166801358856381,
           1.3166801358856381,
           1.3166801358856381,
           1.3166801358856381,
           1.3166801358856381,
           1.3166801358856381,
           1.3166801358856381,
           1.3166801358856381,
           1.3166801358856381,
           1.3166801358856381,
           1.3166801358856381,
           1.3166801358856381,
           1.3166801358856381
          ],
          [
           1.45558176665311,
           1.45558176665311,
           1.45558176665311,
           1.45558176665311,
           1.45558176665311,
           1.45558176665311,
           1.45558176665311,
           1.45558176665311,
           1.45558176665311,
           1.45558176665311,
           1.45558176665311,
           1.45558176665311,
           1.45558176665311,
           1.45558176665311,
           1.45558176665311,
           1.45558176665311,
           1.45558176665311,
           1.45558176665311,
           1.45558176665311,
           1.45558176665311,
           1.45558176665311,
           1.45558176665311,
           1.45558176665311,
           1.45558176665311,
           1.45558176665311,
           1.45558176665311,
           1.45558176665311,
           1.45558176665311,
           1.45558176665311,
           1.45558176665311
          ],
          [
           1.5944833974205816,
           1.5944833974205816,
           1.5944833974205816,
           1.5944833974205816,
           1.5944833974205816,
           1.5944833974205816,
           1.5944833974205816,
           1.5944833974205816,
           1.5944833974205816,
           1.5944833974205816,
           1.5944833974205816,
           1.5944833974205816,
           1.5944833974205816,
           1.5944833974205816,
           1.5944833974205816,
           1.5944833974205816,
           1.5944833974205816,
           1.5944833974205816,
           1.5944833974205816,
           1.5944833974205816,
           1.5944833974205816,
           1.5944833974205816,
           1.5944833974205816,
           1.5944833974205816,
           1.5944833974205816,
           1.5944833974205816,
           1.5944833974205816,
           1.5944833974205816,
           1.5944833974205816,
           1.5944833974205816
          ],
          [
           1.7333850281880534,
           1.7333850281880534,
           1.7333850281880534,
           1.7333850281880534,
           1.7333850281880534,
           1.7333850281880534,
           1.7333850281880534,
           1.7333850281880534,
           1.7333850281880534,
           1.7333850281880534,
           1.7333850281880534,
           1.7333850281880534,
           1.7333850281880534,
           1.7333850281880534,
           1.7333850281880534,
           1.7333850281880534,
           1.7333850281880534,
           1.7333850281880534,
           1.7333850281880534,
           1.7333850281880534,
           1.7333850281880534,
           1.7333850281880534,
           1.7333850281880534,
           1.7333850281880534,
           1.7333850281880534,
           1.7333850281880534,
           1.7333850281880534,
           1.7333850281880534,
           1.7333850281880534,
           1.7333850281880534
          ],
          [
           1.8722866589555252,
           1.8722866589555252,
           1.8722866589555252,
           1.8722866589555252,
           1.8722866589555252,
           1.8722866589555252,
           1.8722866589555252,
           1.8722866589555252,
           1.8722866589555252,
           1.8722866589555252,
           1.8722866589555252,
           1.8722866589555252,
           1.8722866589555252,
           1.8722866589555252,
           1.8722866589555252,
           1.8722866589555252,
           1.8722866589555252,
           1.8722866589555252,
           1.8722866589555252,
           1.8722866589555252,
           1.8722866589555252,
           1.8722866589555252,
           1.8722866589555252,
           1.8722866589555252,
           1.8722866589555252,
           1.8722866589555252,
           1.8722866589555252,
           1.8722866589555252,
           1.8722866589555252,
           1.8722866589555252
          ],
          [
           2.011188289722997,
           2.011188289722997,
           2.011188289722997,
           2.011188289722997,
           2.011188289722997,
           2.011188289722997,
           2.011188289722997,
           2.011188289722997,
           2.011188289722997,
           2.011188289722997,
           2.011188289722997,
           2.011188289722997,
           2.011188289722997,
           2.011188289722997,
           2.011188289722997,
           2.011188289722997,
           2.011188289722997,
           2.011188289722997,
           2.011188289722997,
           2.011188289722997,
           2.011188289722997,
           2.011188289722997,
           2.011188289722997,
           2.011188289722997,
           2.011188289722997,
           2.011188289722997,
           2.011188289722997,
           2.011188289722997,
           2.011188289722997,
           2.011188289722997
          ]
         ],
         "z": [
          [
           -144.77005254740644,
           -138.84243523022653,
           -132.91481791304656,
           -126.98720059586663,
           -121.0595832786867,
           -115.13196596150676,
           -109.20434864432683,
           -103.2767313271469,
           -97.34911400996695,
           -91.42149669278703,
           -85.49387937560711,
           -79.56626205842717,
           -73.63864474124723,
           -67.71102742406731,
           -61.783410106887374,
           -55.855792789707436,
           -49.928175472527506,
           -44.000558155347576,
           -38.07294083816764,
           -32.14532352098772,
           -26.21770620380778,
           -20.290088886627842,
           -14.362471569447925,
           -8.434854252267984,
           -2.5072369350880397,
           3.420380382091876,
           9.347997699271813,
           15.275615016451757,
           21.203232333631675,
           27.130849650811612
          ],
          [
           -142.16620903265394,
           -136.238591715474,
           -130.31097439829406,
           -124.38335708111411,
           -118.45573976393419,
           -112.52812244675425,
           -106.60050512957432,
           -100.67288781239439,
           -94.74527049521446,
           -88.81765317803452,
           -82.89003586085458,
           -76.96241854367467,
           -71.03480122649472,
           -65.1071839093148,
           -59.17956659213486,
           -53.251949274954924,
           -47.324331957774994,
           -41.396714640595064,
           -35.46909732341513,
           -29.54148000623521,
           -23.613862689055267,
           -17.68624537187533,
           -11.758628054695413,
           -5.831010737515472,
           0.09660657966447239,
           6.024223896844388,
           11.951841214024325,
           17.87945853120427,
           23.807075848384187,
           29.734693165564124
          ],
          [
           -139.5623655179014,
           -133.63474820072148,
           -127.70713088354154,
           -121.7795135663616,
           -115.85189624918168,
           -109.92427893200174,
           -103.9966616148218,
           -98.06904429764188,
           -92.14142698046193,
           -86.213809663282,
           -80.28619234610208,
           -74.35857502892215,
           -68.43095771174221,
           -62.50334039456229,
           -56.57572307738235,
           -50.64810576020241,
           -44.72048844302248,
           -38.79287112584255,
           -32.865253808662615,
           -26.9376364914827,
           -21.010019174302755,
           -15.082401857122816,
           -9.1547845399429,
           -3.2271672227629598,
           2.7004500944169845,
           8.6280674115969,
           14.555684728776837,
           20.483302045956783,
           26.4109193631367,
           32.338536680316636
          ],
          [
           -136.9585220031489,
           -131.03090468596898,
           -125.10328736878903,
           -119.17567005160909,
           -113.24805273442917,
           -107.32043541724923,
           -101.39281810006929,
           -95.46520078288937,
           -89.53758346570943,
           -83.6099661485295,
           -77.68234883134956,
           -71.75473151416965,
           -65.8271141969897,
           -59.899496879809774,
           -53.97187956262984,
           -48.0442622454499,
           -42.11664492826997,
           -36.18902761109004,
           -30.261410293910103,
           -24.333792976730187,
           -18.406175659550243,
           -12.478558342370304,
           -6.550941025190388,
           -0.6233237080104477,
           5.3042936091694965,
           11.231910926349412,
           17.15952824352935,
           23.087145560709295,
           29.01476287788921,
           34.94238019506915
          ],
          [
           -134.3546784883964,
           -128.42706117121645,
           -122.49944385403651,
           -116.57182653685658,
           -110.64420921967665,
           -104.71659190249672,
           -98.78897458531678,
           -92.86135726813686,
           -86.9337399509569,
           -81.00612263377698,
           -75.07850531659706,
           -69.15088799941712,
           -63.223270682237185,
           -57.29565336505726,
           -51.368036047877325,
           -45.44041873069739,
           -39.51280141351746,
           -33.58518409633753,
           -27.65756677915759,
           -21.729949461977675,
           -15.802332144797733,
           -9.874714827617792,
           -3.9470975104378763,
           1.9805198067420644,
           7.908137123922009,
           13.835754441101924,
           19.763371758281863,
           25.690989075461808,
           31.618606392641723,
           37.54622370982166
          ],
          [
           -131.75083497364386,
           -125.82321765646394,
           -119.895600339284,
           -113.96798302210406,
           -108.04036570492414,
           -102.1127483877442,
           -96.18513107056427,
           -90.25751375338434,
           -84.3298964362044,
           -78.40227911902447,
           -72.47466180184453,
           -66.54704448466461,
           -60.61942716748467,
           -54.69180985030474,
           -48.76419253312481,
           -42.836575215944876,
           -36.90895789876494,
           -30.981340581585016,
           -25.05372326440508,
           -19.126105947225156,
           -13.198488630045217,
           -7.270871312865276,
           -1.3432539956853606,
           4.58436332149458,
           10.511980638674524,
           16.43959795585444,
           22.367215273034375,
           28.29483259021432,
           34.222449907394235,
           40.15006722457417
          ],
          [
           -129.14699145889136,
           -123.21937414171141,
           -117.29175682453148,
           -111.36413950735154,
           -105.43652219017163,
           -99.50890487299169,
           -93.58128755581176,
           -87.65367023863182,
           -81.72605292145188,
           -75.79843560427194,
           -69.87081828709202,
           -63.9432009699121,
           -58.015583652732154,
           -52.087966335552224,
           -46.1603490183723,
           -40.23273170119236,
           -34.30511438401243,
           -28.377497066832497,
           -22.44987974965256,
           -16.522262432472644,
           -10.594645115292701,
           -4.667027798112761,
           1.260589519067155,
           7.188206836247096,
           13.11582415342704,
           19.043441470606957,
           24.971058787786895,
           30.89867610496684,
           36.826293422146755,
           42.75391073932669
          ],
          [
           -126.54314794413882,
           -120.61553062695891,
           -114.68791330977898,
           -108.76029599259904,
           -102.8326786754191,
           -96.90506135823917,
           -90.97744404105923,
           -85.04982672387932,
           -79.12220940669937,
           -73.19459208951945,
           -67.26697477233951,
           -61.339357455159586,
           -55.41174013797964,
           -49.48412282079971,
           -43.55650550361979,
           -37.628888186439845,
           -31.701270869259915,
           -25.773653552079985,
           -19.846036234900048,
           -13.91841891772013,
           -7.990801600540189,
           -2.0631842833602487,
           3.864433033819667,
           9.792050350999608,
           15.719667668179552,
           21.64728498535947,
           27.574902302539407,
           33.50251961971935,
           39.43013693689927,
           45.357754254079204
          ],
          [
           -123.93930442938633,
           -118.01168711220639,
           -112.08406979502645,
           -106.15645247784651,
           -100.2288351606666,
           -94.30121784348667,
           -88.37360052630673,
           -82.4459832091268,
           -76.51836589194686,
           -70.59074857476692,
           -64.663131257587,
           -58.735513940407074,
           -52.80789662322713,
           -46.8802793060472,
           -40.95266198886728,
           -35.02504467168733,
           -29.097427354507403,
           -23.169810037327473,
           -17.242192720147536,
           -11.314575402967618,
           -5.386958085787677,
           0.5406592313922634,
           6.468276548572179,
           12.39589386575212,
           18.323511182932066,
           24.25112850011198,
           30.17874581729192,
           36.10636313447186,
           42.03398045165178,
           47.961597768831716
          ],
          [
           -121.3354609146338,
           -115.40784359745389,
           -109.48022628027395,
           -103.55260896309402,
           -97.62499164591408,
           -91.69737432873414,
           -85.7697570115542,
           -79.8421396943743,
           -73.91452237719434,
           -67.98690506001442,
           -62.059287742834485,
           -56.13167042565456,
           -50.20405310847462,
           -44.27643579129469,
           -38.348818474114765,
           -32.42120115693482,
           -26.49358383975489,
           -20.56596652257496,
           -14.638349205395023,
           -8.710731888215106,
           -2.7831145710351652,
           3.1445027461447754,
           9.072120063324691,
           14.999737380504632,
           20.927354697684578,
           26.854972014864494,
           32.78258933204443,
           38.710206649224375,
           44.63782396640429,
           50.56544128358423
          ],
          [
           -118.73161739988129,
           -112.80400008270136,
           -106.87638276552143,
           -100.94876544834149,
           -95.02114813116157,
           -89.09353081398163,
           -83.16591349680169,
           -77.23829617962177,
           -71.31067886244183,
           -65.38306154526191,
           -59.45544422808197,
           -53.52782691090205,
           -47.600209593722106,
           -41.672592276542176,
           -35.744974959362246,
           -29.81735764218231,
           -23.88974032500238,
           -17.96212300782245,
           -12.03450569064251,
           -6.106888373462592,
           -0.1792710562826514,
           5.748346260897289,
           11.675963578077205,
           17.603580895257146,
           23.53119821243709,
           29.458815529617006,
           35.38643284679694,
           41.31405016397689,
           47.2416674811568,
           53.16928479833674
          ],
          [
           -116.12777388512878,
           -110.20015656794885,
           -104.27253925076892,
           -98.34492193358898,
           -92.41730461640906,
           -86.48968729922912,
           -80.56206998204918,
           -74.63445266486926,
           -68.70683534768932,
           -62.77921803050939,
           -56.85160071332946,
           -50.92398339614954,
           -44.996366078969594,
           -39.068748761789664,
           -33.141131444609734,
           -27.213514127429796,
           -21.285896810249866,
           -15.358279493069938,
           -9.430662175889998,
           -3.50304485871008,
           2.4245724584698607,
           8.352189775649801,
           14.279807092829719,
           20.207424410009658,
           26.135041727189602,
           32.06265904436952,
           37.990276361549455,
           43.9178936787294,
           49.845510995909315,
           55.77312831308925
          ],
          [
           -113.52393037037626,
           -107.59631305319634,
           -101.6686957360164,
           -95.74107841883647,
           -89.81346110165654,
           -83.8858437844766,
           -77.95822646729667,
           -72.03060915011675,
           -66.10299183293681,
           -60.17537451575687,
           -54.24775719857694,
           -48.32013988139702,
           -42.392522564217074,
           -36.46490524703715,
           -30.53728792985722,
           -24.609670612677277,
           -18.682053295497347,
           -12.754435978317423,
           -6.826818661137482,
           -0.8992013439575635,
           5.028415973222378,
           10.956033290402319,
           16.883650607582233,
           22.811267924762177,
           28.73888524194212,
           34.66650255912204,
           40.594119876301974,
           46.52173719348192,
           52.449354510661834,
           58.37697182784177
          ],
          [
           -110.92008685562375,
           -104.99246953844383,
           -99.06485222126389,
           -93.13723490408395,
           -87.20961758690403,
           -81.2820002697241,
           -75.35438295254416,
           -69.42676563536423,
           -63.49914831818429,
           -57.57153100100436,
           -51.64391368382443,
           -45.71629636664451,
           -39.78867904946456,
           -33.86106173228464,
           -27.93344441510471,
           -22.005827097924765,
           -16.078209780744835,
           -10.150592463564909,
           -4.222975146384969,
           1.7046421707949495,
           7.63225948797489,
           13.55987680515483,
           19.487494122334745,
           25.41511143951469,
           31.342728756694633,
           37.27034607387455,
           43.197963391054486,
           49.12558070823443,
           55.053198025414346,
           60.98081534259428
          ],
          [
           -108.31624334087124,
           -102.38862602369132,
           -96.46100870651138,
           -90.53339138933144,
           -84.60577407215152,
           -78.67815675497158,
           -72.75053943779164,
           -66.82292212061172,
           -60.89530480343178,
           -54.96768748625185,
           -49.04007016907192,
           -43.112452851891994,
           -37.18483553471205,
           -31.257218217532127,
           -25.329600900352197,
           -19.401983583172253,
           -13.474366265992325,
           -7.546748948812397,
           -1.6191316316324564,
           4.308485685547462,
           10.236103002727402,
           16.16372031990734,
           22.091337637087257,
           28.0189549542672,
           33.946572271447145,
           39.87418958862706,
           45.801806905807,
           51.72942422298694,
           57.65704154016686,
           63.584658857346795
          ],
          [
           -105.71239982611873,
           -99.7847825089388,
           -93.85716519175887,
           -87.92954787457893,
           -82.001930557399,
           -76.07431324021907,
           -70.14669592303913,
           -64.21907860585921,
           -58.291461288679265,
           -52.363843971499335,
           -46.436226654319405,
           -40.50860933713948,
           -34.58099201995954,
           -28.653374702779615,
           -22.725757385599685,
           -16.79814006841974,
           -10.870522751239813,
           -4.942905434059885,
           0.9847118831200561,
           6.912329200299974,
           12.839946517479914,
           18.767563834659853,
           24.69518115183977,
           30.622798469019713,
           36.55041578619966,
           42.47803310337957,
           48.40565042055951,
           54.333267737739455,
           60.26088505491937,
           66.18850237209931
          ],
          [
           -103.10855631136621,
           -97.18093899418629,
           -91.25332167700635,
           -85.32570435982642,
           -79.3980870426465,
           -73.47046972546656,
           -67.54285240828662,
           -61.6152350911067,
           -55.68761777392675,
           -49.76000045674682,
           -43.83238313956689,
           -37.90476582238697,
           -31.977148505207026,
           -26.049531188027103,
           -20.121913870847173,
           -14.19429655366723,
           -8.266679236487299,
           -2.3390619193073716,
           3.588555397872568,
           9.516172715052486,
           15.443790032232426,
           21.371407349412365,
           27.29902466659228,
           33.226641983772225,
           39.15425930095217,
           45.081876618132085,
           51.00949393531202,
           56.93711125249197,
           62.86472856967188,
           68.79234588685182
          ],
          [
           -100.5047127966137,
           -94.57709547943378,
           -88.64947816225384,
           -82.7218608450739,
           -76.79424352789398,
           -70.86662621071405,
           -64.93900889353411,
           -59.011391576354185,
           -53.08377425917424,
           -47.15615694199431,
           -41.22853962481438,
           -35.30092230763446,
           -29.373304990454514,
           -23.445687673274584,
           -17.518070356094658,
           -11.590453038914717,
           -5.662835721734787,
           0.26478159544514135,
           6.192398912625082,
           12.120016229805,
           18.04763354698494,
           23.975250864164884,
           29.9028681813448,
           35.83048549852474,
           41.75810281570468,
           47.6857201328846,
           53.613337450064535,
           59.54095476724448,
           65.4685720844244,
           71.39618940160433
          ],
          [
           -97.90086928186119,
           -91.97325196468127,
           -86.04563464750133,
           -80.1180173303214,
           -74.19040001314147,
           -68.26278269596153,
           -62.335165378781596,
           -56.40754806160167,
           -50.47993074442173,
           -44.5523134272418,
           -38.62469611006187,
           -32.697078792881946,
           -26.769461475702002,
           -20.841844158522072,
           -14.914226841342145,
           -8.986609524162205,
           -3.058992206982275,
           2.8686251101976534,
           8.796242427377594,
           14.723859744557513,
           20.651477061737452,
           26.579094378917397,
           32.50671169609731,
           38.43432901327725,
           44.361946330457194,
           50.28956364763711,
           56.21718096481705,
           62.144798281997,
           68.0724155991769,
           74.00003291635684
          ],
          [
           -95.29702576710868,
           -89.36940844992876,
           -83.44179113274882,
           -77.51417381556888,
           -71.58655649838896,
           -65.65893918120902,
           -59.731321864029084,
           -53.80370454684916,
           -47.87608722966922,
           -41.94846991248929,
           -36.02085259530936,
           -30.093235278129434,
           -24.16561796094949,
           -18.238000643769563,
           -12.310383326589633,
           -6.382766009409693,
           -0.45514869222976273,
           5.4724686249501655,
           11.400085942130106,
           17.327703259310027,
           23.255320576489964,
           29.18293789366991,
           35.110555210849824,
           41.03817252802976,
           46.965789845209706,
           52.89340716238962,
           58.82102447956956,
           64.74864179674951,
           70.67625911392942,
           76.60387643110936
          ],
          [
           -92.69318225235617,
           -86.76556493517624,
           -80.8379476179963,
           -74.91033030081637,
           -68.98271298363645,
           -63.05509566645651,
           -57.12747834927657,
           -51.19986103209665,
           -45.2722437149167,
           -39.344626397736775,
           -33.417009080556845,
           -27.489391763376922,
           -21.561774446196978,
           -15.63415712901705,
           -9.70653981183712,
           -3.778922494657179,
           2.148694822522751,
           8.07631213970268,
           14.003929456882618,
           19.93154677406254,
           25.859164091242477,
           31.78678140842242,
           37.71439872560234,
           43.642016042782274,
           49.569633359962225,
           55.497250677142134,
           61.42486799432207,
           67.35248531150202,
           73.28010262868193,
           79.20771994586187
          ],
          [
           -90.08933873760365,
           -84.16172142042373,
           -78.2341041032438,
           -72.30648678606386,
           -66.37886946888393,
           -60.451252151704,
           -54.52363483452406,
           -48.59601751734414,
           -42.668400200164186,
           -36.74078288298426,
           -30.813165565804333,
           -24.88554824862441,
           -18.957930931444466,
           -13.030313614264537,
           -7.1026962970846075,
           -1.1750789799046668,
           4.752538337275263,
           10.680155654455191,
           16.60777297163513,
           22.53539028881505,
           28.46300760599499,
           34.39062492317493,
           40.31824224035485,
           46.245859557534786,
           52.17347687471474,
           58.101094191894646,
           64.02871150907458,
           69.95632882625453,
           75.88394614343444,
           81.81156346061438
          ],
          [
           -87.48549522285114,
           -81.55787790567122,
           -75.63026058849128,
           -69.70264327131135,
           -63.77502595413142,
           -57.847408636951485,
           -51.91979131977155,
           -45.992174002591625,
           -40.064556685411674,
           -34.13693936823175,
           -28.20932205105182,
           -22.281704733871898,
           -16.354087416691954,
           -10.426470099512025,
           -4.498852782332095,
           1.4287645348478453,
           7.356381852027775,
           13.283999169207702,
           19.21161648638764,
           25.139233803567564,
           31.0668511207475,
           36.994468437927445,
           42.92208575510736,
           48.8497030722873,
           54.77732038946725,
           60.70493770664716,
           66.6325550238271,
           72.56017234100705,
           78.48778965818695,
           84.41540697536689
          ],
          [
           -84.88165170809863,
           -78.95403439091871,
           -73.02641707373877,
           -67.09879975655883,
           -61.17118243937891,
           -55.24356512219897,
           -49.315947805019036,
           -43.38833048783911,
           -37.46071317065916,
           -31.53309585347924,
           -25.60547853629931,
           -19.677861219119386,
           -13.75024390193944,
           -7.822626584759513,
           -1.8950092675795833,
           4.032608049600357,
           9.960225366780287,
           15.887842683960214,
           21.815460001140153,
           27.743077318320076,
           33.67069463550001,
           39.59831195267996,
           45.52592926985987,
           51.45354658703981,
           57.38116390421976,
           63.30878122139967,
           69.2363985385796,
           75.16401585575956,
           81.09163317293947,
           87.0192504901194
          ],
          [
           -82.2778081933461,
           -76.35019087616618,
           -70.42257355898624,
           -64.4949562418063,
           -58.567338924626384,
           -52.63972160744645,
           -46.71210429026651,
           -40.78448697308659,
           -34.85686965590664,
           -28.929252338726712,
           -23.001635021546782,
           -17.07401770436686,
           -11.146400387186917,
           -5.218783070006991,
           0.7088342471729394,
           6.63645156435288,
           12.56406888153281,
           18.491686198712742,
           24.41930351589268,
           30.346920833072602,
           36.27453815025254,
           42.202155467432476,
           48.1297727846124,
           54.057390101792336,
           59.98500741897228,
           65.9126247361522,
           71.84024205333213,
           77.76785937051208,
           83.695476687692,
           89.62309400487193
          ],
          [
           -79.67396467859359,
           -73.74634736141367,
           -67.81873004423373,
           -61.891112727053795,
           -55.96349540987387,
           -50.035878092693935,
           -44.108260775514,
           -38.180643458334075,
           -32.25302614115413,
           -26.3254088239742,
           -20.39779150679427,
           -14.47017418961435,
           -8.542556872434405,
           -2.6149395552544785,
           3.3126777619254515,
           9.240295079105392,
           15.167912396285322,
           21.095529713465254,
           27.02314703064519,
           32.950764347825114,
           38.87838166500505,
           44.80599898218499,
           50.73361629936491,
           56.66123361654485,
           62.5888509337248,
           68.51646825090471,
           74.44408556808465,
           80.37170288526458,
           86.2993202024445,
           92.22693751962444
          ],
          [
           -77.07012116384108,
           -71.14250384666116,
           -65.21488652948122,
           -59.28726921230128,
           -53.35965189512136,
           -47.43203457794142,
           -41.504417260761485,
           -35.57679994358156,
           -29.64918262640162,
           -23.72156530922169,
           -17.79394799204176,
           -11.866330674861837,
           -5.938713357681893,
           -0.011096040501966442,
           5.916521276677964,
           11.844138593857904,
           17.771755911037836,
           23.699373228217766,
           29.626990545397703,
           35.554607862577626,
           41.48222517975756,
           47.4098424969375,
           53.33745981411742,
           59.26507713129736,
           65.1926944484773,
           71.12031176565722,
           77.04792908283716,
           82.97554640001711,
           88.90316371719702,
           94.83078103437695
          ],
          [
           -74.46627764908857,
           -68.53866033190864,
           -62.61104301472871,
           -56.68342569754877,
           -50.75580838036885,
           -44.82819106318891,
           -38.90057374600897,
           -32.97295642882905,
           -27.045339111649106,
           -21.117721794469176,
           -15.190104477289248,
           -9.262487160109325,
           -3.334869842929381,
           2.5927474742505456,
           8.520364791430476,
           14.447982108610416,
           20.375599425790348,
           26.303216742970278,
           32.230834060150215,
           38.15845137733014,
           44.086068694510075,
           50.01368601169001,
           55.941303328869935,
           61.86892064604987,
           67.79653796322982,
           73.72415528040973,
           79.65177259758967,
           85.5793899147696,
           91.50700723194953,
           97.43462454912947
          ],
          [
           -71.86243413433606,
           -65.93481681715613,
           -60.007199499976196,
           -54.07958218279626,
           -48.151964865616335,
           -42.2243475484364,
           -36.29673023125646,
           -30.36911291407654,
           -24.441495596896594,
           -18.513878279716664,
           -12.586260962536736,
           -6.658643645356813,
           -0.7310263281768687,
           5.196590989003058,
           11.124208306182988,
           17.05182562336293,
           22.97944294054286,
           28.90706025772279,
           34.83467757490273,
           40.76229489208265,
           46.68991220926259,
           52.617529526442524,
           58.54514684362245,
           64.47276416080238,
           70.40038147798232,
           76.32799879516224,
           82.25561611234218,
           88.18323342952213,
           94.11085074670204,
           100.03846806388198
          ],
          [
           -69.25859061958354,
           -63.33097330240362,
           -57.40335598522368,
           -51.475738668043746,
           -45.54812135086382,
           -39.620504033683886,
           -33.69288671650395,
           -27.765269399324026,
           -21.837652082144082,
           -15.910034764964154,
           -9.982417447784224,
           -4.054800130604301,
           1.8728171865756433,
           7.80043450375557,
           13.7280518209355,
           19.655669138115442,
           25.583286455295372,
           31.510903772475302,
           37.43852108965524,
           43.36613840683516,
           49.2937557240151,
           55.22137304119504,
           61.14899035837496,
           67.0766076755549,
           73.00422499273485,
           78.93184230991476,
           84.8594596270947,
           90.78707694427463,
           96.71469426145455,
           102.64231157863449
          ]
         ]
        }
       ],
       "layout": {
        "height": 700,
        "scene": {
         "xaxis": {
          "title": {
           "text": "Feature 1"
          }
         },
         "yaxis": {
          "title": {
           "text": "Feature 2"
          }
         },
         "zaxis": {
          "title": {
           "text": "Target"
          }
         }
        },
        "template": {
         "data": {
          "bar": [
           {
            "error_x": {
             "color": "#2a3f5f"
            },
            "error_y": {
             "color": "#2a3f5f"
            },
            "marker": {
             "line": {
              "color": "#E5ECF6",
              "width": 0.5
             },
             "pattern": {
              "fillmode": "overlay",
              "size": 10,
              "solidity": 0.2
             }
            },
            "type": "bar"
           }
          ],
          "barpolar": [
           {
            "marker": {
             "line": {
              "color": "#E5ECF6",
              "width": 0.5
             },
             "pattern": {
              "fillmode": "overlay",
              "size": 10,
              "solidity": 0.2
             }
            },
            "type": "barpolar"
           }
          ],
          "carpet": [
           {
            "aaxis": {
             "endlinecolor": "#2a3f5f",
             "gridcolor": "white",
             "linecolor": "white",
             "minorgridcolor": "white",
             "startlinecolor": "#2a3f5f"
            },
            "baxis": {
             "endlinecolor": "#2a3f5f",
             "gridcolor": "white",
             "linecolor": "white",
             "minorgridcolor": "white",
             "startlinecolor": "#2a3f5f"
            },
            "type": "carpet"
           }
          ],
          "choropleth": [
           {
            "colorbar": {
             "outlinewidth": 0,
             "ticks": ""
            },
            "type": "choropleth"
           }
          ],
          "contour": [
           {
            "colorbar": {
             "outlinewidth": 0,
             "ticks": ""
            },
            "colorscale": [
             [
              0,
              "#0d0887"
             ],
             [
              0.1111111111111111,
              "#46039f"
             ],
             [
              0.2222222222222222,
              "#7201a8"
             ],
             [
              0.3333333333333333,
              "#9c179e"
             ],
             [
              0.4444444444444444,
              "#bd3786"
             ],
             [
              0.5555555555555556,
              "#d8576b"
             ],
             [
              0.6666666666666666,
              "#ed7953"
             ],
             [
              0.7777777777777778,
              "#fb9f3a"
             ],
             [
              0.8888888888888888,
              "#fdca26"
             ],
             [
              1,
              "#f0f921"
             ]
            ],
            "type": "contour"
           }
          ],
          "contourcarpet": [
           {
            "colorbar": {
             "outlinewidth": 0,
             "ticks": ""
            },
            "type": "contourcarpet"
           }
          ],
          "heatmap": [
           {
            "colorbar": {
             "outlinewidth": 0,
             "ticks": ""
            },
            "colorscale": [
             [
              0,
              "#0d0887"
             ],
             [
              0.1111111111111111,
              "#46039f"
             ],
             [
              0.2222222222222222,
              "#7201a8"
             ],
             [
              0.3333333333333333,
              "#9c179e"
             ],
             [
              0.4444444444444444,
              "#bd3786"
             ],
             [
              0.5555555555555556,
              "#d8576b"
             ],
             [
              0.6666666666666666,
              "#ed7953"
             ],
             [
              0.7777777777777778,
              "#fb9f3a"
             ],
             [
              0.8888888888888888,
              "#fdca26"
             ],
             [
              1,
              "#f0f921"
             ]
            ],
            "type": "heatmap"
           }
          ],
          "heatmapgl": [
           {
            "colorbar": {
             "outlinewidth": 0,
             "ticks": ""
            },
            "colorscale": [
             [
              0,
              "#0d0887"
             ],
             [
              0.1111111111111111,
              "#46039f"
             ],
             [
              0.2222222222222222,
              "#7201a8"
             ],
             [
              0.3333333333333333,
              "#9c179e"
             ],
             [
              0.4444444444444444,
              "#bd3786"
             ],
             [
              0.5555555555555556,
              "#d8576b"
             ],
             [
              0.6666666666666666,
              "#ed7953"
             ],
             [
              0.7777777777777778,
              "#fb9f3a"
             ],
             [
              0.8888888888888888,
              "#fdca26"
             ],
             [
              1,
              "#f0f921"
             ]
            ],
            "type": "heatmapgl"
           }
          ],
          "histogram": [
           {
            "marker": {
             "pattern": {
              "fillmode": "overlay",
              "size": 10,
              "solidity": 0.2
             }
            },
            "type": "histogram"
           }
          ],
          "histogram2d": [
           {
            "colorbar": {
             "outlinewidth": 0,
             "ticks": ""
            },
            "colorscale": [
             [
              0,
              "#0d0887"
             ],
             [
              0.1111111111111111,
              "#46039f"
             ],
             [
              0.2222222222222222,
              "#7201a8"
             ],
             [
              0.3333333333333333,
              "#9c179e"
             ],
             [
              0.4444444444444444,
              "#bd3786"
             ],
             [
              0.5555555555555556,
              "#d8576b"
             ],
             [
              0.6666666666666666,
              "#ed7953"
             ],
             [
              0.7777777777777778,
              "#fb9f3a"
             ],
             [
              0.8888888888888888,
              "#fdca26"
             ],
             [
              1,
              "#f0f921"
             ]
            ],
            "type": "histogram2d"
           }
          ],
          "histogram2dcontour": [
           {
            "colorbar": {
             "outlinewidth": 0,
             "ticks": ""
            },
            "colorscale": [
             [
              0,
              "#0d0887"
             ],
             [
              0.1111111111111111,
              "#46039f"
             ],
             [
              0.2222222222222222,
              "#7201a8"
             ],
             [
              0.3333333333333333,
              "#9c179e"
             ],
             [
              0.4444444444444444,
              "#bd3786"
             ],
             [
              0.5555555555555556,
              "#d8576b"
             ],
             [
              0.6666666666666666,
              "#ed7953"
             ],
             [
              0.7777777777777778,
              "#fb9f3a"
             ],
             [
              0.8888888888888888,
              "#fdca26"
             ],
             [
              1,
              "#f0f921"
             ]
            ],
            "type": "histogram2dcontour"
           }
          ],
          "mesh3d": [
           {
            "colorbar": {
             "outlinewidth": 0,
             "ticks": ""
            },
            "type": "mesh3d"
           }
          ],
          "parcoords": [
           {
            "line": {
             "colorbar": {
              "outlinewidth": 0,
              "ticks": ""
             }
            },
            "type": "parcoords"
           }
          ],
          "pie": [
           {
            "automargin": true,
            "type": "pie"
           }
          ],
          "scatter": [
           {
            "fillpattern": {
             "fillmode": "overlay",
             "size": 10,
             "solidity": 0.2
            },
            "type": "scatter"
           }
          ],
          "scatter3d": [
           {
            "line": {
             "colorbar": {
              "outlinewidth": 0,
              "ticks": ""
             }
            },
            "marker": {
             "colorbar": {
              "outlinewidth": 0,
              "ticks": ""
             }
            },
            "type": "scatter3d"
           }
          ],
          "scattercarpet": [
           {
            "marker": {
             "colorbar": {
              "outlinewidth": 0,
              "ticks": ""
             }
            },
            "type": "scattercarpet"
           }
          ],
          "scattergeo": [
           {
            "marker": {
             "colorbar": {
              "outlinewidth": 0,
              "ticks": ""
             }
            },
            "type": "scattergeo"
           }
          ],
          "scattergl": [
           {
            "marker": {
             "colorbar": {
              "outlinewidth": 0,
              "ticks": ""
             }
            },
            "type": "scattergl"
           }
          ],
          "scattermapbox": [
           {
            "marker": {
             "colorbar": {
              "outlinewidth": 0,
              "ticks": ""
             }
            },
            "type": "scattermapbox"
           }
          ],
          "scatterpolar": [
           {
            "marker": {
             "colorbar": {
              "outlinewidth": 0,
              "ticks": ""
             }
            },
            "type": "scatterpolar"
           }
          ],
          "scatterpolargl": [
           {
            "marker": {
             "colorbar": {
              "outlinewidth": 0,
              "ticks": ""
             }
            },
            "type": "scatterpolargl"
           }
          ],
          "scatterternary": [
           {
            "marker": {
             "colorbar": {
              "outlinewidth": 0,
              "ticks": ""
             }
            },
            "type": "scatterternary"
           }
          ],
          "surface": [
           {
            "colorbar": {
             "outlinewidth": 0,
             "ticks": ""
            },
            "colorscale": [
             [
              0,
              "#0d0887"
             ],
             [
              0.1111111111111111,
              "#46039f"
             ],
             [
              0.2222222222222222,
              "#7201a8"
             ],
             [
              0.3333333333333333,
              "#9c179e"
             ],
             [
              0.4444444444444444,
              "#bd3786"
             ],
             [
              0.5555555555555556,
              "#d8576b"
             ],
             [
              0.6666666666666666,
              "#ed7953"
             ],
             [
              0.7777777777777778,
              "#fb9f3a"
             ],
             [
              0.8888888888888888,
              "#fdca26"
             ],
             [
              1,
              "#f0f921"
             ]
            ],
            "type": "surface"
           }
          ],
          "table": [
           {
            "cells": {
             "fill": {
              "color": "#EBF0F8"
             },
             "line": {
              "color": "white"
             }
            },
            "header": {
             "fill": {
              "color": "#C8D4E3"
             },
             "line": {
              "color": "white"
             }
            },
            "type": "table"
           }
          ]
         },
         "layout": {
          "annotationdefaults": {
           "arrowcolor": "#2a3f5f",
           "arrowhead": 0,
           "arrowwidth": 1
          },
          "autotypenumbers": "strict",
          "coloraxis": {
           "colorbar": {
            "outlinewidth": 0,
            "ticks": ""
           }
          },
          "colorscale": {
           "diverging": [
            [
             0,
             "#8e0152"
            ],
            [
             0.1,
             "#c51b7d"
            ],
            [
             0.2,
             "#de77ae"
            ],
            [
             0.3,
             "#f1b6da"
            ],
            [
             0.4,
             "#fde0ef"
            ],
            [
             0.5,
             "#f7f7f7"
            ],
            [
             0.6,
             "#e6f5d0"
            ],
            [
             0.7,
             "#b8e186"
            ],
            [
             0.8,
             "#7fbc41"
            ],
            [
             0.9,
             "#4d9221"
            ],
            [
             1,
             "#276419"
            ]
           ],
           "sequential": [
            [
             0,
             "#0d0887"
            ],
            [
             0.1111111111111111,
             "#46039f"
            ],
            [
             0.2222222222222222,
             "#7201a8"
            ],
            [
             0.3333333333333333,
             "#9c179e"
            ],
            [
             0.4444444444444444,
             "#bd3786"
            ],
            [
             0.5555555555555556,
             "#d8576b"
            ],
            [
             0.6666666666666666,
             "#ed7953"
            ],
            [
             0.7777777777777778,
             "#fb9f3a"
            ],
            [
             0.8888888888888888,
             "#fdca26"
            ],
            [
             1,
             "#f0f921"
            ]
           ],
           "sequentialminus": [
            [
             0,
             "#0d0887"
            ],
            [
             0.1111111111111111,
             "#46039f"
            ],
            [
             0.2222222222222222,
             "#7201a8"
            ],
            [
             0.3333333333333333,
             "#9c179e"
            ],
            [
             0.4444444444444444,
             "#bd3786"
            ],
            [
             0.5555555555555556,
             "#d8576b"
            ],
            [
             0.6666666666666666,
             "#ed7953"
            ],
            [
             0.7777777777777778,
             "#fb9f3a"
            ],
            [
             0.8888888888888888,
             "#fdca26"
            ],
            [
             1,
             "#f0f921"
            ]
           ]
          },
          "colorway": [
           "#636efa",
           "#EF553B",
           "#00cc96",
           "#ab63fa",
           "#FFA15A",
           "#19d3f3",
           "#FF6692",
           "#B6E880",
           "#FF97FF",
           "#FECB52"
          ],
          "font": {
           "color": "#2a3f5f"
          },
          "geo": {
           "bgcolor": "white",
           "lakecolor": "white",
           "landcolor": "#E5ECF6",
           "showlakes": true,
           "showland": true,
           "subunitcolor": "white"
          },
          "hoverlabel": {
           "align": "left"
          },
          "hovermode": "closest",
          "mapbox": {
           "style": "light"
          },
          "paper_bgcolor": "white",
          "plot_bgcolor": "#E5ECF6",
          "polar": {
           "angularaxis": {
            "gridcolor": "white",
            "linecolor": "white",
            "ticks": ""
           },
           "bgcolor": "#E5ECF6",
           "radialaxis": {
            "gridcolor": "white",
            "linecolor": "white",
            "ticks": ""
           }
          },
          "scene": {
           "xaxis": {
            "backgroundcolor": "#E5ECF6",
            "gridcolor": "white",
            "gridwidth": 2,
            "linecolor": "white",
            "showbackground": true,
            "ticks": "",
            "zerolinecolor": "white"
           },
           "yaxis": {
            "backgroundcolor": "#E5ECF6",
            "gridcolor": "white",
            "gridwidth": 2,
            "linecolor": "white",
            "showbackground": true,
            "ticks": "",
            "zerolinecolor": "white"
           },
           "zaxis": {
            "backgroundcolor": "#E5ECF6",
            "gridcolor": "white",
            "gridwidth": 2,
            "linecolor": "white",
            "showbackground": true,
            "ticks": "",
            "zerolinecolor": "white"
           }
          },
          "shapedefaults": {
           "line": {
            "color": "#2a3f5f"
           }
          },
          "ternary": {
           "aaxis": {
            "gridcolor": "white",
            "linecolor": "white",
            "ticks": ""
           },
           "baxis": {
            "gridcolor": "white",
            "linecolor": "white",
            "ticks": ""
           },
           "bgcolor": "#E5ECF6",
           "caxis": {
            "gridcolor": "white",
            "linecolor": "white",
            "ticks": ""
           }
          },
          "title": {
           "x": 0.05
          },
          "xaxis": {
           "automargin": true,
           "gridcolor": "white",
           "linecolor": "white",
           "ticks": "",
           "title": {
            "standoff": 15
           },
           "zerolinecolor": "white",
           "zerolinewidth": 2
          },
          "yaxis": {
           "automargin": true,
           "gridcolor": "white",
           "linecolor": "white",
           "ticks": "",
           "title": {
            "standoff": 15
           },
           "zerolinecolor": "white",
           "zerolinewidth": 2
          }
         }
        },
        "title": {
         "text": "Multiple Linear Regression - 3D Regression Plane"
        },
        "width": 800
       }
      }
     },
     "metadata": {},
     "output_type": "display_data"
    }
   ],
   "source": [
    "grid_size = 30\n",
    "feature1_range = np.linspace(df['feature1'].min(), df['feature1'].max(), grid_size)\n",
    "feature2_range = np.linspace(df['feature2'].min(), df['feature2'].max(), grid_size)\n",
    "feature1_grid, feature2_grid = np.meshgrid(feature1_range, feature2_range)\n",
    "\n",
    "\n",
    "grid_points = np.c_[feature1_grid.ravel(), feature2_grid.ravel()]\n",
    "predicted_target = lr.predict(grid_points).reshape(feature1_grid.shape)\n",
    "\n",
    "# 3D Plot using Plotly\n",
    "fig = go.Figure()\n",
    "\n",
    "# Scatter plot of the actual data points\n",
    "fig.add_trace(go.Scatter3d(x=df['feature1'], y=df['feature2'], z=df['target'],\n",
    "                           mode='markers', marker=dict(size=4, color='blue'), name='Actual Data'))\n",
    "\n",
    "# Surface plot of the regression plane\n",
    "fig.add_trace(go.Surface(x=feature1_grid, y=feature2_grid, z=predicted_target,\n",
    "                         opacity=0.5, colorscale='Viridis', name='Regression Plane'))\n",
    "\n",
    "fig.update_layout(scene=dict(xaxis_title='Feature 1',\n",
    "                             yaxis_title='Feature 2',\n",
    "                             zaxis_title='Target'),\n",
    "                  title='Multiple Linear Regression - 3D Regression Plane',\n",
    "                  width=800, height=700)\n",
    "fig.show()"
   ]
  }
 ],
 "metadata": {
  "kernelspec": {
   "display_name": "base",
   "language": "python",
   "name": "python3"
  },
  "language_info": {
   "codemirror_mode": {
    "name": "ipython",
    "version": 3
   },
   "file_extension": ".py",
   "mimetype": "text/x-python",
   "name": "python",
   "nbconvert_exporter": "python",
   "pygments_lexer": "ipython3",
   "version": "3.12.7"
  }
 },
 "nbformat": 4,
 "nbformat_minor": 5
}
