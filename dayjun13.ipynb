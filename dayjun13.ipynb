{
 "cells": [
  {
   "cell_type": "code",
   "execution_count": 1,
   "id": "a343c0a4",
   "metadata": {},
   "outputs": [],
   "source": [
    "from sklearn.datasets import make_regression\n",
    "import pandas as pd\n",
    "import numpy as np\n",
    "\n",
    "import plotly.express as px\n",
    "import plotly.graph_objects as go\n",
    "\n",
    "from sklearn.metrics import mean_absolute_error,mean_squared_error,r2_score"
   ]
  },
  {
   "cell_type": "code",
   "execution_count": 2,
   "id": "9382c895",
   "metadata": {},
   "outputs": [],
   "source": [
    "from sklearn.metrics import mean_absolute_error,mean_squared_error,r2_score"
   ]
  },
  {
   "cell_type": "code",
   "execution_count": null,
   "id": "b9b363ed",
   "metadata": {},
   "outputs": [],
   "source": [
    "x,y = make_regression(n_samples=100, n_features=2, n_informative=2, n_targets=1, noise=50)\n",
    "df = pd.DataFrame({'feature1':x[:,0],'feature2':x[:,1],'target':y})\n"
   ]
  },
  {
   "cell_type": "code",
   "execution_count": 4,
   "id": "0b0bc1da",
   "metadata": {},
   "outputs": [
    {
     "data": {
      "text/plain": [
       "(100, 3)"
      ]
     },
     "execution_count": 4,
     "metadata": {},
     "output_type": "execute_result"
    }
   ],
   "source": [
    "df.shape"
   ]
  },
  {
   "cell_type": "code",
   "execution_count": 5,
   "id": "0f89b515",
   "metadata": {},
   "outputs": [
    {
     "data": {
      "text/html": [
       "<div>\n",
       "<style scoped>\n",
       "    .dataframe tbody tr th:only-of-type {\n",
       "        vertical-align: middle;\n",
       "    }\n",
       "\n",
       "    .dataframe tbody tr th {\n",
       "        vertical-align: top;\n",
       "    }\n",
       "\n",
       "    .dataframe thead th {\n",
       "        text-align: right;\n",
       "    }\n",
       "</style>\n",
       "<table border=\"1\" class=\"dataframe\">\n",
       "  <thead>\n",
       "    <tr style=\"text-align: right;\">\n",
       "      <th></th>\n",
       "      <th>feature1</th>\n",
       "      <th>feature2</th>\n",
       "      <th>target</th>\n",
       "    </tr>\n",
       "  </thead>\n",
       "  <tbody>\n",
       "    <tr>\n",
       "      <th>0</th>\n",
       "      <td>-0.184649</td>\n",
       "      <td>-0.133315</td>\n",
       "      <td>9.465631</td>\n",
       "    </tr>\n",
       "    <tr>\n",
       "      <th>1</th>\n",
       "      <td>-0.037452</td>\n",
       "      <td>-0.082149</td>\n",
       "      <td>98.369332</td>\n",
       "    </tr>\n",
       "    <tr>\n",
       "      <th>2</th>\n",
       "      <td>-1.283630</td>\n",
       "      <td>-0.836635</td>\n",
       "      <td>-165.847801</td>\n",
       "    </tr>\n",
       "    <tr>\n",
       "      <th>3</th>\n",
       "      <td>0.674377</td>\n",
       "      <td>0.881930</td>\n",
       "      <td>169.413973</td>\n",
       "    </tr>\n",
       "    <tr>\n",
       "      <th>4</th>\n",
       "      <td>0.583331</td>\n",
       "      <td>-2.323635</td>\n",
       "      <td>-127.466169</td>\n",
       "    </tr>\n",
       "  </tbody>\n",
       "</table>\n",
       "</div>"
      ],
      "text/plain": [
       "   feature1  feature2      target\n",
       "0 -0.184649 -0.133315    9.465631\n",
       "1 -0.037452 -0.082149   98.369332\n",
       "2 -1.283630 -0.836635 -165.847801\n",
       "3  0.674377  0.881930  169.413973\n",
       "4  0.583331 -2.323635 -127.466169"
      ]
     },
     "execution_count": 5,
     "metadata": {},
     "output_type": "execute_result"
    }
   ],
   "source": [
    "df.head()"
   ]
  },
  {
   "cell_type": "code",
   "execution_count": 6,
   "id": "18140281",
   "metadata": {},
   "outputs": [
    {
     "data": {
      "application/vnd.plotly.v1+json": {
       "config": {
        "plotlyServerURL": "https://plot.ly"
       },
       "data": [
        {
         "hovertemplate": "feature1=%{x}<br>feature2=%{y}<br>target=%{z}<extra></extra>",
         "legendgroup": "",
         "marker": {
          "color": "#636efa",
          "symbol": "circle"
         },
         "mode": "markers",
         "name": "",
         "scene": "scene",
         "showlegend": false,
         "type": "scatter3d",
         "x": [
          -0.18464915703558832,
          -0.0374524998747941,
          -1.2836296653591914,
          0.6743767791110051,
          0.5833306016211206,
          0.3326246541615829,
          -0.3360409266740932,
          0.826041257270794,
          0.29093546081669247,
          0.06223226408685894,
          2.109014505806148,
          0.7212004872520467,
          0.1379188753439222,
          1.751816870948971,
          1.2595659205103964,
          0.4600082642337564,
          0.6235070424162256,
          -0.09731306672974196,
          -0.8939043927039797,
          0.37824021710757094,
          0.5840262431793926,
          1.7221762702494132,
          0.499595125144064,
          0.7746766860128916,
          0.6247101393908918,
          0.9621076533030252,
          0.8736755936415289,
          0.20657304290485856,
          1.1224117106519254,
          -0.5916505360548729,
          0.6469805449907569,
          -1.2995867345892027,
          -0.32486270989068455,
          -0.6580804637297616,
          -0.3876550501502026,
          -1.4566195690546693,
          -0.5791073893990714,
          -0.1743388098192835,
          0.3179776995396672,
          0.24541612971077276,
          -1.4054697116984847,
          -0.19458832856283126,
          -0.15191505235145217,
          -0.8042536521997427,
          0.28228129168715005,
          0.2930400583508985,
          0.8174639523739985,
          -1.7708347873160448,
          -0.7595781034587787,
          -0.17213581207551018,
          1.0648558278865126,
          2.1594464630713053,
          0.8938921615840658,
          -0.732503996635585,
          -0.16624149819545567,
          1.756428309874583,
          0.6272068577964093,
          0.9175314317418278,
          -0.4565519084017192,
          -0.335488308511973,
          -0.9091841454672799,
          0.25705792131065525,
          -1.1747995284158619,
          -0.5690284057065316,
          -0.9797599668855466,
          -0.743312344568215,
          -0.6245880754320952,
          0.6132676722777531,
          0.8124276523387552,
          -0.7147956255768915,
          -0.8191582414047585,
          0.1905915187994766,
          -0.49832065709266404,
          1.2248542005700078,
          -0.5703705649051392,
          1.0900816670208135,
          0.41133866819297354,
          0.1751047812304514,
          0.29543650389607706,
          -1.3269651824769233,
          1.6499884842037396,
          -0.07473014514707359,
          -0.6722827452629642,
          0.7276749436965033,
          -1.2419242012451177,
          1.0550898102329853,
          0.3647464420259019,
          0.04769902845044013,
          -0.8991858039522745,
          -0.6651591471347111,
          0.954180062770165,
          -0.10353089633103976,
          0.2698594056378843,
          -2.1193353589293658,
          -1.4598070977116504,
          0.29220268465700755,
          -0.022502535854841195,
          -0.3320757973688355,
          -0.031985619808528855,
          -1.246383678356914
         ],
         "y": [
          -0.13331483769752106,
          -0.08214919913911972,
          -0.8366348414172516,
          0.881930232231256,
          -2.3236347655362737,
          0.8051884035314156,
          -0.6075629545142234,
          -0.6197080393683956,
          -0.5389098524677426,
          0.2406539366523632,
          1.6269566506010082,
          0.7367675737028383,
          -0.8391983189734132,
          1.0594337490471368,
          0.37407859588057746,
          -0.2665820313563264,
          1.5254089535081985,
          0.8422978815586489,
          0.33284736419703465,
          1.2770057631418659,
          0.21851121545023866,
          1.0796750767736103,
          -0.8495291942066606,
          -0.149947103691826,
          -1.3000037477894808,
          0.23821522253060726,
          0.039866190242531456,
          1.2662426330219954,
          -0.18990662249542425,
          -1.421415426032415,
          0.8286240822405795,
          2.4105485966610303,
          0.13541130723480244,
          1.155803703095885,
          -1.131621831585681,
          1.0417842189772157,
          1.5244234575246325,
          0.35917140516532586,
          -1.5554777735346792,
          0.36232710360712456,
          0.07732120136385093,
          -0.5138529008292205,
          -0.04871063150274942,
          -0.1322092266389972,
          0.27067598778271684,
          0.3982582928982633,
          0.4519573233004887,
          0.26615510837300854,
          0.1272061504360019,
          0.580189210080261,
          1.5535794275282204,
          -0.5178829597047554,
          -0.5953266447138896,
          0.14539542454919283,
          -0.7952072615184274,
          -0.509888067941581,
          -0.1581013503554207,
          -0.5216984273922798,
          -0.3840706511473966,
          -1.1303506236583958,
          -1.2016945743533152,
          1.9371496986941072,
          0.160117985428098,
          0.025254843017539656,
          0.6077391965560801,
          -0.7414737588521627,
          1.1626474903672404,
          0.6648237810599125,
          -0.18676845068521322,
          0.7125067577970526,
          -1.4674614059579036,
          -0.8352775348433356,
          -0.29916324261184946,
          2.4346732473966064,
          -0.8528168650938384,
          1.4479265411795534,
          -0.7118009331321733,
          0.6873644787804801,
          -0.7242452638291645,
          0.2716212232034852,
          0.7019955880244871,
          0.1589041101188518,
          -2.138773906475886,
          -0.1374775141688328,
          -1.2106572924044627,
          -0.7850061741000084,
          0.5546473672708166,
          0.9303285442154052,
          -0.3251674810355157,
          -0.20254370385629475,
          -0.8307559132529538,
          1.3143068846929753,
          -1.27718020430766,
          1.3619830585152217,
          0.7956648399981591,
          1.5145581312407514,
          -0.06790610977467042,
          0.9129155689229852,
          -0.2934641614398773,
          -1.2922739149716058
         ],
         "z": [
          9.465631278112701,
          98.36933241973807,
          -165.84780130047596,
          169.41397274272535,
          -127.46616900105751,
          52.52403720369469,
          -161.11000119971828,
          -98.57065284837255,
          -43.314734027007894,
          32.26981538844605,
          59.18611387782357,
          53.57222373641434,
          -23.444541139785418,
          31.869008847108972,
          147.26478048352848,
          34.67755798651015,
          74.91466904868821,
          58.045911778474924,
          65.46254828043622,
          21.455471582989816,
          -5.622098896322729,
          119.70265188630414,
          -75.98187144315378,
          27.564988622279262,
          -112.20080504054596,
          2.0795280264564937,
          10.572297036614353,
          142.87663251347573,
          95.18840037091516,
          -131.05512551787714,
          18.471524960894122,
          53.183445903797235,
          -72.78352611302967,
          110.47327143795415,
          -75.01824019081339,
          13.990399698779253,
          68.84501290895815,
          17.513203424637204,
          -116.77073841173436,
          -2.031128311488647,
          69.360694182628,
          3.820659556472073,
          -52.08366025541766,
          13.544297098394978,
          73.88527053795721,
          -13.868982886727927,
          -3.295742920930472,
          -35.59794545223303,
          -37.91559064518557,
          116.13786818877722,
          30.699053710369398,
          -15.4438458730626,
          -34.25831750960166,
          -3.713417796786505,
          -59.20134968094867,
          -72.95442824778561,
          -4.580077017171993,
          -73.33272139830899,
          1.9112293947604257,
          -7.534938366678048,
          -148.7659156285387,
          131.94562986237645,
          -64.22012978084702,
          -63.27311679640423,
          14.716112761384453,
          -163.73372429238358,
          88.29255347864657,
          53.89602841724942,
          53.31759667232492,
          67.74253620509859,
          -95.38780265463191,
          24.460821066359507,
          23.95647428735504,
          176.18457049146778,
          -101.29874327360966,
          87.9448523625517,
          -40.054118901174455,
          60.20939838523949,
          -26.600400541006294,
          -78.5197018828428,
          12.632581842625413,
          -9.65225312030478,
          -236.93296045505602,
          26.356947231003872,
          -53.67078174035416,
          -102.66423983783022,
          48.470817700046425,
          54.232861828452656,
          37.74566658711029,
          -43.08610099045983,
          -9.679289251988084,
          97.6923090538391,
          -126.7604014664704,
          -21.059532664771126,
          53.96242330366283,
          108.70717879681499,
          -67.742345749996,
          -31.333867941344124,
          14.637728289546331,
          -35.87536187083461
         ]
        }
       ],
       "layout": {
        "legend": {
         "tracegroupgap": 0
        },
        "margin": {
         "t": 60
        },
        "scene": {
         "domain": {
          "x": [
           0,
           1
          ],
          "y": [
           0,
           1
          ]
         },
         "xaxis": {
          "title": {
           "text": "feature1"
          }
         },
         "yaxis": {
          "title": {
           "text": "feature2"
          }
         },
         "zaxis": {
          "title": {
           "text": "target"
          }
         }
        },
        "template": {
         "data": {
          "bar": [
           {
            "error_x": {
             "color": "#2a3f5f"
            },
            "error_y": {
             "color": "#2a3f5f"
            },
            "marker": {
             "line": {
              "color": "#E5ECF6",
              "width": 0.5
             },
             "pattern": {
              "fillmode": "overlay",
              "size": 10,
              "solidity": 0.2
             }
            },
            "type": "bar"
           }
          ],
          "barpolar": [
           {
            "marker": {
             "line": {
              "color": "#E5ECF6",
              "width": 0.5
             },
             "pattern": {
              "fillmode": "overlay",
              "size": 10,
              "solidity": 0.2
             }
            },
            "type": "barpolar"
           }
          ],
          "carpet": [
           {
            "aaxis": {
             "endlinecolor": "#2a3f5f",
             "gridcolor": "white",
             "linecolor": "white",
             "minorgridcolor": "white",
             "startlinecolor": "#2a3f5f"
            },
            "baxis": {
             "endlinecolor": "#2a3f5f",
             "gridcolor": "white",
             "linecolor": "white",
             "minorgridcolor": "white",
             "startlinecolor": "#2a3f5f"
            },
            "type": "carpet"
           }
          ],
          "choropleth": [
           {
            "colorbar": {
             "outlinewidth": 0,
             "ticks": ""
            },
            "type": "choropleth"
           }
          ],
          "contour": [
           {
            "colorbar": {
             "outlinewidth": 0,
             "ticks": ""
            },
            "colorscale": [
             [
              0,
              "#0d0887"
             ],
             [
              0.1111111111111111,
              "#46039f"
             ],
             [
              0.2222222222222222,
              "#7201a8"
             ],
             [
              0.3333333333333333,
              "#9c179e"
             ],
             [
              0.4444444444444444,
              "#bd3786"
             ],
             [
              0.5555555555555556,
              "#d8576b"
             ],
             [
              0.6666666666666666,
              "#ed7953"
             ],
             [
              0.7777777777777778,
              "#fb9f3a"
             ],
             [
              0.8888888888888888,
              "#fdca26"
             ],
             [
              1,
              "#f0f921"
             ]
            ],
            "type": "contour"
           }
          ],
          "contourcarpet": [
           {
            "colorbar": {
             "outlinewidth": 0,
             "ticks": ""
            },
            "type": "contourcarpet"
           }
          ],
          "heatmap": [
           {
            "colorbar": {
             "outlinewidth": 0,
             "ticks": ""
            },
            "colorscale": [
             [
              0,
              "#0d0887"
             ],
             [
              0.1111111111111111,
              "#46039f"
             ],
             [
              0.2222222222222222,
              "#7201a8"
             ],
             [
              0.3333333333333333,
              "#9c179e"
             ],
             [
              0.4444444444444444,
              "#bd3786"
             ],
             [
              0.5555555555555556,
              "#d8576b"
             ],
             [
              0.6666666666666666,
              "#ed7953"
             ],
             [
              0.7777777777777778,
              "#fb9f3a"
             ],
             [
              0.8888888888888888,
              "#fdca26"
             ],
             [
              1,
              "#f0f921"
             ]
            ],
            "type": "heatmap"
           }
          ],
          "heatmapgl": [
           {
            "colorbar": {
             "outlinewidth": 0,
             "ticks": ""
            },
            "colorscale": [
             [
              0,
              "#0d0887"
             ],
             [
              0.1111111111111111,
              "#46039f"
             ],
             [
              0.2222222222222222,
              "#7201a8"
             ],
             [
              0.3333333333333333,
              "#9c179e"
             ],
             [
              0.4444444444444444,
              "#bd3786"
             ],
             [
              0.5555555555555556,
              "#d8576b"
             ],
             [
              0.6666666666666666,
              "#ed7953"
             ],
             [
              0.7777777777777778,
              "#fb9f3a"
             ],
             [
              0.8888888888888888,
              "#fdca26"
             ],
             [
              1,
              "#f0f921"
             ]
            ],
            "type": "heatmapgl"
           }
          ],
          "histogram": [
           {
            "marker": {
             "pattern": {
              "fillmode": "overlay",
              "size": 10,
              "solidity": 0.2
             }
            },
            "type": "histogram"
           }
          ],
          "histogram2d": [
           {
            "colorbar": {
             "outlinewidth": 0,
             "ticks": ""
            },
            "colorscale": [
             [
              0,
              "#0d0887"
             ],
             [
              0.1111111111111111,
              "#46039f"
             ],
             [
              0.2222222222222222,
              "#7201a8"
             ],
             [
              0.3333333333333333,
              "#9c179e"
             ],
             [
              0.4444444444444444,
              "#bd3786"
             ],
             [
              0.5555555555555556,
              "#d8576b"
             ],
             [
              0.6666666666666666,
              "#ed7953"
             ],
             [
              0.7777777777777778,
              "#fb9f3a"
             ],
             [
              0.8888888888888888,
              "#fdca26"
             ],
             [
              1,
              "#f0f921"
             ]
            ],
            "type": "histogram2d"
           }
          ],
          "histogram2dcontour": [
           {
            "colorbar": {
             "outlinewidth": 0,
             "ticks": ""
            },
            "colorscale": [
             [
              0,
              "#0d0887"
             ],
             [
              0.1111111111111111,
              "#46039f"
             ],
             [
              0.2222222222222222,
              "#7201a8"
             ],
             [
              0.3333333333333333,
              "#9c179e"
             ],
             [
              0.4444444444444444,
              "#bd3786"
             ],
             [
              0.5555555555555556,
              "#d8576b"
             ],
             [
              0.6666666666666666,
              "#ed7953"
             ],
             [
              0.7777777777777778,
              "#fb9f3a"
             ],
             [
              0.8888888888888888,
              "#fdca26"
             ],
             [
              1,
              "#f0f921"
             ]
            ],
            "type": "histogram2dcontour"
           }
          ],
          "mesh3d": [
           {
            "colorbar": {
             "outlinewidth": 0,
             "ticks": ""
            },
            "type": "mesh3d"
           }
          ],
          "parcoords": [
           {
            "line": {
             "colorbar": {
              "outlinewidth": 0,
              "ticks": ""
             }
            },
            "type": "parcoords"
           }
          ],
          "pie": [
           {
            "automargin": true,
            "type": "pie"
           }
          ],
          "scatter": [
           {
            "fillpattern": {
             "fillmode": "overlay",
             "size": 10,
             "solidity": 0.2
            },
            "type": "scatter"
           }
          ],
          "scatter3d": [
           {
            "line": {
             "colorbar": {
              "outlinewidth": 0,
              "ticks": ""
             }
            },
            "marker": {
             "colorbar": {
              "outlinewidth": 0,
              "ticks": ""
             }
            },
            "type": "scatter3d"
           }
          ],
          "scattercarpet": [
           {
            "marker": {
             "colorbar": {
              "outlinewidth": 0,
              "ticks": ""
             }
            },
            "type": "scattercarpet"
           }
          ],
          "scattergeo": [
           {
            "marker": {
             "colorbar": {
              "outlinewidth": 0,
              "ticks": ""
             }
            },
            "type": "scattergeo"
           }
          ],
          "scattergl": [
           {
            "marker": {
             "colorbar": {
              "outlinewidth": 0,
              "ticks": ""
             }
            },
            "type": "scattergl"
           }
          ],
          "scattermapbox": [
           {
            "marker": {
             "colorbar": {
              "outlinewidth": 0,
              "ticks": ""
             }
            },
            "type": "scattermapbox"
           }
          ],
          "scatterpolar": [
           {
            "marker": {
             "colorbar": {
              "outlinewidth": 0,
              "ticks": ""
             }
            },
            "type": "scatterpolar"
           }
          ],
          "scatterpolargl": [
           {
            "marker": {
             "colorbar": {
              "outlinewidth": 0,
              "ticks": ""
             }
            },
            "type": "scatterpolargl"
           }
          ],
          "scatterternary": [
           {
            "marker": {
             "colorbar": {
              "outlinewidth": 0,
              "ticks": ""
             }
            },
            "type": "scatterternary"
           }
          ],
          "surface": [
           {
            "colorbar": {
             "outlinewidth": 0,
             "ticks": ""
            },
            "colorscale": [
             [
              0,
              "#0d0887"
             ],
             [
              0.1111111111111111,
              "#46039f"
             ],
             [
              0.2222222222222222,
              "#7201a8"
             ],
             [
              0.3333333333333333,
              "#9c179e"
             ],
             [
              0.4444444444444444,
              "#bd3786"
             ],
             [
              0.5555555555555556,
              "#d8576b"
             ],
             [
              0.6666666666666666,
              "#ed7953"
             ],
             [
              0.7777777777777778,
              "#fb9f3a"
             ],
             [
              0.8888888888888888,
              "#fdca26"
             ],
             [
              1,
              "#f0f921"
             ]
            ],
            "type": "surface"
           }
          ],
          "table": [
           {
            "cells": {
             "fill": {
              "color": "#EBF0F8"
             },
             "line": {
              "color": "white"
             }
            },
            "header": {
             "fill": {
              "color": "#C8D4E3"
             },
             "line": {
              "color": "white"
             }
            },
            "type": "table"
           }
          ]
         },
         "layout": {
          "annotationdefaults": {
           "arrowcolor": "#2a3f5f",
           "arrowhead": 0,
           "arrowwidth": 1
          },
          "autotypenumbers": "strict",
          "coloraxis": {
           "colorbar": {
            "outlinewidth": 0,
            "ticks": ""
           }
          },
          "colorscale": {
           "diverging": [
            [
             0,
             "#8e0152"
            ],
            [
             0.1,
             "#c51b7d"
            ],
            [
             0.2,
             "#de77ae"
            ],
            [
             0.3,
             "#f1b6da"
            ],
            [
             0.4,
             "#fde0ef"
            ],
            [
             0.5,
             "#f7f7f7"
            ],
            [
             0.6,
             "#e6f5d0"
            ],
            [
             0.7,
             "#b8e186"
            ],
            [
             0.8,
             "#7fbc41"
            ],
            [
             0.9,
             "#4d9221"
            ],
            [
             1,
             "#276419"
            ]
           ],
           "sequential": [
            [
             0,
             "#0d0887"
            ],
            [
             0.1111111111111111,
             "#46039f"
            ],
            [
             0.2222222222222222,
             "#7201a8"
            ],
            [
             0.3333333333333333,
             "#9c179e"
            ],
            [
             0.4444444444444444,
             "#bd3786"
            ],
            [
             0.5555555555555556,
             "#d8576b"
            ],
            [
             0.6666666666666666,
             "#ed7953"
            ],
            [
             0.7777777777777778,
             "#fb9f3a"
            ],
            [
             0.8888888888888888,
             "#fdca26"
            ],
            [
             1,
             "#f0f921"
            ]
           ],
           "sequentialminus": [
            [
             0,
             "#0d0887"
            ],
            [
             0.1111111111111111,
             "#46039f"
            ],
            [
             0.2222222222222222,
             "#7201a8"
            ],
            [
             0.3333333333333333,
             "#9c179e"
            ],
            [
             0.4444444444444444,
             "#bd3786"
            ],
            [
             0.5555555555555556,
             "#d8576b"
            ],
            [
             0.6666666666666666,
             "#ed7953"
            ],
            [
             0.7777777777777778,
             "#fb9f3a"
            ],
            [
             0.8888888888888888,
             "#fdca26"
            ],
            [
             1,
             "#f0f921"
            ]
           ]
          },
          "colorway": [
           "#636efa",
           "#EF553B",
           "#00cc96",
           "#ab63fa",
           "#FFA15A",
           "#19d3f3",
           "#FF6692",
           "#B6E880",
           "#FF97FF",
           "#FECB52"
          ],
          "font": {
           "color": "#2a3f5f"
          },
          "geo": {
           "bgcolor": "white",
           "lakecolor": "white",
           "landcolor": "#E5ECF6",
           "showlakes": true,
           "showland": true,
           "subunitcolor": "white"
          },
          "hoverlabel": {
           "align": "left"
          },
          "hovermode": "closest",
          "mapbox": {
           "style": "light"
          },
          "paper_bgcolor": "white",
          "plot_bgcolor": "#E5ECF6",
          "polar": {
           "angularaxis": {
            "gridcolor": "white",
            "linecolor": "white",
            "ticks": ""
           },
           "bgcolor": "#E5ECF6",
           "radialaxis": {
            "gridcolor": "white",
            "linecolor": "white",
            "ticks": ""
           }
          },
          "scene": {
           "xaxis": {
            "backgroundcolor": "#E5ECF6",
            "gridcolor": "white",
            "gridwidth": 2,
            "linecolor": "white",
            "showbackground": true,
            "ticks": "",
            "zerolinecolor": "white"
           },
           "yaxis": {
            "backgroundcolor": "#E5ECF6",
            "gridcolor": "white",
            "gridwidth": 2,
            "linecolor": "white",
            "showbackground": true,
            "ticks": "",
            "zerolinecolor": "white"
           },
           "zaxis": {
            "backgroundcolor": "#E5ECF6",
            "gridcolor": "white",
            "gridwidth": 2,
            "linecolor": "white",
            "showbackground": true,
            "ticks": "",
            "zerolinecolor": "white"
           }
          },
          "shapedefaults": {
           "line": {
            "color": "#2a3f5f"
           }
          },
          "ternary": {
           "aaxis": {
            "gridcolor": "white",
            "linecolor": "white",
            "ticks": ""
           },
           "baxis": {
            "gridcolor": "white",
            "linecolor": "white",
            "ticks": ""
           },
           "bgcolor": "#E5ECF6",
           "caxis": {
            "gridcolor": "white",
            "linecolor": "white",
            "ticks": ""
           }
          },
          "title": {
           "x": 0.05
          },
          "xaxis": {
           "automargin": true,
           "gridcolor": "white",
           "linecolor": "white",
           "ticks": "",
           "title": {
            "standoff": 15
           },
           "zerolinecolor": "white",
           "zerolinewidth": 2
          },
          "yaxis": {
           "automargin": true,
           "gridcolor": "white",
           "linecolor": "white",
           "ticks": "",
           "title": {
            "standoff": 15
           },
           "zerolinecolor": "white",
           "zerolinewidth": 2
          }
         }
        }
       }
      }
     },
     "metadata": {},
     "output_type": "display_data"
    }
   ],
   "source": [
    "fig = px.scatter_3d(df, x='feature1', y='feature2', z='target')\n",
    "fig.show()"
   ]
  },
  {
   "cell_type": "code",
   "execution_count": 7,
   "id": "d0ae9f98",
   "metadata": {},
   "outputs": [
    {
     "data": {
      "text/html": [
       "<style>#sk-container-id-1 {\n",
       "  /* Definition of color scheme common for light and dark mode */\n",
       "  --sklearn-color-text: black;\n",
       "  --sklearn-color-line: gray;\n",
       "  /* Definition of color scheme for unfitted estimators */\n",
       "  --sklearn-color-unfitted-level-0: #fff5e6;\n",
       "  --sklearn-color-unfitted-level-1: #f6e4d2;\n",
       "  --sklearn-color-unfitted-level-2: #ffe0b3;\n",
       "  --sklearn-color-unfitted-level-3: chocolate;\n",
       "  /* Definition of color scheme for fitted estimators */\n",
       "  --sklearn-color-fitted-level-0: #f0f8ff;\n",
       "  --sklearn-color-fitted-level-1: #d4ebff;\n",
       "  --sklearn-color-fitted-level-2: #b3dbfd;\n",
       "  --sklearn-color-fitted-level-3: cornflowerblue;\n",
       "\n",
       "  /* Specific color for light theme */\n",
       "  --sklearn-color-text-on-default-background: var(--sg-text-color, var(--theme-code-foreground, var(--jp-content-font-color1, black)));\n",
       "  --sklearn-color-background: var(--sg-background-color, var(--theme-background, var(--jp-layout-color0, white)));\n",
       "  --sklearn-color-border-box: var(--sg-text-color, var(--theme-code-foreground, var(--jp-content-font-color1, black)));\n",
       "  --sklearn-color-icon: #696969;\n",
       "\n",
       "  @media (prefers-color-scheme: dark) {\n",
       "    /* Redefinition of color scheme for dark theme */\n",
       "    --sklearn-color-text-on-default-background: var(--sg-text-color, var(--theme-code-foreground, var(--jp-content-font-color1, white)));\n",
       "    --sklearn-color-background: var(--sg-background-color, var(--theme-background, var(--jp-layout-color0, #111)));\n",
       "    --sklearn-color-border-box: var(--sg-text-color, var(--theme-code-foreground, var(--jp-content-font-color1, white)));\n",
       "    --sklearn-color-icon: #878787;\n",
       "  }\n",
       "}\n",
       "\n",
       "#sk-container-id-1 {\n",
       "  color: var(--sklearn-color-text);\n",
       "}\n",
       "\n",
       "#sk-container-id-1 pre {\n",
       "  padding: 0;\n",
       "}\n",
       "\n",
       "#sk-container-id-1 input.sk-hidden--visually {\n",
       "  border: 0;\n",
       "  clip: rect(1px 1px 1px 1px);\n",
       "  clip: rect(1px, 1px, 1px, 1px);\n",
       "  height: 1px;\n",
       "  margin: -1px;\n",
       "  overflow: hidden;\n",
       "  padding: 0;\n",
       "  position: absolute;\n",
       "  width: 1px;\n",
       "}\n",
       "\n",
       "#sk-container-id-1 div.sk-dashed-wrapped {\n",
       "  border: 1px dashed var(--sklearn-color-line);\n",
       "  margin: 0 0.4em 0.5em 0.4em;\n",
       "  box-sizing: border-box;\n",
       "  padding-bottom: 0.4em;\n",
       "  background-color: var(--sklearn-color-background);\n",
       "}\n",
       "\n",
       "#sk-container-id-1 div.sk-container {\n",
       "  /* jupyter's `normalize.less` sets `[hidden] { display: none; }`\n",
       "     but bootstrap.min.css set `[hidden] { display: none !important; }`\n",
       "     so we also need the `!important` here to be able to override the\n",
       "     default hidden behavior on the sphinx rendered scikit-learn.org.\n",
       "     See: https://github.com/scikit-learn/scikit-learn/issues/21755 */\n",
       "  display: inline-block !important;\n",
       "  position: relative;\n",
       "}\n",
       "\n",
       "#sk-container-id-1 div.sk-text-repr-fallback {\n",
       "  display: none;\n",
       "}\n",
       "\n",
       "div.sk-parallel-item,\n",
       "div.sk-serial,\n",
       "div.sk-item {\n",
       "  /* draw centered vertical line to link estimators */\n",
       "  background-image: linear-gradient(var(--sklearn-color-text-on-default-background), var(--sklearn-color-text-on-default-background));\n",
       "  background-size: 2px 100%;\n",
       "  background-repeat: no-repeat;\n",
       "  background-position: center center;\n",
       "}\n",
       "\n",
       "/* Parallel-specific style estimator block */\n",
       "\n",
       "#sk-container-id-1 div.sk-parallel-item::after {\n",
       "  content: \"\";\n",
       "  width: 100%;\n",
       "  border-bottom: 2px solid var(--sklearn-color-text-on-default-background);\n",
       "  flex-grow: 1;\n",
       "}\n",
       "\n",
       "#sk-container-id-1 div.sk-parallel {\n",
       "  display: flex;\n",
       "  align-items: stretch;\n",
       "  justify-content: center;\n",
       "  background-color: var(--sklearn-color-background);\n",
       "  position: relative;\n",
       "}\n",
       "\n",
       "#sk-container-id-1 div.sk-parallel-item {\n",
       "  display: flex;\n",
       "  flex-direction: column;\n",
       "}\n",
       "\n",
       "#sk-container-id-1 div.sk-parallel-item:first-child::after {\n",
       "  align-self: flex-end;\n",
       "  width: 50%;\n",
       "}\n",
       "\n",
       "#sk-container-id-1 div.sk-parallel-item:last-child::after {\n",
       "  align-self: flex-start;\n",
       "  width: 50%;\n",
       "}\n",
       "\n",
       "#sk-container-id-1 div.sk-parallel-item:only-child::after {\n",
       "  width: 0;\n",
       "}\n",
       "\n",
       "/* Serial-specific style estimator block */\n",
       "\n",
       "#sk-container-id-1 div.sk-serial {\n",
       "  display: flex;\n",
       "  flex-direction: column;\n",
       "  align-items: center;\n",
       "  background-color: var(--sklearn-color-background);\n",
       "  padding-right: 1em;\n",
       "  padding-left: 1em;\n",
       "}\n",
       "\n",
       "\n",
       "/* Toggleable style: style used for estimator/Pipeline/ColumnTransformer box that is\n",
       "clickable and can be expanded/collapsed.\n",
       "- Pipeline and ColumnTransformer use this feature and define the default style\n",
       "- Estimators will overwrite some part of the style using the `sk-estimator` class\n",
       "*/\n",
       "\n",
       "/* Pipeline and ColumnTransformer style (default) */\n",
       "\n",
       "#sk-container-id-1 div.sk-toggleable {\n",
       "  /* Default theme specific background. It is overwritten whether we have a\n",
       "  specific estimator or a Pipeline/ColumnTransformer */\n",
       "  background-color: var(--sklearn-color-background);\n",
       "}\n",
       "\n",
       "/* Toggleable label */\n",
       "#sk-container-id-1 label.sk-toggleable__label {\n",
       "  cursor: pointer;\n",
       "  display: block;\n",
       "  width: 100%;\n",
       "  margin-bottom: 0;\n",
       "  padding: 0.5em;\n",
       "  box-sizing: border-box;\n",
       "  text-align: center;\n",
       "}\n",
       "\n",
       "#sk-container-id-1 label.sk-toggleable__label-arrow:before {\n",
       "  /* Arrow on the left of the label */\n",
       "  content: \"▸\";\n",
       "  float: left;\n",
       "  margin-right: 0.25em;\n",
       "  color: var(--sklearn-color-icon);\n",
       "}\n",
       "\n",
       "#sk-container-id-1 label.sk-toggleable__label-arrow:hover:before {\n",
       "  color: var(--sklearn-color-text);\n",
       "}\n",
       "\n",
       "/* Toggleable content - dropdown */\n",
       "\n",
       "#sk-container-id-1 div.sk-toggleable__content {\n",
       "  max-height: 0;\n",
       "  max-width: 0;\n",
       "  overflow: hidden;\n",
       "  text-align: left;\n",
       "  /* unfitted */\n",
       "  background-color: var(--sklearn-color-unfitted-level-0);\n",
       "}\n",
       "\n",
       "#sk-container-id-1 div.sk-toggleable__content.fitted {\n",
       "  /* fitted */\n",
       "  background-color: var(--sklearn-color-fitted-level-0);\n",
       "}\n",
       "\n",
       "#sk-container-id-1 div.sk-toggleable__content pre {\n",
       "  margin: 0.2em;\n",
       "  border-radius: 0.25em;\n",
       "  color: var(--sklearn-color-text);\n",
       "  /* unfitted */\n",
       "  background-color: var(--sklearn-color-unfitted-level-0);\n",
       "}\n",
       "\n",
       "#sk-container-id-1 div.sk-toggleable__content.fitted pre {\n",
       "  /* unfitted */\n",
       "  background-color: var(--sklearn-color-fitted-level-0);\n",
       "}\n",
       "\n",
       "#sk-container-id-1 input.sk-toggleable__control:checked~div.sk-toggleable__content {\n",
       "  /* Expand drop-down */\n",
       "  max-height: 200px;\n",
       "  max-width: 100%;\n",
       "  overflow: auto;\n",
       "}\n",
       "\n",
       "#sk-container-id-1 input.sk-toggleable__control:checked~label.sk-toggleable__label-arrow:before {\n",
       "  content: \"▾\";\n",
       "}\n",
       "\n",
       "/* Pipeline/ColumnTransformer-specific style */\n",
       "\n",
       "#sk-container-id-1 div.sk-label input.sk-toggleable__control:checked~label.sk-toggleable__label {\n",
       "  color: var(--sklearn-color-text);\n",
       "  background-color: var(--sklearn-color-unfitted-level-2);\n",
       "}\n",
       "\n",
       "#sk-container-id-1 div.sk-label.fitted input.sk-toggleable__control:checked~label.sk-toggleable__label {\n",
       "  background-color: var(--sklearn-color-fitted-level-2);\n",
       "}\n",
       "\n",
       "/* Estimator-specific style */\n",
       "\n",
       "/* Colorize estimator box */\n",
       "#sk-container-id-1 div.sk-estimator input.sk-toggleable__control:checked~label.sk-toggleable__label {\n",
       "  /* unfitted */\n",
       "  background-color: var(--sklearn-color-unfitted-level-2);\n",
       "}\n",
       "\n",
       "#sk-container-id-1 div.sk-estimator.fitted input.sk-toggleable__control:checked~label.sk-toggleable__label {\n",
       "  /* fitted */\n",
       "  background-color: var(--sklearn-color-fitted-level-2);\n",
       "}\n",
       "\n",
       "#sk-container-id-1 div.sk-label label.sk-toggleable__label,\n",
       "#sk-container-id-1 div.sk-label label {\n",
       "  /* The background is the default theme color */\n",
       "  color: var(--sklearn-color-text-on-default-background);\n",
       "}\n",
       "\n",
       "/* On hover, darken the color of the background */\n",
       "#sk-container-id-1 div.sk-label:hover label.sk-toggleable__label {\n",
       "  color: var(--sklearn-color-text);\n",
       "  background-color: var(--sklearn-color-unfitted-level-2);\n",
       "}\n",
       "\n",
       "/* Label box, darken color on hover, fitted */\n",
       "#sk-container-id-1 div.sk-label.fitted:hover label.sk-toggleable__label.fitted {\n",
       "  color: var(--sklearn-color-text);\n",
       "  background-color: var(--sklearn-color-fitted-level-2);\n",
       "}\n",
       "\n",
       "/* Estimator label */\n",
       "\n",
       "#sk-container-id-1 div.sk-label label {\n",
       "  font-family: monospace;\n",
       "  font-weight: bold;\n",
       "  display: inline-block;\n",
       "  line-height: 1.2em;\n",
       "}\n",
       "\n",
       "#sk-container-id-1 div.sk-label-container {\n",
       "  text-align: center;\n",
       "}\n",
       "\n",
       "/* Estimator-specific */\n",
       "#sk-container-id-1 div.sk-estimator {\n",
       "  font-family: monospace;\n",
       "  border: 1px dotted var(--sklearn-color-border-box);\n",
       "  border-radius: 0.25em;\n",
       "  box-sizing: border-box;\n",
       "  margin-bottom: 0.5em;\n",
       "  /* unfitted */\n",
       "  background-color: var(--sklearn-color-unfitted-level-0);\n",
       "}\n",
       "\n",
       "#sk-container-id-1 div.sk-estimator.fitted {\n",
       "  /* fitted */\n",
       "  background-color: var(--sklearn-color-fitted-level-0);\n",
       "}\n",
       "\n",
       "/* on hover */\n",
       "#sk-container-id-1 div.sk-estimator:hover {\n",
       "  /* unfitted */\n",
       "  background-color: var(--sklearn-color-unfitted-level-2);\n",
       "}\n",
       "\n",
       "#sk-container-id-1 div.sk-estimator.fitted:hover {\n",
       "  /* fitted */\n",
       "  background-color: var(--sklearn-color-fitted-level-2);\n",
       "}\n",
       "\n",
       "/* Specification for estimator info (e.g. \"i\" and \"?\") */\n",
       "\n",
       "/* Common style for \"i\" and \"?\" */\n",
       "\n",
       ".sk-estimator-doc-link,\n",
       "a:link.sk-estimator-doc-link,\n",
       "a:visited.sk-estimator-doc-link {\n",
       "  float: right;\n",
       "  font-size: smaller;\n",
       "  line-height: 1em;\n",
       "  font-family: monospace;\n",
       "  background-color: var(--sklearn-color-background);\n",
       "  border-radius: 1em;\n",
       "  height: 1em;\n",
       "  width: 1em;\n",
       "  text-decoration: none !important;\n",
       "  margin-left: 1ex;\n",
       "  /* unfitted */\n",
       "  border: var(--sklearn-color-unfitted-level-1) 1pt solid;\n",
       "  color: var(--sklearn-color-unfitted-level-1);\n",
       "}\n",
       "\n",
       ".sk-estimator-doc-link.fitted,\n",
       "a:link.sk-estimator-doc-link.fitted,\n",
       "a:visited.sk-estimator-doc-link.fitted {\n",
       "  /* fitted */\n",
       "  border: var(--sklearn-color-fitted-level-1) 1pt solid;\n",
       "  color: var(--sklearn-color-fitted-level-1);\n",
       "}\n",
       "\n",
       "/* On hover */\n",
       "div.sk-estimator:hover .sk-estimator-doc-link:hover,\n",
       ".sk-estimator-doc-link:hover,\n",
       "div.sk-label-container:hover .sk-estimator-doc-link:hover,\n",
       ".sk-estimator-doc-link:hover {\n",
       "  /* unfitted */\n",
       "  background-color: var(--sklearn-color-unfitted-level-3);\n",
       "  color: var(--sklearn-color-background);\n",
       "  text-decoration: none;\n",
       "}\n",
       "\n",
       "div.sk-estimator.fitted:hover .sk-estimator-doc-link.fitted:hover,\n",
       ".sk-estimator-doc-link.fitted:hover,\n",
       "div.sk-label-container:hover .sk-estimator-doc-link.fitted:hover,\n",
       ".sk-estimator-doc-link.fitted:hover {\n",
       "  /* fitted */\n",
       "  background-color: var(--sklearn-color-fitted-level-3);\n",
       "  color: var(--sklearn-color-background);\n",
       "  text-decoration: none;\n",
       "}\n",
       "\n",
       "/* Span, style for the box shown on hovering the info icon */\n",
       ".sk-estimator-doc-link span {\n",
       "  display: none;\n",
       "  z-index: 9999;\n",
       "  position: relative;\n",
       "  font-weight: normal;\n",
       "  right: .2ex;\n",
       "  padding: .5ex;\n",
       "  margin: .5ex;\n",
       "  width: min-content;\n",
       "  min-width: 20ex;\n",
       "  max-width: 50ex;\n",
       "  color: var(--sklearn-color-text);\n",
       "  box-shadow: 2pt 2pt 4pt #999;\n",
       "  /* unfitted */\n",
       "  background: var(--sklearn-color-unfitted-level-0);\n",
       "  border: .5pt solid var(--sklearn-color-unfitted-level-3);\n",
       "}\n",
       "\n",
       ".sk-estimator-doc-link.fitted span {\n",
       "  /* fitted */\n",
       "  background: var(--sklearn-color-fitted-level-0);\n",
       "  border: var(--sklearn-color-fitted-level-3);\n",
       "}\n",
       "\n",
       ".sk-estimator-doc-link:hover span {\n",
       "  display: block;\n",
       "}\n",
       "\n",
       "/* \"?\"-specific style due to the `<a>` HTML tag */\n",
       "\n",
       "#sk-container-id-1 a.estimator_doc_link {\n",
       "  float: right;\n",
       "  font-size: 1rem;\n",
       "  line-height: 1em;\n",
       "  font-family: monospace;\n",
       "  background-color: var(--sklearn-color-background);\n",
       "  border-radius: 1rem;\n",
       "  height: 1rem;\n",
       "  width: 1rem;\n",
       "  text-decoration: none;\n",
       "  /* unfitted */\n",
       "  color: var(--sklearn-color-unfitted-level-1);\n",
       "  border: var(--sklearn-color-unfitted-level-1) 1pt solid;\n",
       "}\n",
       "\n",
       "#sk-container-id-1 a.estimator_doc_link.fitted {\n",
       "  /* fitted */\n",
       "  border: var(--sklearn-color-fitted-level-1) 1pt solid;\n",
       "  color: var(--sklearn-color-fitted-level-1);\n",
       "}\n",
       "\n",
       "/* On hover */\n",
       "#sk-container-id-1 a.estimator_doc_link:hover {\n",
       "  /* unfitted */\n",
       "  background-color: var(--sklearn-color-unfitted-level-3);\n",
       "  color: var(--sklearn-color-background);\n",
       "  text-decoration: none;\n",
       "}\n",
       "\n",
       "#sk-container-id-1 a.estimator_doc_link.fitted:hover {\n",
       "  /* fitted */\n",
       "  background-color: var(--sklearn-color-fitted-level-3);\n",
       "}\n",
       "</style><div id=\"sk-container-id-1\" class=\"sk-top-container\"><div class=\"sk-text-repr-fallback\"><pre>LinearRegression()</pre><b>In a Jupyter environment, please rerun this cell to show the HTML representation or trust the notebook. <br />On GitHub, the HTML representation is unable to render, please try loading this page with nbviewer.org.</b></div><div class=\"sk-container\" hidden><div class=\"sk-item\"><div class=\"sk-estimator fitted sk-toggleable\"><input class=\"sk-toggleable__control sk-hidden--visually\" id=\"sk-estimator-id-1\" type=\"checkbox\" checked><label for=\"sk-estimator-id-1\" class=\"sk-toggleable__label fitted sk-toggleable__label-arrow fitted\">&nbsp;&nbsp;LinearRegression<a class=\"sk-estimator-doc-link fitted\" rel=\"noreferrer\" target=\"_blank\" href=\"https://scikit-learn.org/1.5/modules/generated/sklearn.linear_model.LinearRegression.html\">?<span>Documentation for LinearRegression</span></a><span class=\"sk-estimator-doc-link fitted\">i<span>Fitted</span></span></label><div class=\"sk-toggleable__content fitted\"><pre>LinearRegression()</pre></div> </div></div></div></div>"
      ],
      "text/plain": [
       "LinearRegression()"
      ]
     },
     "execution_count": 7,
     "metadata": {},
     "output_type": "execute_result"
    }
   ],
   "source": [
    "from sklearn.model_selection import train_test_split\n",
    "x_train,x_test,y_train,y_test = train_test_split(x,y,test_size=0.2,random_state=3)\n",
    "from sklearn.linear_model import LinearRegression\n",
    "lr = LinearRegression()\n",
    "lr.fit(x_train,y_train)"
   ]
  },
  {
   "cell_type": "code",
   "execution_count": 8,
   "id": "e82d04b2",
   "metadata": {},
   "outputs": [],
   "source": [
    "y_pred = lr.predict(x_test)"
   ]
  },
  {
   "cell_type": "code",
   "execution_count": 11,
   "id": "de3cf21b",
   "metadata": {},
   "outputs": [
    {
     "name": "stdout",
     "output_type": "stream",
     "text": [
      "MAE 45.491107630772426\n",
      "MSE 3035.903831701703\n",
      "R2 score 0.455688396904239\n"
     ]
    }
   ],
   "source": [
    "print(\"MAE\",mean_absolute_error(y_test,y_pred))\n",
    "print(\"MSE\",mean_squared_error(y_test,y_pred))\n",
    "print(\"R2 score\",r2_score(y_test,y_pred))"
   ]
  },
  {
   "cell_type": "code",
   "execution_count": 10,
   "id": "7f8983d3",
   "metadata": {},
   "outputs": [
    {
     "data": {
      "application/vnd.plotly.v1+json": {
       "config": {
        "plotlyServerURL": "https://plot.ly"
       },
       "data": [
        {
         "marker": {
          "color": "blue",
          "size": 4
         },
         "mode": "markers",
         "name": "Actual Data",
         "type": "scatter3d",
         "x": [
          -0.18464915703558832,
          -0.0374524998747941,
          -1.2836296653591914,
          0.6743767791110051,
          0.5833306016211206,
          0.3326246541615829,
          -0.3360409266740932,
          0.826041257270794,
          0.29093546081669247,
          0.06223226408685894,
          2.109014505806148,
          0.7212004872520467,
          0.1379188753439222,
          1.751816870948971,
          1.2595659205103964,
          0.4600082642337564,
          0.6235070424162256,
          -0.09731306672974196,
          -0.8939043927039797,
          0.37824021710757094,
          0.5840262431793926,
          1.7221762702494132,
          0.499595125144064,
          0.7746766860128916,
          0.6247101393908918,
          0.9621076533030252,
          0.8736755936415289,
          0.20657304290485856,
          1.1224117106519254,
          -0.5916505360548729,
          0.6469805449907569,
          -1.2995867345892027,
          -0.32486270989068455,
          -0.6580804637297616,
          -0.3876550501502026,
          -1.4566195690546693,
          -0.5791073893990714,
          -0.1743388098192835,
          0.3179776995396672,
          0.24541612971077276,
          -1.4054697116984847,
          -0.19458832856283126,
          -0.15191505235145217,
          -0.8042536521997427,
          0.28228129168715005,
          0.2930400583508985,
          0.8174639523739985,
          -1.7708347873160448,
          -0.7595781034587787,
          -0.17213581207551018,
          1.0648558278865126,
          2.1594464630713053,
          0.8938921615840658,
          -0.732503996635585,
          -0.16624149819545567,
          1.756428309874583,
          0.6272068577964093,
          0.9175314317418278,
          -0.4565519084017192,
          -0.335488308511973,
          -0.9091841454672799,
          0.25705792131065525,
          -1.1747995284158619,
          -0.5690284057065316,
          -0.9797599668855466,
          -0.743312344568215,
          -0.6245880754320952,
          0.6132676722777531,
          0.8124276523387552,
          -0.7147956255768915,
          -0.8191582414047585,
          0.1905915187994766,
          -0.49832065709266404,
          1.2248542005700078,
          -0.5703705649051392,
          1.0900816670208135,
          0.41133866819297354,
          0.1751047812304514,
          0.29543650389607706,
          -1.3269651824769233,
          1.6499884842037396,
          -0.07473014514707359,
          -0.6722827452629642,
          0.7276749436965033,
          -1.2419242012451177,
          1.0550898102329853,
          0.3647464420259019,
          0.04769902845044013,
          -0.8991858039522745,
          -0.6651591471347111,
          0.954180062770165,
          -0.10353089633103976,
          0.2698594056378843,
          -2.1193353589293658,
          -1.4598070977116504,
          0.29220268465700755,
          -0.022502535854841195,
          -0.3320757973688355,
          -0.031985619808528855,
          -1.246383678356914
         ],
         "y": [
          -0.13331483769752106,
          -0.08214919913911972,
          -0.8366348414172516,
          0.881930232231256,
          -2.3236347655362737,
          0.8051884035314156,
          -0.6075629545142234,
          -0.6197080393683956,
          -0.5389098524677426,
          0.2406539366523632,
          1.6269566506010082,
          0.7367675737028383,
          -0.8391983189734132,
          1.0594337490471368,
          0.37407859588057746,
          -0.2665820313563264,
          1.5254089535081985,
          0.8422978815586489,
          0.33284736419703465,
          1.2770057631418659,
          0.21851121545023866,
          1.0796750767736103,
          -0.8495291942066606,
          -0.149947103691826,
          -1.3000037477894808,
          0.23821522253060726,
          0.039866190242531456,
          1.2662426330219954,
          -0.18990662249542425,
          -1.421415426032415,
          0.8286240822405795,
          2.4105485966610303,
          0.13541130723480244,
          1.155803703095885,
          -1.131621831585681,
          1.0417842189772157,
          1.5244234575246325,
          0.35917140516532586,
          -1.5554777735346792,
          0.36232710360712456,
          0.07732120136385093,
          -0.5138529008292205,
          -0.04871063150274942,
          -0.1322092266389972,
          0.27067598778271684,
          0.3982582928982633,
          0.4519573233004887,
          0.26615510837300854,
          0.1272061504360019,
          0.580189210080261,
          1.5535794275282204,
          -0.5178829597047554,
          -0.5953266447138896,
          0.14539542454919283,
          -0.7952072615184274,
          -0.509888067941581,
          -0.1581013503554207,
          -0.5216984273922798,
          -0.3840706511473966,
          -1.1303506236583958,
          -1.2016945743533152,
          1.9371496986941072,
          0.160117985428098,
          0.025254843017539656,
          0.6077391965560801,
          -0.7414737588521627,
          1.1626474903672404,
          0.6648237810599125,
          -0.18676845068521322,
          0.7125067577970526,
          -1.4674614059579036,
          -0.8352775348433356,
          -0.29916324261184946,
          2.4346732473966064,
          -0.8528168650938384,
          1.4479265411795534,
          -0.7118009331321733,
          0.6873644787804801,
          -0.7242452638291645,
          0.2716212232034852,
          0.7019955880244871,
          0.1589041101188518,
          -2.138773906475886,
          -0.1374775141688328,
          -1.2106572924044627,
          -0.7850061741000084,
          0.5546473672708166,
          0.9303285442154052,
          -0.3251674810355157,
          -0.20254370385629475,
          -0.8307559132529538,
          1.3143068846929753,
          -1.27718020430766,
          1.3619830585152217,
          0.7956648399981591,
          1.5145581312407514,
          -0.06790610977467042,
          0.9129155689229852,
          -0.2934641614398773,
          -1.2922739149716058
         ],
         "z": [
          9.465631278112701,
          98.36933241973807,
          -165.84780130047596,
          169.41397274272535,
          -127.46616900105751,
          52.52403720369469,
          -161.11000119971828,
          -98.57065284837255,
          -43.314734027007894,
          32.26981538844605,
          59.18611387782357,
          53.57222373641434,
          -23.444541139785418,
          31.869008847108972,
          147.26478048352848,
          34.67755798651015,
          74.91466904868821,
          58.045911778474924,
          65.46254828043622,
          21.455471582989816,
          -5.622098896322729,
          119.70265188630414,
          -75.98187144315378,
          27.564988622279262,
          -112.20080504054596,
          2.0795280264564937,
          10.572297036614353,
          142.87663251347573,
          95.18840037091516,
          -131.05512551787714,
          18.471524960894122,
          53.183445903797235,
          -72.78352611302967,
          110.47327143795415,
          -75.01824019081339,
          13.990399698779253,
          68.84501290895815,
          17.513203424637204,
          -116.77073841173436,
          -2.031128311488647,
          69.360694182628,
          3.820659556472073,
          -52.08366025541766,
          13.544297098394978,
          73.88527053795721,
          -13.868982886727927,
          -3.295742920930472,
          -35.59794545223303,
          -37.91559064518557,
          116.13786818877722,
          30.699053710369398,
          -15.4438458730626,
          -34.25831750960166,
          -3.713417796786505,
          -59.20134968094867,
          -72.95442824778561,
          -4.580077017171993,
          -73.33272139830899,
          1.9112293947604257,
          -7.534938366678048,
          -148.7659156285387,
          131.94562986237645,
          -64.22012978084702,
          -63.27311679640423,
          14.716112761384453,
          -163.73372429238358,
          88.29255347864657,
          53.89602841724942,
          53.31759667232492,
          67.74253620509859,
          -95.38780265463191,
          24.460821066359507,
          23.95647428735504,
          176.18457049146778,
          -101.29874327360966,
          87.9448523625517,
          -40.054118901174455,
          60.20939838523949,
          -26.600400541006294,
          -78.5197018828428,
          12.632581842625413,
          -9.65225312030478,
          -236.93296045505602,
          26.356947231003872,
          -53.67078174035416,
          -102.66423983783022,
          48.470817700046425,
          54.232861828452656,
          37.74566658711029,
          -43.08610099045983,
          -9.679289251988084,
          97.6923090538391,
          -126.7604014664704,
          -21.059532664771126,
          53.96242330366283,
          108.70717879681499,
          -67.742345749996,
          -31.333867941344124,
          14.637728289546331,
          -35.87536187083461
         ]
        },
        {
         "colorscale": [
          [
           0,
           "#440154"
          ],
          [
           0.1111111111111111,
           "#482878"
          ],
          [
           0.2222222222222222,
           "#3e4989"
          ],
          [
           0.3333333333333333,
           "#31688e"
          ],
          [
           0.4444444444444444,
           "#26828e"
          ],
          [
           0.5555555555555556,
           "#1f9e89"
          ],
          [
           0.6666666666666666,
           "#35b779"
          ],
          [
           0.7777777777777778,
           "#6ece58"
          ],
          [
           0.8888888888888888,
           "#b5de2b"
          ],
          [
           1,
           "#fde725"
          ]
         ],
         "name": "Regression Plane",
         "opacity": 0.5,
         "type": "surface",
         "x": [
          [
           -2.1193353589293658,
           -1.971791158170722,
           -1.824246957412078,
           -1.6767027566534343,
           -1.5291585558947904,
           -1.3816143551361466,
           -1.234070154377503,
           -1.0865259536188592,
           -0.9389817528602153,
           -0.7914375521015715,
           -0.6438933513429277,
           -0.49634915058428386,
           -0.34880494982564025,
           -0.20126074906699642,
           -0.053716548308352596,
           0.09382765245029123,
           0.24137185320893506,
           0.3889160539675789,
           0.5364602547262227,
           0.6840044554848665,
           0.8315486562435104,
           0.9790928570021542,
           1.126637057760798,
           1.2741812585194419,
           1.4217254592780852,
           1.569269660036729,
           1.716813860795373,
           1.8643580615540167,
           2.0119022623126606,
           2.1594464630713053
          ],
          [
           -2.1193353589293658,
           -1.971791158170722,
           -1.824246957412078,
           -1.6767027566534343,
           -1.5291585558947904,
           -1.3816143551361466,
           -1.234070154377503,
           -1.0865259536188592,
           -0.9389817528602153,
           -0.7914375521015715,
           -0.6438933513429277,
           -0.49634915058428386,
           -0.34880494982564025,
           -0.20126074906699642,
           -0.053716548308352596,
           0.09382765245029123,
           0.24137185320893506,
           0.3889160539675789,
           0.5364602547262227,
           0.6840044554848665,
           0.8315486562435104,
           0.9790928570021542,
           1.126637057760798,
           1.2741812585194419,
           1.4217254592780852,
           1.569269660036729,
           1.716813860795373,
           1.8643580615540167,
           2.0119022623126606,
           2.1594464630713053
          ],
          [
           -2.1193353589293658,
           -1.971791158170722,
           -1.824246957412078,
           -1.6767027566534343,
           -1.5291585558947904,
           -1.3816143551361466,
           -1.234070154377503,
           -1.0865259536188592,
           -0.9389817528602153,
           -0.7914375521015715,
           -0.6438933513429277,
           -0.49634915058428386,
           -0.34880494982564025,
           -0.20126074906699642,
           -0.053716548308352596,
           0.09382765245029123,
           0.24137185320893506,
           0.3889160539675789,
           0.5364602547262227,
           0.6840044554848665,
           0.8315486562435104,
           0.9790928570021542,
           1.126637057760798,
           1.2741812585194419,
           1.4217254592780852,
           1.569269660036729,
           1.716813860795373,
           1.8643580615540167,
           2.0119022623126606,
           2.1594464630713053
          ],
          [
           -2.1193353589293658,
           -1.971791158170722,
           -1.824246957412078,
           -1.6767027566534343,
           -1.5291585558947904,
           -1.3816143551361466,
           -1.234070154377503,
           -1.0865259536188592,
           -0.9389817528602153,
           -0.7914375521015715,
           -0.6438933513429277,
           -0.49634915058428386,
           -0.34880494982564025,
           -0.20126074906699642,
           -0.053716548308352596,
           0.09382765245029123,
           0.24137185320893506,
           0.3889160539675789,
           0.5364602547262227,
           0.6840044554848665,
           0.8315486562435104,
           0.9790928570021542,
           1.126637057760798,
           1.2741812585194419,
           1.4217254592780852,
           1.569269660036729,
           1.716813860795373,
           1.8643580615540167,
           2.0119022623126606,
           2.1594464630713053
          ],
          [
           -2.1193353589293658,
           -1.971791158170722,
           -1.824246957412078,
           -1.6767027566534343,
           -1.5291585558947904,
           -1.3816143551361466,
           -1.234070154377503,
           -1.0865259536188592,
           -0.9389817528602153,
           -0.7914375521015715,
           -0.6438933513429277,
           -0.49634915058428386,
           -0.34880494982564025,
           -0.20126074906699642,
           -0.053716548308352596,
           0.09382765245029123,
           0.24137185320893506,
           0.3889160539675789,
           0.5364602547262227,
           0.6840044554848665,
           0.8315486562435104,
           0.9790928570021542,
           1.126637057760798,
           1.2741812585194419,
           1.4217254592780852,
           1.569269660036729,
           1.716813860795373,
           1.8643580615540167,
           2.0119022623126606,
           2.1594464630713053
          ],
          [
           -2.1193353589293658,
           -1.971791158170722,
           -1.824246957412078,
           -1.6767027566534343,
           -1.5291585558947904,
           -1.3816143551361466,
           -1.234070154377503,
           -1.0865259536188592,
           -0.9389817528602153,
           -0.7914375521015715,
           -0.6438933513429277,
           -0.49634915058428386,
           -0.34880494982564025,
           -0.20126074906699642,
           -0.053716548308352596,
           0.09382765245029123,
           0.24137185320893506,
           0.3889160539675789,
           0.5364602547262227,
           0.6840044554848665,
           0.8315486562435104,
           0.9790928570021542,
           1.126637057760798,
           1.2741812585194419,
           1.4217254592780852,
           1.569269660036729,
           1.716813860795373,
           1.8643580615540167,
           2.0119022623126606,
           2.1594464630713053
          ],
          [
           -2.1193353589293658,
           -1.971791158170722,
           -1.824246957412078,
           -1.6767027566534343,
           -1.5291585558947904,
           -1.3816143551361466,
           -1.234070154377503,
           -1.0865259536188592,
           -0.9389817528602153,
           -0.7914375521015715,
           -0.6438933513429277,
           -0.49634915058428386,
           -0.34880494982564025,
           -0.20126074906699642,
           -0.053716548308352596,
           0.09382765245029123,
           0.24137185320893506,
           0.3889160539675789,
           0.5364602547262227,
           0.6840044554848665,
           0.8315486562435104,
           0.9790928570021542,
           1.126637057760798,
           1.2741812585194419,
           1.4217254592780852,
           1.569269660036729,
           1.716813860795373,
           1.8643580615540167,
           2.0119022623126606,
           2.1594464630713053
          ],
          [
           -2.1193353589293658,
           -1.971791158170722,
           -1.824246957412078,
           -1.6767027566534343,
           -1.5291585558947904,
           -1.3816143551361466,
           -1.234070154377503,
           -1.0865259536188592,
           -0.9389817528602153,
           -0.7914375521015715,
           -0.6438933513429277,
           -0.49634915058428386,
           -0.34880494982564025,
           -0.20126074906699642,
           -0.053716548308352596,
           0.09382765245029123,
           0.24137185320893506,
           0.3889160539675789,
           0.5364602547262227,
           0.6840044554848665,
           0.8315486562435104,
           0.9790928570021542,
           1.126637057760798,
           1.2741812585194419,
           1.4217254592780852,
           1.569269660036729,
           1.716813860795373,
           1.8643580615540167,
           2.0119022623126606,
           2.1594464630713053
          ],
          [
           -2.1193353589293658,
           -1.971791158170722,
           -1.824246957412078,
           -1.6767027566534343,
           -1.5291585558947904,
           -1.3816143551361466,
           -1.234070154377503,
           -1.0865259536188592,
           -0.9389817528602153,
           -0.7914375521015715,
           -0.6438933513429277,
           -0.49634915058428386,
           -0.34880494982564025,
           -0.20126074906699642,
           -0.053716548308352596,
           0.09382765245029123,
           0.24137185320893506,
           0.3889160539675789,
           0.5364602547262227,
           0.6840044554848665,
           0.8315486562435104,
           0.9790928570021542,
           1.126637057760798,
           1.2741812585194419,
           1.4217254592780852,
           1.569269660036729,
           1.716813860795373,
           1.8643580615540167,
           2.0119022623126606,
           2.1594464630713053
          ],
          [
           -2.1193353589293658,
           -1.971791158170722,
           -1.824246957412078,
           -1.6767027566534343,
           -1.5291585558947904,
           -1.3816143551361466,
           -1.234070154377503,
           -1.0865259536188592,
           -0.9389817528602153,
           -0.7914375521015715,
           -0.6438933513429277,
           -0.49634915058428386,
           -0.34880494982564025,
           -0.20126074906699642,
           -0.053716548308352596,
           0.09382765245029123,
           0.24137185320893506,
           0.3889160539675789,
           0.5364602547262227,
           0.6840044554848665,
           0.8315486562435104,
           0.9790928570021542,
           1.126637057760798,
           1.2741812585194419,
           1.4217254592780852,
           1.569269660036729,
           1.716813860795373,
           1.8643580615540167,
           2.0119022623126606,
           2.1594464630713053
          ],
          [
           -2.1193353589293658,
           -1.971791158170722,
           -1.824246957412078,
           -1.6767027566534343,
           -1.5291585558947904,
           -1.3816143551361466,
           -1.234070154377503,
           -1.0865259536188592,
           -0.9389817528602153,
           -0.7914375521015715,
           -0.6438933513429277,
           -0.49634915058428386,
           -0.34880494982564025,
           -0.20126074906699642,
           -0.053716548308352596,
           0.09382765245029123,
           0.24137185320893506,
           0.3889160539675789,
           0.5364602547262227,
           0.6840044554848665,
           0.8315486562435104,
           0.9790928570021542,
           1.126637057760798,
           1.2741812585194419,
           1.4217254592780852,
           1.569269660036729,
           1.716813860795373,
           1.8643580615540167,
           2.0119022623126606,
           2.1594464630713053
          ],
          [
           -2.1193353589293658,
           -1.971791158170722,
           -1.824246957412078,
           -1.6767027566534343,
           -1.5291585558947904,
           -1.3816143551361466,
           -1.234070154377503,
           -1.0865259536188592,
           -0.9389817528602153,
           -0.7914375521015715,
           -0.6438933513429277,
           -0.49634915058428386,
           -0.34880494982564025,
           -0.20126074906699642,
           -0.053716548308352596,
           0.09382765245029123,
           0.24137185320893506,
           0.3889160539675789,
           0.5364602547262227,
           0.6840044554848665,
           0.8315486562435104,
           0.9790928570021542,
           1.126637057760798,
           1.2741812585194419,
           1.4217254592780852,
           1.569269660036729,
           1.716813860795373,
           1.8643580615540167,
           2.0119022623126606,
           2.1594464630713053
          ],
          [
           -2.1193353589293658,
           -1.971791158170722,
           -1.824246957412078,
           -1.6767027566534343,
           -1.5291585558947904,
           -1.3816143551361466,
           -1.234070154377503,
           -1.0865259536188592,
           -0.9389817528602153,
           -0.7914375521015715,
           -0.6438933513429277,
           -0.49634915058428386,
           -0.34880494982564025,
           -0.20126074906699642,
           -0.053716548308352596,
           0.09382765245029123,
           0.24137185320893506,
           0.3889160539675789,
           0.5364602547262227,
           0.6840044554848665,
           0.8315486562435104,
           0.9790928570021542,
           1.126637057760798,
           1.2741812585194419,
           1.4217254592780852,
           1.569269660036729,
           1.716813860795373,
           1.8643580615540167,
           2.0119022623126606,
           2.1594464630713053
          ],
          [
           -2.1193353589293658,
           -1.971791158170722,
           -1.824246957412078,
           -1.6767027566534343,
           -1.5291585558947904,
           -1.3816143551361466,
           -1.234070154377503,
           -1.0865259536188592,
           -0.9389817528602153,
           -0.7914375521015715,
           -0.6438933513429277,
           -0.49634915058428386,
           -0.34880494982564025,
           -0.20126074906699642,
           -0.053716548308352596,
           0.09382765245029123,
           0.24137185320893506,
           0.3889160539675789,
           0.5364602547262227,
           0.6840044554848665,
           0.8315486562435104,
           0.9790928570021542,
           1.126637057760798,
           1.2741812585194419,
           1.4217254592780852,
           1.569269660036729,
           1.716813860795373,
           1.8643580615540167,
           2.0119022623126606,
           2.1594464630713053
          ],
          [
           -2.1193353589293658,
           -1.971791158170722,
           -1.824246957412078,
           -1.6767027566534343,
           -1.5291585558947904,
           -1.3816143551361466,
           -1.234070154377503,
           -1.0865259536188592,
           -0.9389817528602153,
           -0.7914375521015715,
           -0.6438933513429277,
           -0.49634915058428386,
           -0.34880494982564025,
           -0.20126074906699642,
           -0.053716548308352596,
           0.09382765245029123,
           0.24137185320893506,
           0.3889160539675789,
           0.5364602547262227,
           0.6840044554848665,
           0.8315486562435104,
           0.9790928570021542,
           1.126637057760798,
           1.2741812585194419,
           1.4217254592780852,
           1.569269660036729,
           1.716813860795373,
           1.8643580615540167,
           2.0119022623126606,
           2.1594464630713053
          ],
          [
           -2.1193353589293658,
           -1.971791158170722,
           -1.824246957412078,
           -1.6767027566534343,
           -1.5291585558947904,
           -1.3816143551361466,
           -1.234070154377503,
           -1.0865259536188592,
           -0.9389817528602153,
           -0.7914375521015715,
           -0.6438933513429277,
           -0.49634915058428386,
           -0.34880494982564025,
           -0.20126074906699642,
           -0.053716548308352596,
           0.09382765245029123,
           0.24137185320893506,
           0.3889160539675789,
           0.5364602547262227,
           0.6840044554848665,
           0.8315486562435104,
           0.9790928570021542,
           1.126637057760798,
           1.2741812585194419,
           1.4217254592780852,
           1.569269660036729,
           1.716813860795373,
           1.8643580615540167,
           2.0119022623126606,
           2.1594464630713053
          ],
          [
           -2.1193353589293658,
           -1.971791158170722,
           -1.824246957412078,
           -1.6767027566534343,
           -1.5291585558947904,
           -1.3816143551361466,
           -1.234070154377503,
           -1.0865259536188592,
           -0.9389817528602153,
           -0.7914375521015715,
           -0.6438933513429277,
           -0.49634915058428386,
           -0.34880494982564025,
           -0.20126074906699642,
           -0.053716548308352596,
           0.09382765245029123,
           0.24137185320893506,
           0.3889160539675789,
           0.5364602547262227,
           0.6840044554848665,
           0.8315486562435104,
           0.9790928570021542,
           1.126637057760798,
           1.2741812585194419,
           1.4217254592780852,
           1.569269660036729,
           1.716813860795373,
           1.8643580615540167,
           2.0119022623126606,
           2.1594464630713053
          ],
          [
           -2.1193353589293658,
           -1.971791158170722,
           -1.824246957412078,
           -1.6767027566534343,
           -1.5291585558947904,
           -1.3816143551361466,
           -1.234070154377503,
           -1.0865259536188592,
           -0.9389817528602153,
           -0.7914375521015715,
           -0.6438933513429277,
           -0.49634915058428386,
           -0.34880494982564025,
           -0.20126074906699642,
           -0.053716548308352596,
           0.09382765245029123,
           0.24137185320893506,
           0.3889160539675789,
           0.5364602547262227,
           0.6840044554848665,
           0.8315486562435104,
           0.9790928570021542,
           1.126637057760798,
           1.2741812585194419,
           1.4217254592780852,
           1.569269660036729,
           1.716813860795373,
           1.8643580615540167,
           2.0119022623126606,
           2.1594464630713053
          ],
          [
           -2.1193353589293658,
           -1.971791158170722,
           -1.824246957412078,
           -1.6767027566534343,
           -1.5291585558947904,
           -1.3816143551361466,
           -1.234070154377503,
           -1.0865259536188592,
           -0.9389817528602153,
           -0.7914375521015715,
           -0.6438933513429277,
           -0.49634915058428386,
           -0.34880494982564025,
           -0.20126074906699642,
           -0.053716548308352596,
           0.09382765245029123,
           0.24137185320893506,
           0.3889160539675789,
           0.5364602547262227,
           0.6840044554848665,
           0.8315486562435104,
           0.9790928570021542,
           1.126637057760798,
           1.2741812585194419,
           1.4217254592780852,
           1.569269660036729,
           1.716813860795373,
           1.8643580615540167,
           2.0119022623126606,
           2.1594464630713053
          ],
          [
           -2.1193353589293658,
           -1.971791158170722,
           -1.824246957412078,
           -1.6767027566534343,
           -1.5291585558947904,
           -1.3816143551361466,
           -1.234070154377503,
           -1.0865259536188592,
           -0.9389817528602153,
           -0.7914375521015715,
           -0.6438933513429277,
           -0.49634915058428386,
           -0.34880494982564025,
           -0.20126074906699642,
           -0.053716548308352596,
           0.09382765245029123,
           0.24137185320893506,
           0.3889160539675789,
           0.5364602547262227,
           0.6840044554848665,
           0.8315486562435104,
           0.9790928570021542,
           1.126637057760798,
           1.2741812585194419,
           1.4217254592780852,
           1.569269660036729,
           1.716813860795373,
           1.8643580615540167,
           2.0119022623126606,
           2.1594464630713053
          ],
          [
           -2.1193353589293658,
           -1.971791158170722,
           -1.824246957412078,
           -1.6767027566534343,
           -1.5291585558947904,
           -1.3816143551361466,
           -1.234070154377503,
           -1.0865259536188592,
           -0.9389817528602153,
           -0.7914375521015715,
           -0.6438933513429277,
           -0.49634915058428386,
           -0.34880494982564025,
           -0.20126074906699642,
           -0.053716548308352596,
           0.09382765245029123,
           0.24137185320893506,
           0.3889160539675789,
           0.5364602547262227,
           0.6840044554848665,
           0.8315486562435104,
           0.9790928570021542,
           1.126637057760798,
           1.2741812585194419,
           1.4217254592780852,
           1.569269660036729,
           1.716813860795373,
           1.8643580615540167,
           2.0119022623126606,
           2.1594464630713053
          ],
          [
           -2.1193353589293658,
           -1.971791158170722,
           -1.824246957412078,
           -1.6767027566534343,
           -1.5291585558947904,
           -1.3816143551361466,
           -1.234070154377503,
           -1.0865259536188592,
           -0.9389817528602153,
           -0.7914375521015715,
           -0.6438933513429277,
           -0.49634915058428386,
           -0.34880494982564025,
           -0.20126074906699642,
           -0.053716548308352596,
           0.09382765245029123,
           0.24137185320893506,
           0.3889160539675789,
           0.5364602547262227,
           0.6840044554848665,
           0.8315486562435104,
           0.9790928570021542,
           1.126637057760798,
           1.2741812585194419,
           1.4217254592780852,
           1.569269660036729,
           1.716813860795373,
           1.8643580615540167,
           2.0119022623126606,
           2.1594464630713053
          ],
          [
           -2.1193353589293658,
           -1.971791158170722,
           -1.824246957412078,
           -1.6767027566534343,
           -1.5291585558947904,
           -1.3816143551361466,
           -1.234070154377503,
           -1.0865259536188592,
           -0.9389817528602153,
           -0.7914375521015715,
           -0.6438933513429277,
           -0.49634915058428386,
           -0.34880494982564025,
           -0.20126074906699642,
           -0.053716548308352596,
           0.09382765245029123,
           0.24137185320893506,
           0.3889160539675789,
           0.5364602547262227,
           0.6840044554848665,
           0.8315486562435104,
           0.9790928570021542,
           1.126637057760798,
           1.2741812585194419,
           1.4217254592780852,
           1.569269660036729,
           1.716813860795373,
           1.8643580615540167,
           2.0119022623126606,
           2.1594464630713053
          ],
          [
           -2.1193353589293658,
           -1.971791158170722,
           -1.824246957412078,
           -1.6767027566534343,
           -1.5291585558947904,
           -1.3816143551361466,
           -1.234070154377503,
           -1.0865259536188592,
           -0.9389817528602153,
           -0.7914375521015715,
           -0.6438933513429277,
           -0.49634915058428386,
           -0.34880494982564025,
           -0.20126074906699642,
           -0.053716548308352596,
           0.09382765245029123,
           0.24137185320893506,
           0.3889160539675789,
           0.5364602547262227,
           0.6840044554848665,
           0.8315486562435104,
           0.9790928570021542,
           1.126637057760798,
           1.2741812585194419,
           1.4217254592780852,
           1.569269660036729,
           1.716813860795373,
           1.8643580615540167,
           2.0119022623126606,
           2.1594464630713053
          ],
          [
           -2.1193353589293658,
           -1.971791158170722,
           -1.824246957412078,
           -1.6767027566534343,
           -1.5291585558947904,
           -1.3816143551361466,
           -1.234070154377503,
           -1.0865259536188592,
           -0.9389817528602153,
           -0.7914375521015715,
           -0.6438933513429277,
           -0.49634915058428386,
           -0.34880494982564025,
           -0.20126074906699642,
           -0.053716548308352596,
           0.09382765245029123,
           0.24137185320893506,
           0.3889160539675789,
           0.5364602547262227,
           0.6840044554848665,
           0.8315486562435104,
           0.9790928570021542,
           1.126637057760798,
           1.2741812585194419,
           1.4217254592780852,
           1.569269660036729,
           1.716813860795373,
           1.8643580615540167,
           2.0119022623126606,
           2.1594464630713053
          ],
          [
           -2.1193353589293658,
           -1.971791158170722,
           -1.824246957412078,
           -1.6767027566534343,
           -1.5291585558947904,
           -1.3816143551361466,
           -1.234070154377503,
           -1.0865259536188592,
           -0.9389817528602153,
           -0.7914375521015715,
           -0.6438933513429277,
           -0.49634915058428386,
           -0.34880494982564025,
           -0.20126074906699642,
           -0.053716548308352596,
           0.09382765245029123,
           0.24137185320893506,
           0.3889160539675789,
           0.5364602547262227,
           0.6840044554848665,
           0.8315486562435104,
           0.9790928570021542,
           1.126637057760798,
           1.2741812585194419,
           1.4217254592780852,
           1.569269660036729,
           1.716813860795373,
           1.8643580615540167,
           2.0119022623126606,
           2.1594464630713053
          ],
          [
           -2.1193353589293658,
           -1.971791158170722,
           -1.824246957412078,
           -1.6767027566534343,
           -1.5291585558947904,
           -1.3816143551361466,
           -1.234070154377503,
           -1.0865259536188592,
           -0.9389817528602153,
           -0.7914375521015715,
           -0.6438933513429277,
           -0.49634915058428386,
           -0.34880494982564025,
           -0.20126074906699642,
           -0.053716548308352596,
           0.09382765245029123,
           0.24137185320893506,
           0.3889160539675789,
           0.5364602547262227,
           0.6840044554848665,
           0.8315486562435104,
           0.9790928570021542,
           1.126637057760798,
           1.2741812585194419,
           1.4217254592780852,
           1.569269660036729,
           1.716813860795373,
           1.8643580615540167,
           2.0119022623126606,
           2.1594464630713053
          ],
          [
           -2.1193353589293658,
           -1.971791158170722,
           -1.824246957412078,
           -1.6767027566534343,
           -1.5291585558947904,
           -1.3816143551361466,
           -1.234070154377503,
           -1.0865259536188592,
           -0.9389817528602153,
           -0.7914375521015715,
           -0.6438933513429277,
           -0.49634915058428386,
           -0.34880494982564025,
           -0.20126074906699642,
           -0.053716548308352596,
           0.09382765245029123,
           0.24137185320893506,
           0.3889160539675789,
           0.5364602547262227,
           0.6840044554848665,
           0.8315486562435104,
           0.9790928570021542,
           1.126637057760798,
           1.2741812585194419,
           1.4217254592780852,
           1.569269660036729,
           1.716813860795373,
           1.8643580615540167,
           2.0119022623126606,
           2.1594464630713053
          ],
          [
           -2.1193353589293658,
           -1.971791158170722,
           -1.824246957412078,
           -1.6767027566534343,
           -1.5291585558947904,
           -1.3816143551361466,
           -1.234070154377503,
           -1.0865259536188592,
           -0.9389817528602153,
           -0.7914375521015715,
           -0.6438933513429277,
           -0.49634915058428386,
           -0.34880494982564025,
           -0.20126074906699642,
           -0.053716548308352596,
           0.09382765245029123,
           0.24137185320893506,
           0.3889160539675789,
           0.5364602547262227,
           0.6840044554848665,
           0.8315486562435104,
           0.9790928570021542,
           1.126637057760798,
           1.2741812585194419,
           1.4217254592780852,
           1.569269660036729,
           1.716813860795373,
           1.8643580615540167,
           2.0119022623126606,
           2.1594464630713053
          ],
          [
           -2.1193353589293658,
           -1.971791158170722,
           -1.824246957412078,
           -1.6767027566534343,
           -1.5291585558947904,
           -1.3816143551361466,
           -1.234070154377503,
           -1.0865259536188592,
           -0.9389817528602153,
           -0.7914375521015715,
           -0.6438933513429277,
           -0.49634915058428386,
           -0.34880494982564025,
           -0.20126074906699642,
           -0.053716548308352596,
           0.09382765245029123,
           0.24137185320893506,
           0.3889160539675789,
           0.5364602547262227,
           0.6840044554848665,
           0.8315486562435104,
           0.9790928570021542,
           1.126637057760798,
           1.2741812585194419,
           1.4217254592780852,
           1.569269660036729,
           1.716813860795373,
           1.8643580615540167,
           2.0119022623126606,
           2.1594464630713053
          ]
         ],
         "y": [
          [
           -2.3236347655362737,
           -2.3236347655362737,
           -2.3236347655362737,
           -2.3236347655362737,
           -2.3236347655362737,
           -2.3236347655362737,
           -2.3236347655362737,
           -2.3236347655362737,
           -2.3236347655362737,
           -2.3236347655362737,
           -2.3236347655362737,
           -2.3236347655362737,
           -2.3236347655362737,
           -2.3236347655362737,
           -2.3236347655362737,
           -2.3236347655362737,
           -2.3236347655362737,
           -2.3236347655362737,
           -2.3236347655362737,
           -2.3236347655362737,
           -2.3236347655362737,
           -2.3236347655362737,
           -2.3236347655362737,
           -2.3236347655362737,
           -2.3236347655362737,
           -2.3236347655362737,
           -2.3236347655362737,
           -2.3236347655362737,
           -2.3236347655362737,
           -2.3236347655362737
          ],
          [
           -2.1595551788834157,
           -2.1595551788834157,
           -2.1595551788834157,
           -2.1595551788834157,
           -2.1595551788834157,
           -2.1595551788834157,
           -2.1595551788834157,
           -2.1595551788834157,
           -2.1595551788834157,
           -2.1595551788834157,
           -2.1595551788834157,
           -2.1595551788834157,
           -2.1595551788834157,
           -2.1595551788834157,
           -2.1595551788834157,
           -2.1595551788834157,
           -2.1595551788834157,
           -2.1595551788834157,
           -2.1595551788834157,
           -2.1595551788834157,
           -2.1595551788834157,
           -2.1595551788834157,
           -2.1595551788834157,
           -2.1595551788834157,
           -2.1595551788834157,
           -2.1595551788834157,
           -2.1595551788834157,
           -2.1595551788834157,
           -2.1595551788834157,
           -2.1595551788834157
          ],
          [
           -1.9954755922305578,
           -1.9954755922305578,
           -1.9954755922305578,
           -1.9954755922305578,
           -1.9954755922305578,
           -1.9954755922305578,
           -1.9954755922305578,
           -1.9954755922305578,
           -1.9954755922305578,
           -1.9954755922305578,
           -1.9954755922305578,
           -1.9954755922305578,
           -1.9954755922305578,
           -1.9954755922305578,
           -1.9954755922305578,
           -1.9954755922305578,
           -1.9954755922305578,
           -1.9954755922305578,
           -1.9954755922305578,
           -1.9954755922305578,
           -1.9954755922305578,
           -1.9954755922305578,
           -1.9954755922305578,
           -1.9954755922305578,
           -1.9954755922305578,
           -1.9954755922305578,
           -1.9954755922305578,
           -1.9954755922305578,
           -1.9954755922305578,
           -1.9954755922305578
          ],
          [
           -1.8313960055776999,
           -1.8313960055776999,
           -1.8313960055776999,
           -1.8313960055776999,
           -1.8313960055776999,
           -1.8313960055776999,
           -1.8313960055776999,
           -1.8313960055776999,
           -1.8313960055776999,
           -1.8313960055776999,
           -1.8313960055776999,
           -1.8313960055776999,
           -1.8313960055776999,
           -1.8313960055776999,
           -1.8313960055776999,
           -1.8313960055776999,
           -1.8313960055776999,
           -1.8313960055776999,
           -1.8313960055776999,
           -1.8313960055776999,
           -1.8313960055776999,
           -1.8313960055776999,
           -1.8313960055776999,
           -1.8313960055776999,
           -1.8313960055776999,
           -1.8313960055776999,
           -1.8313960055776999,
           -1.8313960055776999,
           -1.8313960055776999,
           -1.8313960055776999
          ],
          [
           -1.667316418924842,
           -1.667316418924842,
           -1.667316418924842,
           -1.667316418924842,
           -1.667316418924842,
           -1.667316418924842,
           -1.667316418924842,
           -1.667316418924842,
           -1.667316418924842,
           -1.667316418924842,
           -1.667316418924842,
           -1.667316418924842,
           -1.667316418924842,
           -1.667316418924842,
           -1.667316418924842,
           -1.667316418924842,
           -1.667316418924842,
           -1.667316418924842,
           -1.667316418924842,
           -1.667316418924842,
           -1.667316418924842,
           -1.667316418924842,
           -1.667316418924842,
           -1.667316418924842,
           -1.667316418924842,
           -1.667316418924842,
           -1.667316418924842,
           -1.667316418924842,
           -1.667316418924842,
           -1.667316418924842
          ],
          [
           -1.503236832271984,
           -1.503236832271984,
           -1.503236832271984,
           -1.503236832271984,
           -1.503236832271984,
           -1.503236832271984,
           -1.503236832271984,
           -1.503236832271984,
           -1.503236832271984,
           -1.503236832271984,
           -1.503236832271984,
           -1.503236832271984,
           -1.503236832271984,
           -1.503236832271984,
           -1.503236832271984,
           -1.503236832271984,
           -1.503236832271984,
           -1.503236832271984,
           -1.503236832271984,
           -1.503236832271984,
           -1.503236832271984,
           -1.503236832271984,
           -1.503236832271984,
           -1.503236832271984,
           -1.503236832271984,
           -1.503236832271984,
           -1.503236832271984,
           -1.503236832271984,
           -1.503236832271984,
           -1.503236832271984
          ],
          [
           -1.339157245619126,
           -1.339157245619126,
           -1.339157245619126,
           -1.339157245619126,
           -1.339157245619126,
           -1.339157245619126,
           -1.339157245619126,
           -1.339157245619126,
           -1.339157245619126,
           -1.339157245619126,
           -1.339157245619126,
           -1.339157245619126,
           -1.339157245619126,
           -1.339157245619126,
           -1.339157245619126,
           -1.339157245619126,
           -1.339157245619126,
           -1.339157245619126,
           -1.339157245619126,
           -1.339157245619126,
           -1.339157245619126,
           -1.339157245619126,
           -1.339157245619126,
           -1.339157245619126,
           -1.339157245619126,
           -1.339157245619126,
           -1.339157245619126,
           -1.339157245619126,
           -1.339157245619126,
           -1.339157245619126
          ],
          [
           -1.1750776589662681,
           -1.1750776589662681,
           -1.1750776589662681,
           -1.1750776589662681,
           -1.1750776589662681,
           -1.1750776589662681,
           -1.1750776589662681,
           -1.1750776589662681,
           -1.1750776589662681,
           -1.1750776589662681,
           -1.1750776589662681,
           -1.1750776589662681,
           -1.1750776589662681,
           -1.1750776589662681,
           -1.1750776589662681,
           -1.1750776589662681,
           -1.1750776589662681,
           -1.1750776589662681,
           -1.1750776589662681,
           -1.1750776589662681,
           -1.1750776589662681,
           -1.1750776589662681,
           -1.1750776589662681,
           -1.1750776589662681,
           -1.1750776589662681,
           -1.1750776589662681,
           -1.1750776589662681,
           -1.1750776589662681,
           -1.1750776589662681,
           -1.1750776589662681
          ],
          [
           -1.0109980723134102,
           -1.0109980723134102,
           -1.0109980723134102,
           -1.0109980723134102,
           -1.0109980723134102,
           -1.0109980723134102,
           -1.0109980723134102,
           -1.0109980723134102,
           -1.0109980723134102,
           -1.0109980723134102,
           -1.0109980723134102,
           -1.0109980723134102,
           -1.0109980723134102,
           -1.0109980723134102,
           -1.0109980723134102,
           -1.0109980723134102,
           -1.0109980723134102,
           -1.0109980723134102,
           -1.0109980723134102,
           -1.0109980723134102,
           -1.0109980723134102,
           -1.0109980723134102,
           -1.0109980723134102,
           -1.0109980723134102,
           -1.0109980723134102,
           -1.0109980723134102,
           -1.0109980723134102,
           -1.0109980723134102,
           -1.0109980723134102,
           -1.0109980723134102
          ],
          [
           -0.8469184856605523,
           -0.8469184856605523,
           -0.8469184856605523,
           -0.8469184856605523,
           -0.8469184856605523,
           -0.8469184856605523,
           -0.8469184856605523,
           -0.8469184856605523,
           -0.8469184856605523,
           -0.8469184856605523,
           -0.8469184856605523,
           -0.8469184856605523,
           -0.8469184856605523,
           -0.8469184856605523,
           -0.8469184856605523,
           -0.8469184856605523,
           -0.8469184856605523,
           -0.8469184856605523,
           -0.8469184856605523,
           -0.8469184856605523,
           -0.8469184856605523,
           -0.8469184856605523,
           -0.8469184856605523,
           -0.8469184856605523,
           -0.8469184856605523,
           -0.8469184856605523,
           -0.8469184856605523,
           -0.8469184856605523,
           -0.8469184856605523,
           -0.8469184856605523
          ],
          [
           -0.6828388990076943,
           -0.6828388990076943,
           -0.6828388990076943,
           -0.6828388990076943,
           -0.6828388990076943,
           -0.6828388990076943,
           -0.6828388990076943,
           -0.6828388990076943,
           -0.6828388990076943,
           -0.6828388990076943,
           -0.6828388990076943,
           -0.6828388990076943,
           -0.6828388990076943,
           -0.6828388990076943,
           -0.6828388990076943,
           -0.6828388990076943,
           -0.6828388990076943,
           -0.6828388990076943,
           -0.6828388990076943,
           -0.6828388990076943,
           -0.6828388990076943,
           -0.6828388990076943,
           -0.6828388990076943,
           -0.6828388990076943,
           -0.6828388990076943,
           -0.6828388990076943,
           -0.6828388990076943,
           -0.6828388990076943,
           -0.6828388990076943,
           -0.6828388990076943
          ],
          [
           -0.5187593123548364,
           -0.5187593123548364,
           -0.5187593123548364,
           -0.5187593123548364,
           -0.5187593123548364,
           -0.5187593123548364,
           -0.5187593123548364,
           -0.5187593123548364,
           -0.5187593123548364,
           -0.5187593123548364,
           -0.5187593123548364,
           -0.5187593123548364,
           -0.5187593123548364,
           -0.5187593123548364,
           -0.5187593123548364,
           -0.5187593123548364,
           -0.5187593123548364,
           -0.5187593123548364,
           -0.5187593123548364,
           -0.5187593123548364,
           -0.5187593123548364,
           -0.5187593123548364,
           -0.5187593123548364,
           -0.5187593123548364,
           -0.5187593123548364,
           -0.5187593123548364,
           -0.5187593123548364,
           -0.5187593123548364,
           -0.5187593123548364,
           -0.5187593123548364
          ],
          [
           -0.3546797257019785,
           -0.3546797257019785,
           -0.3546797257019785,
           -0.3546797257019785,
           -0.3546797257019785,
           -0.3546797257019785,
           -0.3546797257019785,
           -0.3546797257019785,
           -0.3546797257019785,
           -0.3546797257019785,
           -0.3546797257019785,
           -0.3546797257019785,
           -0.3546797257019785,
           -0.3546797257019785,
           -0.3546797257019785,
           -0.3546797257019785,
           -0.3546797257019785,
           -0.3546797257019785,
           -0.3546797257019785,
           -0.3546797257019785,
           -0.3546797257019785,
           -0.3546797257019785,
           -0.3546797257019785,
           -0.3546797257019785,
           -0.3546797257019785,
           -0.3546797257019785,
           -0.3546797257019785,
           -0.3546797257019785,
           -0.3546797257019785,
           -0.3546797257019785
          ],
          [
           -0.19060013904912054,
           -0.19060013904912054,
           -0.19060013904912054,
           -0.19060013904912054,
           -0.19060013904912054,
           -0.19060013904912054,
           -0.19060013904912054,
           -0.19060013904912054,
           -0.19060013904912054,
           -0.19060013904912054,
           -0.19060013904912054,
           -0.19060013904912054,
           -0.19060013904912054,
           -0.19060013904912054,
           -0.19060013904912054,
           -0.19060013904912054,
           -0.19060013904912054,
           -0.19060013904912054,
           -0.19060013904912054,
           -0.19060013904912054,
           -0.19060013904912054,
           -0.19060013904912054,
           -0.19060013904912054,
           -0.19060013904912054,
           -0.19060013904912054,
           -0.19060013904912054,
           -0.19060013904912054,
           -0.19060013904912054,
           -0.19060013904912054,
           -0.19060013904912054
          ],
          [
           -0.02652055239626261,
           -0.02652055239626261,
           -0.02652055239626261,
           -0.02652055239626261,
           -0.02652055239626261,
           -0.02652055239626261,
           -0.02652055239626261,
           -0.02652055239626261,
           -0.02652055239626261,
           -0.02652055239626261,
           -0.02652055239626261,
           -0.02652055239626261,
           -0.02652055239626261,
           -0.02652055239626261,
           -0.02652055239626261,
           -0.02652055239626261,
           -0.02652055239626261,
           -0.02652055239626261,
           -0.02652055239626261,
           -0.02652055239626261,
           -0.02652055239626261,
           -0.02652055239626261,
           -0.02652055239626261,
           -0.02652055239626261,
           -0.02652055239626261,
           -0.02652055239626261,
           -0.02652055239626261,
           -0.02652055239626261,
           -0.02652055239626261,
           -0.02652055239626261
          ],
          [
           0.13755903425659533,
           0.13755903425659533,
           0.13755903425659533,
           0.13755903425659533,
           0.13755903425659533,
           0.13755903425659533,
           0.13755903425659533,
           0.13755903425659533,
           0.13755903425659533,
           0.13755903425659533,
           0.13755903425659533,
           0.13755903425659533,
           0.13755903425659533,
           0.13755903425659533,
           0.13755903425659533,
           0.13755903425659533,
           0.13755903425659533,
           0.13755903425659533,
           0.13755903425659533,
           0.13755903425659533,
           0.13755903425659533,
           0.13755903425659533,
           0.13755903425659533,
           0.13755903425659533,
           0.13755903425659533,
           0.13755903425659533,
           0.13755903425659533,
           0.13755903425659533,
           0.13755903425659533,
           0.13755903425659533
          ],
          [
           0.30163862090945326,
           0.30163862090945326,
           0.30163862090945326,
           0.30163862090945326,
           0.30163862090945326,
           0.30163862090945326,
           0.30163862090945326,
           0.30163862090945326,
           0.30163862090945326,
           0.30163862090945326,
           0.30163862090945326,
           0.30163862090945326,
           0.30163862090945326,
           0.30163862090945326,
           0.30163862090945326,
           0.30163862090945326,
           0.30163862090945326,
           0.30163862090945326,
           0.30163862090945326,
           0.30163862090945326,
           0.30163862090945326,
           0.30163862090945326,
           0.30163862090945326,
           0.30163862090945326,
           0.30163862090945326,
           0.30163862090945326,
           0.30163862090945326,
           0.30163862090945326,
           0.30163862090945326,
           0.30163862090945326
          ],
          [
           0.4657182075623112,
           0.4657182075623112,
           0.4657182075623112,
           0.4657182075623112,
           0.4657182075623112,
           0.4657182075623112,
           0.4657182075623112,
           0.4657182075623112,
           0.4657182075623112,
           0.4657182075623112,
           0.4657182075623112,
           0.4657182075623112,
           0.4657182075623112,
           0.4657182075623112,
           0.4657182075623112,
           0.4657182075623112,
           0.4657182075623112,
           0.4657182075623112,
           0.4657182075623112,
           0.4657182075623112,
           0.4657182075623112,
           0.4657182075623112,
           0.4657182075623112,
           0.4657182075623112,
           0.4657182075623112,
           0.4657182075623112,
           0.4657182075623112,
           0.4657182075623112,
           0.4657182075623112,
           0.4657182075623112
          ],
          [
           0.6297977942151691,
           0.6297977942151691,
           0.6297977942151691,
           0.6297977942151691,
           0.6297977942151691,
           0.6297977942151691,
           0.6297977942151691,
           0.6297977942151691,
           0.6297977942151691,
           0.6297977942151691,
           0.6297977942151691,
           0.6297977942151691,
           0.6297977942151691,
           0.6297977942151691,
           0.6297977942151691,
           0.6297977942151691,
           0.6297977942151691,
           0.6297977942151691,
           0.6297977942151691,
           0.6297977942151691,
           0.6297977942151691,
           0.6297977942151691,
           0.6297977942151691,
           0.6297977942151691,
           0.6297977942151691,
           0.6297977942151691,
           0.6297977942151691,
           0.6297977942151691,
           0.6297977942151691,
           0.6297977942151691
          ],
          [
           0.7938773808680271,
           0.7938773808680271,
           0.7938773808680271,
           0.7938773808680271,
           0.7938773808680271,
           0.7938773808680271,
           0.7938773808680271,
           0.7938773808680271,
           0.7938773808680271,
           0.7938773808680271,
           0.7938773808680271,
           0.7938773808680271,
           0.7938773808680271,
           0.7938773808680271,
           0.7938773808680271,
           0.7938773808680271,
           0.7938773808680271,
           0.7938773808680271,
           0.7938773808680271,
           0.7938773808680271,
           0.7938773808680271,
           0.7938773808680271,
           0.7938773808680271,
           0.7938773808680271,
           0.7938773808680271,
           0.7938773808680271,
           0.7938773808680271,
           0.7938773808680271,
           0.7938773808680271,
           0.7938773808680271
          ],
          [
           0.957956967520885,
           0.957956967520885,
           0.957956967520885,
           0.957956967520885,
           0.957956967520885,
           0.957956967520885,
           0.957956967520885,
           0.957956967520885,
           0.957956967520885,
           0.957956967520885,
           0.957956967520885,
           0.957956967520885,
           0.957956967520885,
           0.957956967520885,
           0.957956967520885,
           0.957956967520885,
           0.957956967520885,
           0.957956967520885,
           0.957956967520885,
           0.957956967520885,
           0.957956967520885,
           0.957956967520885,
           0.957956967520885,
           0.957956967520885,
           0.957956967520885,
           0.957956967520885,
           0.957956967520885,
           0.957956967520885,
           0.957956967520885,
           0.957956967520885
          ],
          [
           1.122036554173743,
           1.122036554173743,
           1.122036554173743,
           1.122036554173743,
           1.122036554173743,
           1.122036554173743,
           1.122036554173743,
           1.122036554173743,
           1.122036554173743,
           1.122036554173743,
           1.122036554173743,
           1.122036554173743,
           1.122036554173743,
           1.122036554173743,
           1.122036554173743,
           1.122036554173743,
           1.122036554173743,
           1.122036554173743,
           1.122036554173743,
           1.122036554173743,
           1.122036554173743,
           1.122036554173743,
           1.122036554173743,
           1.122036554173743,
           1.122036554173743,
           1.122036554173743,
           1.122036554173743,
           1.122036554173743,
           1.122036554173743,
           1.122036554173743
          ],
          [
           1.2861161408266009,
           1.2861161408266009,
           1.2861161408266009,
           1.2861161408266009,
           1.2861161408266009,
           1.2861161408266009,
           1.2861161408266009,
           1.2861161408266009,
           1.2861161408266009,
           1.2861161408266009,
           1.2861161408266009,
           1.2861161408266009,
           1.2861161408266009,
           1.2861161408266009,
           1.2861161408266009,
           1.2861161408266009,
           1.2861161408266009,
           1.2861161408266009,
           1.2861161408266009,
           1.2861161408266009,
           1.2861161408266009,
           1.2861161408266009,
           1.2861161408266009,
           1.2861161408266009,
           1.2861161408266009,
           1.2861161408266009,
           1.2861161408266009,
           1.2861161408266009,
           1.2861161408266009,
           1.2861161408266009
          ],
          [
           1.4501957274794588,
           1.4501957274794588,
           1.4501957274794588,
           1.4501957274794588,
           1.4501957274794588,
           1.4501957274794588,
           1.4501957274794588,
           1.4501957274794588,
           1.4501957274794588,
           1.4501957274794588,
           1.4501957274794588,
           1.4501957274794588,
           1.4501957274794588,
           1.4501957274794588,
           1.4501957274794588,
           1.4501957274794588,
           1.4501957274794588,
           1.4501957274794588,
           1.4501957274794588,
           1.4501957274794588,
           1.4501957274794588,
           1.4501957274794588,
           1.4501957274794588,
           1.4501957274794588,
           1.4501957274794588,
           1.4501957274794588,
           1.4501957274794588,
           1.4501957274794588,
           1.4501957274794588,
           1.4501957274794588
          ],
          [
           1.6142753141323167,
           1.6142753141323167,
           1.6142753141323167,
           1.6142753141323167,
           1.6142753141323167,
           1.6142753141323167,
           1.6142753141323167,
           1.6142753141323167,
           1.6142753141323167,
           1.6142753141323167,
           1.6142753141323167,
           1.6142753141323167,
           1.6142753141323167,
           1.6142753141323167,
           1.6142753141323167,
           1.6142753141323167,
           1.6142753141323167,
           1.6142753141323167,
           1.6142753141323167,
           1.6142753141323167,
           1.6142753141323167,
           1.6142753141323167,
           1.6142753141323167,
           1.6142753141323167,
           1.6142753141323167,
           1.6142753141323167,
           1.6142753141323167,
           1.6142753141323167,
           1.6142753141323167,
           1.6142753141323167
          ],
          [
           1.7783549007851747,
           1.7783549007851747,
           1.7783549007851747,
           1.7783549007851747,
           1.7783549007851747,
           1.7783549007851747,
           1.7783549007851747,
           1.7783549007851747,
           1.7783549007851747,
           1.7783549007851747,
           1.7783549007851747,
           1.7783549007851747,
           1.7783549007851747,
           1.7783549007851747,
           1.7783549007851747,
           1.7783549007851747,
           1.7783549007851747,
           1.7783549007851747,
           1.7783549007851747,
           1.7783549007851747,
           1.7783549007851747,
           1.7783549007851747,
           1.7783549007851747,
           1.7783549007851747,
           1.7783549007851747,
           1.7783549007851747,
           1.7783549007851747,
           1.7783549007851747,
           1.7783549007851747,
           1.7783549007851747
          ],
          [
           1.9424344874380326,
           1.9424344874380326,
           1.9424344874380326,
           1.9424344874380326,
           1.9424344874380326,
           1.9424344874380326,
           1.9424344874380326,
           1.9424344874380326,
           1.9424344874380326,
           1.9424344874380326,
           1.9424344874380326,
           1.9424344874380326,
           1.9424344874380326,
           1.9424344874380326,
           1.9424344874380326,
           1.9424344874380326,
           1.9424344874380326,
           1.9424344874380326,
           1.9424344874380326,
           1.9424344874380326,
           1.9424344874380326,
           1.9424344874380326,
           1.9424344874380326,
           1.9424344874380326,
           1.9424344874380326,
           1.9424344874380326,
           1.9424344874380326,
           1.9424344874380326,
           1.9424344874380326,
           1.9424344874380326
          ],
          [
           2.1065140740908905,
           2.1065140740908905,
           2.1065140740908905,
           2.1065140740908905,
           2.1065140740908905,
           2.1065140740908905,
           2.1065140740908905,
           2.1065140740908905,
           2.1065140740908905,
           2.1065140740908905,
           2.1065140740908905,
           2.1065140740908905,
           2.1065140740908905,
           2.1065140740908905,
           2.1065140740908905,
           2.1065140740908905,
           2.1065140740908905,
           2.1065140740908905,
           2.1065140740908905,
           2.1065140740908905,
           2.1065140740908905,
           2.1065140740908905,
           2.1065140740908905,
           2.1065140740908905,
           2.1065140740908905,
           2.1065140740908905,
           2.1065140740908905,
           2.1065140740908905,
           2.1065140740908905,
           2.1065140740908905
          ],
          [
           2.2705936607437485,
           2.2705936607437485,
           2.2705936607437485,
           2.2705936607437485,
           2.2705936607437485,
           2.2705936607437485,
           2.2705936607437485,
           2.2705936607437485,
           2.2705936607437485,
           2.2705936607437485,
           2.2705936607437485,
           2.2705936607437485,
           2.2705936607437485,
           2.2705936607437485,
           2.2705936607437485,
           2.2705936607437485,
           2.2705936607437485,
           2.2705936607437485,
           2.2705936607437485,
           2.2705936607437485,
           2.2705936607437485,
           2.2705936607437485,
           2.2705936607437485,
           2.2705936607437485,
           2.2705936607437485,
           2.2705936607437485,
           2.2705936607437485,
           2.2705936607437485,
           2.2705936607437485,
           2.2705936607437485
          ],
          [
           2.4346732473966064,
           2.4346732473966064,
           2.4346732473966064,
           2.4346732473966064,
           2.4346732473966064,
           2.4346732473966064,
           2.4346732473966064,
           2.4346732473966064,
           2.4346732473966064,
           2.4346732473966064,
           2.4346732473966064,
           2.4346732473966064,
           2.4346732473966064,
           2.4346732473966064,
           2.4346732473966064,
           2.4346732473966064,
           2.4346732473966064,
           2.4346732473966064,
           2.4346732473966064,
           2.4346732473966064,
           2.4346732473966064,
           2.4346732473966064,
           2.4346732473966064,
           2.4346732473966064,
           2.4346732473966064,
           2.4346732473966064,
           2.4346732473966064,
           2.4346732473966064,
           2.4346732473966064,
           2.4346732473966064
          ]
         ],
         "z": [
          [
           -173.98956748902725,
           -172.50615821695874,
           -171.0227489448902,
           -169.53933967282168,
           -168.05593040075317,
           -166.57252112868466,
           -165.08911185661614,
           -163.60570258454763,
           -162.1222933124791,
           -160.63888404041057,
           -159.15547476834206,
           -157.67206549627355,
           -156.18865622420503,
           -154.70524695213652,
           -153.22183768006798,
           -151.73842840799946,
           -150.25501913593095,
           -148.77160986386244,
           -147.28820059179392,
           -145.80479131972538,
           -144.32138204765687,
           -142.83797277558836,
           -141.35456350351984,
           -139.87115423145133,
           -138.38774495938281,
           -136.9043356873143,
           -135.42092641524576,
           -133.93751714317725,
           -132.45410787110873,
           -130.97069859904022
          ],
          [
           -163.51997243919985,
           -162.0365631671313,
           -160.5531538950628,
           -159.06974462299428,
           -157.58633535092576,
           -156.10292607885725,
           -154.61951680678874,
           -153.13610753472022,
           -151.65269826265168,
           -150.16928899058317,
           -148.68587971851466,
           -147.20247044644614,
           -145.71906117437763,
           -144.23565190230912,
           -142.75224263024057,
           -141.26883335817206,
           -139.78542408610355,
           -138.30201481403503,
           -136.81860554196652,
           -135.33519626989798,
           -133.85178699782946,
           -132.36837772576095,
           -130.88496845369244,
           -129.40155918162392,
           -127.91814990955542,
           -126.4347406374869,
           -124.95133136541838,
           -123.46792209334986,
           -121.98451282128134,
           -120.50110354921281
          ],
          [
           -153.05037738937241,
           -151.5669681173039,
           -150.0835588452354,
           -148.60014957316687,
           -147.11674030109833,
           -145.63333102902982,
           -144.1499217569613,
           -142.6665124848928,
           -141.18310321282428,
           -139.69969394075576,
           -138.21628466868725,
           -136.7328753966187,
           -135.2494661245502,
           -133.76605685248168,
           -132.28264758041317,
           -130.79923830834466,
           -129.31582903627614,
           -127.83241976420763,
           -126.3490104921391,
           -124.86560122007059,
           -123.38219194800207,
           -121.89878267593355,
           -120.41537340386503,
           -118.9319641317965,
           -117.44855485972799,
           -115.96514558765948,
           -114.48173631559096,
           -112.99832704352245,
           -111.51491777145392,
           -110.0315084993854
          ],
          [
           -142.580782339545,
           -141.0973730674765,
           -139.61396379540798,
           -138.13055452333947,
           -136.64714525127096,
           -135.16373597920241,
           -133.6803267071339,
           -132.1969174350654,
           -130.71350816299687,
           -129.23009889092836,
           -127.74668961885985,
           -126.26328034679133,
           -124.7798710747228,
           -123.29646180265429,
           -121.81305253058578,
           -120.32964325851725,
           -118.84623398644874,
           -117.36282471438022,
           -115.8794154423117,
           -114.39600617024318,
           -112.91259689817467,
           -111.42918762610614,
           -109.94577835403763,
           -108.4623690819691,
           -106.97895980990059,
           -105.49555053783207,
           -104.01214126576356,
           -102.52873199369505,
           -101.04532272162652,
           -99.56191344955799
          ],
          [
           -132.1111872897176,
           -130.6277780176491,
           -129.14436874558058,
           -127.66095947351207,
           -126.17755020144355,
           -124.69414092937504,
           -123.21073165730651,
           -121.727322385238,
           -120.24391311316948,
           -118.76050384110096,
           -117.27709456903244,
           -115.79368529696393,
           -114.3102760248954,
           -112.82686675282689,
           -111.34345748075837,
           -109.86004820868985,
           -108.37663893662133,
           -106.89322966455282,
           -105.40982039248429,
           -103.92641112041578,
           -102.44300184834727,
           -100.95959257627874,
           -99.47618330421022,
           -97.9927740321417,
           -96.50936476007318,
           -95.02595548800467,
           -93.54254621593616,
           -92.05913694386764,
           -90.57572767179911,
           -89.09231839973059
          ],
          [
           -121.64159223989022,
           -120.1581829678217,
           -118.67477369575319,
           -117.19136442368466,
           -115.70795515161615,
           -114.22454587954763,
           -112.7411366074791,
           -111.25772733541059,
           -109.77431806334208,
           -108.29090879127355,
           -106.80749951920504,
           -105.32409024713652,
           -103.840680975068,
           -102.35727170299948,
           -100.87386243093097,
           -99.39045315886244,
           -97.90704388679393,
           -96.42363461472542,
           -94.94022534265689,
           -93.45681607058837,
           -91.97340679851986,
           -90.48999752645133,
           -89.00658825438282,
           -87.52317898231429,
           -86.03976971024578,
           -84.55636043817726,
           -83.07295116610875,
           -81.58954189404024,
           -80.10613262197171,
           -78.62272334990318
          ],
          [
           -111.17199719006281,
           -109.6885879179943,
           -108.20517864592578,
           -106.72176937385726,
           -105.23836010178874,
           -103.75495082972023,
           -102.2715415576517,
           -100.78813228558319,
           -99.30472301351467,
           -97.82131374144615,
           -96.33790446937763,
           -94.85449519730912,
           -93.37108592524059,
           -91.88767665317208,
           -90.40426738110357,
           -88.92085810903504,
           -87.43744883696652,
           -85.95403956489801,
           -84.47063029282948,
           -82.98722102076097,
           -81.50381174869246,
           -80.02040247662393,
           -78.53699320455542,
           -77.05358393248689,
           -75.57017466041837,
           -74.08676538834986,
           -72.60335611628135,
           -71.11994684421283,
           -69.6365375721443,
           -68.15312830007578
          ],
          [
           -100.7024021402354,
           -99.21899286816688,
           -97.73558359609837,
           -96.25217432402984,
           -94.76876505196132,
           -93.28535577989281,
           -91.80194650782428,
           -90.31853723575577,
           -88.83512796368726,
           -87.35171869161873,
           -85.86830941955022,
           -84.3849001474817,
           -82.90149087541317,
           -81.41808160334466,
           -79.93467233127615,
           -78.45126305920762,
           -76.9678537871391,
           -75.48444451507059,
           -74.00103524300206,
           -72.51762597093355,
           -71.03421669886504,
           -69.55080742679651,
           -68.067398154728,
           -66.58398888265947,
           -65.10057961059096,
           -63.61717033852244,
           -62.13376106645393,
           -60.6503517943854,
           -59.16694252231689,
           -57.68353325024836
          ],
          [
           -90.232807090408,
           -88.74939781833947,
           -87.26598854627096,
           -85.78257927420243,
           -84.29917000213392,
           -82.8157607300654,
           -81.33235145799688,
           -79.84894218592837,
           -78.36553291385985,
           -76.88212364179132,
           -75.39871436972281,
           -73.9153050976543,
           -72.43189582558577,
           -70.94848655351726,
           -69.46507728144874,
           -67.98166800938021,
           -66.4982587373117,
           -65.01484946524317,
           -63.53144019317466,
           -62.04803092110615,
           -60.56462164903762,
           -59.081212376969106,
           -57.59780310490059,
           -56.114393832832064,
           -54.63098456076355,
           -53.14757528869504,
           -51.664166016626524,
           -50.180756744557996,
           -48.69734747248948,
           -47.213938200420955
          ],
          [
           -79.7632120405806,
           -78.27980276851207,
           -76.79639349644356,
           -75.31298422437503,
           -73.82957495230652,
           -72.346165680238,
           -70.86275640816947,
           -69.37934713610096,
           -67.89593786403245,
           -66.41252859196392,
           -64.9291193198954,
           -63.44571004782688,
           -61.962300775758365,
           -60.47889150368985,
           -58.995482231621324,
           -57.51207295955281,
           -56.0286636874843,
           -54.54525441541577,
           -53.061845143347256,
           -51.57843587127874,
           -50.095026599210215,
           -48.6116173271417,
           -47.12820805507319,
           -45.64479878300466,
           -44.16138951093615,
           -42.67798023886763,
           -41.19457096679912,
           -39.71116169473059,
           -38.22775242266208,
           -36.74434315059355
          ],
          [
           -69.29361699075318,
           -67.81020771868465,
           -66.32679844661614,
           -64.84338917454762,
           -63.3599799024791,
           -61.87657063041058,
           -60.39316135834207,
           -58.90975208627354,
           -57.42634281420503,
           -55.942933542136515,
           -54.45952427006799,
           -52.976114997999474,
           -51.49270572593096,
           -50.00929645386243,
           -48.52588718179392,
           -47.042477909725406,
           -45.55906863765688,
           -44.075659365588365,
           -42.59225009351985,
           -41.108840821451324,
           -39.62543154938281,
           -38.1420222773143,
           -36.65861300524577,
           -35.175203733177256,
           -33.69179446110874,
           -32.208385189040214,
           -30.7249759169717,
           -29.241566644903184,
           -27.758157372834663,
           -26.274748100766136
          ],
          [
           -58.824021940925775,
           -57.34061266885725,
           -55.857203396788734,
           -54.37379412472022,
           -52.89038485265169,
           -51.40697558058318,
           -49.923566308514665,
           -48.44015703644614,
           -46.956747764377624,
           -45.47333849230911,
           -43.98992922024058,
           -42.50651994817207,
           -41.023110676103556,
           -39.53970140403503,
           -38.056292131966515,
           -36.572882859898,
           -35.089473587829474,
           -33.60606431576096,
           -32.12265504369244,
           -30.639245771623923,
           -29.155836499555402,
           -27.672427227486885,
           -26.189017955418368,
           -24.705608683349848,
           -23.222199411281334,
           -21.738790139212814,
           -20.255380867144297,
           -18.77197159507578,
           -17.28856232300726,
           -15.805153050938731
          ],
          [
           -48.35442689109837,
           -46.87101761902984,
           -45.38760834696133,
           -43.9041990748928,
           -42.42078980282429,
           -40.937380530755775,
           -39.45397125868725,
           -37.97056198661873,
           -36.48715271455022,
           -35.00374344248169,
           -33.52033417041318,
           -32.036924898344665,
           -30.553515626276145,
           -29.070106354207624,
           -27.586697082139107,
           -26.103287810070587,
           -24.61987853800207,
           -23.136469265933552,
           -21.653059993865032,
           -20.169650721796515,
           -18.686241449727994,
           -17.202832177659477,
           -15.719422905590958,
           -14.23601363352244,
           -12.752604361453926,
           -11.269195089385407,
           -9.785785817316889,
           -8.302376545248372,
           -6.818967273179851,
           -5.335558001111323
          ],
          [
           -37.88483184127095,
           -36.40142256920244,
           -34.918013297133925,
           -33.4346040250654,
           -31.95119475299688,
           -30.467785480928363,
           -28.984376208859846,
           -27.50096693679133,
           -26.017557664722812,
           -24.53414839265429,
           -23.05073912058577,
           -21.567329848517254,
           -20.083920576448737,
           -18.60051130438022,
           -17.1171020323117,
           -15.633692760243182,
           -14.150283488174663,
           -12.666874216106145,
           -11.183464944037627,
           -9.700055671969107,
           -8.21664639990059,
           -6.733237127832071,
           -5.249827855763552,
           -3.7664185836950335,
           -2.28300931162652,
           -0.7996000395580012,
           0.6838092325105176,
           2.1672185045790346,
           3.6506277766475552,
           5.134037048716083
          ],
          [
           -27.41523679144355,
           -25.93182751937503,
           -24.448418247306513,
           -22.965008975237993,
           -21.481599703169476,
           -19.998190431100955,
           -18.514781159032438,
           -17.03137188696392,
           -15.547962614895402,
           -14.064553342826883,
           -12.581144070758365,
           -11.097734798689846,
           -9.61432552662133,
           -8.130916254552812,
           -6.647506982484293,
           -5.164097710415774,
           -3.680688438347256,
           -2.1972791662787374,
           -0.7138698942102191,
           0.7695393778582993,
           2.252948649926818,
           3.736357921995337,
           5.219767194063856,
           6.7031764661323745,
           8.186585738200888,
           9.669995010269407,
           11.153404282337926,
           12.63681355440644,
           14.120222826474961,
           15.603632098543489
          ],
          [
           -16.945641741616143,
           -15.462232469547622,
           -13.978823197479105,
           -12.495413925410585,
           -11.012004653342068,
           -9.528595381273549,
           -8.045186109205032,
           -6.561776837136515,
           -5.078367565067996,
           -3.5949582929994772,
           -2.1115490209309584,
           -0.6281397488624396,
           0.8552695232060765,
           2.3386787952745944,
           3.8220880673431132,
           5.305497339411632,
           6.788906611480151,
           8.27231588354867,
           9.755725155617188,
           11.239134427685705,
           12.722543699754223,
           14.205952971822743,
           15.689362243891264,
           17.17277151595978,
           18.656180788028294,
           20.13959006009681,
           21.62299933216533,
           23.10640860423385,
           24.58981787630237,
           26.073227148370897
          ],
          [
           -6.476046691788735,
           -4.992637419720214,
           -3.5092281476516973,
           -2.0258188755831767,
           -0.5424096035146597,
           0.9409996685538591,
           2.424408940622376,
           3.907818212690893,
           5.391227484759412,
           6.874636756827931,
           8.35804602889645,
           9.841455300964968,
           11.324864573033484,
           12.808273845102004,
           14.291683117170521,
           15.775092389239042,
           17.25850166130756,
           18.741910933376076,
           20.225320205444596,
           21.708729477513113,
           23.192138749581634,
           24.67554802165015,
           26.158957293718668,
           27.64236656578719,
           29.125775837855702,
           30.609185109924223,
           32.09259438199274,
           33.57600365406125,
           35.05941292612978,
           36.54282219819831
          ],
          [
           3.993548358038673,
           5.476957630107194,
           6.960366902175711,
           8.443776174244231,
           9.927185446312748,
           11.410594718381267,
           12.894003990449786,
           14.3774132625183,
           15.86082253458682,
           17.34423180665534,
           18.827641078723858,
           20.311050350792375,
           21.79445962286089,
           23.277868894929412,
           24.76127816699793,
           26.24468743906645,
           27.72809671113497,
           29.211505983203484,
           30.694915255272004,
           32.17832452734052,
           33.661733799409035,
           35.14514307147756,
           36.628552343546076,
           38.11196161561459,
           39.5953708876831,
           41.07878015975163,
           42.562189431820144,
           44.04559870388866,
           45.529007975957185,
           47.01241724802571
          ],
          [
           14.463143407866081,
           15.946552679934602,
           17.42996195200312,
           18.91337122407164,
           20.396780496140156,
           21.880189768208677,
           23.36359904027719,
           24.84700831234571,
           26.330417584414228,
           27.813826856482745,
           29.297236128551265,
           30.780645400619786,
           32.2640546726883,
           33.74746394475682,
           35.230873216825344,
           36.71428248889386,
           38.19769176096237,
           39.6811010330309,
           41.16451030509941,
           42.647919577167926,
           44.13132884923645,
           45.61473812130497,
           47.09814739337348,
           48.58155666544201,
           50.06496593751052,
           51.548375209579035,
           53.03178448164755,
           54.515193753716076,
           55.99860302578459,
           57.48201229785312
          ],
          [
           24.932738457693485,
           26.416147729762006,
           27.89955700183052,
           29.382966273899047,
           30.86637554596756,
           32.349784818036085,
           33.8331940901046,
           35.31660336217311,
           36.800012634241625,
           38.28342190631015,
           39.766831178378666,
           41.250240450447194,
           42.73364972251571,
           44.21705899458422,
           45.70046826665275,
           47.18387753872126,
           48.667286810789776,
           50.1506960828583,
           51.63410535492682,
           53.11751462699533,
           54.60092389906386,
           56.08433317113237,
           57.567742443200885,
           59.05115171526941,
           60.53456098733791,
           62.01797025940644,
           63.50137953147495,
           64.98478880354348,
           66.468198075612,
           67.95160734768052
          ],
          [
           35.40233350752089,
           36.88574277958942,
           38.369152051657935,
           39.85256132372645,
           41.335970595794976,
           42.81937986786349,
           44.302789139932,
           45.78619841200053,
           47.269607684069044,
           48.75301695613756,
           50.236426228206085,
           51.7198355002746,
           53.20324477234311,
           54.68665404441164,
           56.17006331648015,
           57.65347258854867,
           59.136881860617194,
           60.62029113268571,
           62.10370040475422,
           63.58710967682275,
           65.07051894889126,
           66.55392822095978,
           68.0373374930283,
           69.52074676509682,
           71.00415603716533,
           72.48756530923384,
           73.97097458130237,
           75.45438385337089,
           76.9377931254394,
           78.42120239750794
          ],
          [
           45.87192855734831,
           47.355337829416825,
           48.83874710148534,
           50.32215637355387,
           51.80556564562238,
           53.28897491769091,
           54.77238418975942,
           56.255793461827935,
           57.73920273389645,
           59.222612005964976,
           60.70602127803349,
           62.189430550102,
           63.67283982217053,
           65.15624909423904,
           66.63965836630756,
           68.12306763837609,
           69.6064769104446,
           71.08988618251311,
           72.57329545458164,
           74.05670472665015,
           75.54011399871867,
           77.0235232707872,
           78.50693254285571,
           79.99034181492424,
           81.47375108699275,
           82.95716035906126,
           84.44056963112978,
           85.92397890319829,
           87.40738817526682,
           88.89079744733534
          ],
          [
           56.341523607175716,
           57.82493287924423,
           59.30834215131274,
           60.79175142338127,
           62.275160695449784,
           63.7585699675183,
           65.24197923958683,
           66.72538851165534,
           68.20879778372385,
           69.69220705579238,
           71.1756163278609,
           72.65902559992941,
           74.14243487199793,
           75.62584414406645,
           77.10925341613496,
           78.59266268820349,
           80.076071960272,
           81.55948123234052,
           83.04289050440904,
           84.52629977647756,
           86.00970904854607,
           87.4931183206146,
           88.97652759268311,
           90.45993686475164,
           91.94334613682015,
           93.42675540888867,
           94.91016468095718,
           96.3935739530257,
           97.87698322509422,
           99.36039249716275
          ],
          [
           66.81111865700312,
           68.29452792907163,
           69.77793720114015,
           71.26134647320868,
           72.74475574527719,
           74.2281650173457,
           75.71157428941423,
           77.19498356148274,
           78.67839283355126,
           80.16180210561978,
           81.6452113776883,
           83.12862064975681,
           84.61202992182534,
           86.09543919389385,
           87.57884846596237,
           89.0622577380309,
           90.54566701009941,
           92.02907628216792,
           93.51248555423645,
           94.99589482630496,
           96.47930409837348,
           97.962713370442,
           99.44612264251052,
           100.92953191457904,
           102.41294118664756,
           103.89635045871607,
           105.37975973078458,
           106.8631690028531,
           108.34657827492163,
           109.82998754699015
          ],
          [
           77.28071370683053,
           78.76412297889904,
           80.24753225096755,
           81.73094152303608,
           83.2143507951046,
           84.6977600671731,
           86.18116933924163,
           87.66457861131015,
           89.14798788337866,
           90.63139715544719,
           92.1148064275157,
           93.59821569958422,
           95.08162497165274,
           96.56503424372126,
           98.04844351578977,
           99.5318527878583,
           101.01526205992681,
           102.49867133199533,
           103.98208060406385,
           105.46548987613237,
           106.94889914820088,
           108.43230842026941,
           109.91571769233792,
           111.39912696440645,
           112.88253623647496,
           114.36594550854348,
           115.84935478061199,
           117.3327640526805,
           118.81617332474903,
           120.29958259681756
          ],
          [
           87.75030875665793,
           89.23371802872644,
           90.71712730079496,
           92.20053657286348,
           93.683945844932,
           95.16735511700051,
           96.65076438906904,
           98.13417366113755,
           99.61758293320607,
           101.1009922052746,
           102.5844014773431,
           104.06781074941162,
           105.55122002148015,
           107.03462929354866,
           108.51803856561718,
           110.0014478376857,
           111.48485710975422,
           112.96826638182273,
           114.45167565389126,
           115.93508492595977,
           117.41849419802828,
           118.90190347009681,
           120.38531274216533,
           121.86872201423385,
           123.35213128630237,
           124.83554055837088,
           126.3189498304394,
           127.8023591025079,
           129.28576837457643,
           130.76917764664498
          ],
          [
           98.21990380648533,
           99.70331307855386,
           101.18672235062238,
           102.6701316226909,
           104.15354089475942,
           105.63695016682793,
           107.12035943889646,
           108.60376871096497,
           110.08717798303348,
           111.57058725510201,
           113.05399652717053,
           114.53740579923904,
           116.02081507130757,
           117.50422434337608,
           118.9876336154446,
           120.47104288751312,
           121.95445215958163,
           123.43786143165015,
           124.92127070371866,
           126.4046799757872,
           127.88808924785572,
           129.37149851992424,
           130.85490779199276,
           132.33831706406127,
           133.82172633612979,
           135.3051356081983,
           136.78854488026684,
           138.27195415233535,
           139.75536342440387,
           141.23877269647238
          ],
          [
           108.68949885631274,
           110.17290812838127,
           111.65631740044978,
           113.13972667251831,
           114.62313594458682,
           116.10654521665533,
           117.58995448872386,
           119.07336376079238,
           120.55677303286089,
           122.04018230492942,
           123.52359157699793,
           125.00700084906644,
           126.49041012113496,
           127.97381939320347,
           129.45722866527203,
           130.94063793734054,
           132.42404720940905,
           133.90745648147757,
           135.39086575354608,
           136.87427502561462,
           138.35768429768314,
           139.84109356975165,
           141.32450284182016,
           142.80791211388868,
           144.2913213859572,
           145.7747306580257,
           147.25813993009425,
           148.74154920216276,
           150.22495847423127,
           151.7083677462998
          ],
          [
           119.15909390614014,
           120.64250317820867,
           122.12591245027718,
           123.60932172234571,
           125.09273099441423,
           126.57614026648274,
           128.05954953855127,
           129.54295881061978,
           131.02636808268832,
           132.50977735475684,
           133.99318662682535,
           135.47659589889386,
           136.96000517096238,
           138.4434144430309,
           139.92682371509943,
           141.41023298716794,
           142.89364225923646,
           144.37705153130497,
           145.86046080337348,
           147.34387007544203,
           148.82727934751054,
           150.31068861957905,
           151.79409789164757,
           153.27750716371608,
           154.7609164357846,
           156.2443257078531,
           157.72773497992165,
           159.21114425199016,
           160.69455352405868,
           162.1779627961272
          ],
          [
           129.62868895596756,
           131.11209822803607,
           132.59550750010462,
           134.07891677217313,
           135.56232604424164,
           137.04573531631016,
           138.52914458837867,
           140.01255386044718,
           141.49596313251573,
           142.97937240458424,
           144.46278167665275,
           145.94619094872127,
           147.42960022078978,
           148.9130094928583,
           150.39641876492684,
           151.87982803699535,
           153.36323730906386,
           154.84664658113238,
           156.3300558532009,
           157.81346512526943,
           159.29687439733794,
           160.78028366940646,
           162.26369294147497,
           163.74710221354349,
           165.230511485612,
           166.7139207576805,
           168.19733002974905,
           169.68073930181757,
           171.16414857388608,
           172.64755784595462
          ]
         ]
        }
       ],
       "layout": {
        "height": 700,
        "scene": {
         "xaxis": {
          "title": {
           "text": "Feature 1"
          }
         },
         "yaxis": {
          "title": {
           "text": "Feature 2"
          }
         },
         "zaxis": {
          "title": {
           "text": "Target"
          }
         }
        },
        "template": {
         "data": {
          "bar": [
           {
            "error_x": {
             "color": "#2a3f5f"
            },
            "error_y": {
             "color": "#2a3f5f"
            },
            "marker": {
             "line": {
              "color": "#E5ECF6",
              "width": 0.5
             },
             "pattern": {
              "fillmode": "overlay",
              "size": 10,
              "solidity": 0.2
             }
            },
            "type": "bar"
           }
          ],
          "barpolar": [
           {
            "marker": {
             "line": {
              "color": "#E5ECF6",
              "width": 0.5
             },
             "pattern": {
              "fillmode": "overlay",
              "size": 10,
              "solidity": 0.2
             }
            },
            "type": "barpolar"
           }
          ],
          "carpet": [
           {
            "aaxis": {
             "endlinecolor": "#2a3f5f",
             "gridcolor": "white",
             "linecolor": "white",
             "minorgridcolor": "white",
             "startlinecolor": "#2a3f5f"
            },
            "baxis": {
             "endlinecolor": "#2a3f5f",
             "gridcolor": "white",
             "linecolor": "white",
             "minorgridcolor": "white",
             "startlinecolor": "#2a3f5f"
            },
            "type": "carpet"
           }
          ],
          "choropleth": [
           {
            "colorbar": {
             "outlinewidth": 0,
             "ticks": ""
            },
            "type": "choropleth"
           }
          ],
          "contour": [
           {
            "colorbar": {
             "outlinewidth": 0,
             "ticks": ""
            },
            "colorscale": [
             [
              0,
              "#0d0887"
             ],
             [
              0.1111111111111111,
              "#46039f"
             ],
             [
              0.2222222222222222,
              "#7201a8"
             ],
             [
              0.3333333333333333,
              "#9c179e"
             ],
             [
              0.4444444444444444,
              "#bd3786"
             ],
             [
              0.5555555555555556,
              "#d8576b"
             ],
             [
              0.6666666666666666,
              "#ed7953"
             ],
             [
              0.7777777777777778,
              "#fb9f3a"
             ],
             [
              0.8888888888888888,
              "#fdca26"
             ],
             [
              1,
              "#f0f921"
             ]
            ],
            "type": "contour"
           }
          ],
          "contourcarpet": [
           {
            "colorbar": {
             "outlinewidth": 0,
             "ticks": ""
            },
            "type": "contourcarpet"
           }
          ],
          "heatmap": [
           {
            "colorbar": {
             "outlinewidth": 0,
             "ticks": ""
            },
            "colorscale": [
             [
              0,
              "#0d0887"
             ],
             [
              0.1111111111111111,
              "#46039f"
             ],
             [
              0.2222222222222222,
              "#7201a8"
             ],
             [
              0.3333333333333333,
              "#9c179e"
             ],
             [
              0.4444444444444444,
              "#bd3786"
             ],
             [
              0.5555555555555556,
              "#d8576b"
             ],
             [
              0.6666666666666666,
              "#ed7953"
             ],
             [
              0.7777777777777778,
              "#fb9f3a"
             ],
             [
              0.8888888888888888,
              "#fdca26"
             ],
             [
              1,
              "#f0f921"
             ]
            ],
            "type": "heatmap"
           }
          ],
          "heatmapgl": [
           {
            "colorbar": {
             "outlinewidth": 0,
             "ticks": ""
            },
            "colorscale": [
             [
              0,
              "#0d0887"
             ],
             [
              0.1111111111111111,
              "#46039f"
             ],
             [
              0.2222222222222222,
              "#7201a8"
             ],
             [
              0.3333333333333333,
              "#9c179e"
             ],
             [
              0.4444444444444444,
              "#bd3786"
             ],
             [
              0.5555555555555556,
              "#d8576b"
             ],
             [
              0.6666666666666666,
              "#ed7953"
             ],
             [
              0.7777777777777778,
              "#fb9f3a"
             ],
             [
              0.8888888888888888,
              "#fdca26"
             ],
             [
              1,
              "#f0f921"
             ]
            ],
            "type": "heatmapgl"
           }
          ],
          "histogram": [
           {
            "marker": {
             "pattern": {
              "fillmode": "overlay",
              "size": 10,
              "solidity": 0.2
             }
            },
            "type": "histogram"
           }
          ],
          "histogram2d": [
           {
            "colorbar": {
             "outlinewidth": 0,
             "ticks": ""
            },
            "colorscale": [
             [
              0,
              "#0d0887"
             ],
             [
              0.1111111111111111,
              "#46039f"
             ],
             [
              0.2222222222222222,
              "#7201a8"
             ],
             [
              0.3333333333333333,
              "#9c179e"
             ],
             [
              0.4444444444444444,
              "#bd3786"
             ],
             [
              0.5555555555555556,
              "#d8576b"
             ],
             [
              0.6666666666666666,
              "#ed7953"
             ],
             [
              0.7777777777777778,
              "#fb9f3a"
             ],
             [
              0.8888888888888888,
              "#fdca26"
             ],
             [
              1,
              "#f0f921"
             ]
            ],
            "type": "histogram2d"
           }
          ],
          "histogram2dcontour": [
           {
            "colorbar": {
             "outlinewidth": 0,
             "ticks": ""
            },
            "colorscale": [
             [
              0,
              "#0d0887"
             ],
             [
              0.1111111111111111,
              "#46039f"
             ],
             [
              0.2222222222222222,
              "#7201a8"
             ],
             [
              0.3333333333333333,
              "#9c179e"
             ],
             [
              0.4444444444444444,
              "#bd3786"
             ],
             [
              0.5555555555555556,
              "#d8576b"
             ],
             [
              0.6666666666666666,
              "#ed7953"
             ],
             [
              0.7777777777777778,
              "#fb9f3a"
             ],
             [
              0.8888888888888888,
              "#fdca26"
             ],
             [
              1,
              "#f0f921"
             ]
            ],
            "type": "histogram2dcontour"
           }
          ],
          "mesh3d": [
           {
            "colorbar": {
             "outlinewidth": 0,
             "ticks": ""
            },
            "type": "mesh3d"
           }
          ],
          "parcoords": [
           {
            "line": {
             "colorbar": {
              "outlinewidth": 0,
              "ticks": ""
             }
            },
            "type": "parcoords"
           }
          ],
          "pie": [
           {
            "automargin": true,
            "type": "pie"
           }
          ],
          "scatter": [
           {
            "fillpattern": {
             "fillmode": "overlay",
             "size": 10,
             "solidity": 0.2
            },
            "type": "scatter"
           }
          ],
          "scatter3d": [
           {
            "line": {
             "colorbar": {
              "outlinewidth": 0,
              "ticks": ""
             }
            },
            "marker": {
             "colorbar": {
              "outlinewidth": 0,
              "ticks": ""
             }
            },
            "type": "scatter3d"
           }
          ],
          "scattercarpet": [
           {
            "marker": {
             "colorbar": {
              "outlinewidth": 0,
              "ticks": ""
             }
            },
            "type": "scattercarpet"
           }
          ],
          "scattergeo": [
           {
            "marker": {
             "colorbar": {
              "outlinewidth": 0,
              "ticks": ""
             }
            },
            "type": "scattergeo"
           }
          ],
          "scattergl": [
           {
            "marker": {
             "colorbar": {
              "outlinewidth": 0,
              "ticks": ""
             }
            },
            "type": "scattergl"
           }
          ],
          "scattermapbox": [
           {
            "marker": {
             "colorbar": {
              "outlinewidth": 0,
              "ticks": ""
             }
            },
            "type": "scattermapbox"
           }
          ],
          "scatterpolar": [
           {
            "marker": {
             "colorbar": {
              "outlinewidth": 0,
              "ticks": ""
             }
            },
            "type": "scatterpolar"
           }
          ],
          "scatterpolargl": [
           {
            "marker": {
             "colorbar": {
              "outlinewidth": 0,
              "ticks": ""
             }
            },
            "type": "scatterpolargl"
           }
          ],
          "scatterternary": [
           {
            "marker": {
             "colorbar": {
              "outlinewidth": 0,
              "ticks": ""
             }
            },
            "type": "scatterternary"
           }
          ],
          "surface": [
           {
            "colorbar": {
             "outlinewidth": 0,
             "ticks": ""
            },
            "colorscale": [
             [
              0,
              "#0d0887"
             ],
             [
              0.1111111111111111,
              "#46039f"
             ],
             [
              0.2222222222222222,
              "#7201a8"
             ],
             [
              0.3333333333333333,
              "#9c179e"
             ],
             [
              0.4444444444444444,
              "#bd3786"
             ],
             [
              0.5555555555555556,
              "#d8576b"
             ],
             [
              0.6666666666666666,
              "#ed7953"
             ],
             [
              0.7777777777777778,
              "#fb9f3a"
             ],
             [
              0.8888888888888888,
              "#fdca26"
             ],
             [
              1,
              "#f0f921"
             ]
            ],
            "type": "surface"
           }
          ],
          "table": [
           {
            "cells": {
             "fill": {
              "color": "#EBF0F8"
             },
             "line": {
              "color": "white"
             }
            },
            "header": {
             "fill": {
              "color": "#C8D4E3"
             },
             "line": {
              "color": "white"
             }
            },
            "type": "table"
           }
          ]
         },
         "layout": {
          "annotationdefaults": {
           "arrowcolor": "#2a3f5f",
           "arrowhead": 0,
           "arrowwidth": 1
          },
          "autotypenumbers": "strict",
          "coloraxis": {
           "colorbar": {
            "outlinewidth": 0,
            "ticks": ""
           }
          },
          "colorscale": {
           "diverging": [
            [
             0,
             "#8e0152"
            ],
            [
             0.1,
             "#c51b7d"
            ],
            [
             0.2,
             "#de77ae"
            ],
            [
             0.3,
             "#f1b6da"
            ],
            [
             0.4,
             "#fde0ef"
            ],
            [
             0.5,
             "#f7f7f7"
            ],
            [
             0.6,
             "#e6f5d0"
            ],
            [
             0.7,
             "#b8e186"
            ],
            [
             0.8,
             "#7fbc41"
            ],
            [
             0.9,
             "#4d9221"
            ],
            [
             1,
             "#276419"
            ]
           ],
           "sequential": [
            [
             0,
             "#0d0887"
            ],
            [
             0.1111111111111111,
             "#46039f"
            ],
            [
             0.2222222222222222,
             "#7201a8"
            ],
            [
             0.3333333333333333,
             "#9c179e"
            ],
            [
             0.4444444444444444,
             "#bd3786"
            ],
            [
             0.5555555555555556,
             "#d8576b"
            ],
            [
             0.6666666666666666,
             "#ed7953"
            ],
            [
             0.7777777777777778,
             "#fb9f3a"
            ],
            [
             0.8888888888888888,
             "#fdca26"
            ],
            [
             1,
             "#f0f921"
            ]
           ],
           "sequentialminus": [
            [
             0,
             "#0d0887"
            ],
            [
             0.1111111111111111,
             "#46039f"
            ],
            [
             0.2222222222222222,
             "#7201a8"
            ],
            [
             0.3333333333333333,
             "#9c179e"
            ],
            [
             0.4444444444444444,
             "#bd3786"
            ],
            [
             0.5555555555555556,
             "#d8576b"
            ],
            [
             0.6666666666666666,
             "#ed7953"
            ],
            [
             0.7777777777777778,
             "#fb9f3a"
            ],
            [
             0.8888888888888888,
             "#fdca26"
            ],
            [
             1,
             "#f0f921"
            ]
           ]
          },
          "colorway": [
           "#636efa",
           "#EF553B",
           "#00cc96",
           "#ab63fa",
           "#FFA15A",
           "#19d3f3",
           "#FF6692",
           "#B6E880",
           "#FF97FF",
           "#FECB52"
          ],
          "font": {
           "color": "#2a3f5f"
          },
          "geo": {
           "bgcolor": "white",
           "lakecolor": "white",
           "landcolor": "#E5ECF6",
           "showlakes": true,
           "showland": true,
           "subunitcolor": "white"
          },
          "hoverlabel": {
           "align": "left"
          },
          "hovermode": "closest",
          "mapbox": {
           "style": "light"
          },
          "paper_bgcolor": "white",
          "plot_bgcolor": "#E5ECF6",
          "polar": {
           "angularaxis": {
            "gridcolor": "white",
            "linecolor": "white",
            "ticks": ""
           },
           "bgcolor": "#E5ECF6",
           "radialaxis": {
            "gridcolor": "white",
            "linecolor": "white",
            "ticks": ""
           }
          },
          "scene": {
           "xaxis": {
            "backgroundcolor": "#E5ECF6",
            "gridcolor": "white",
            "gridwidth": 2,
            "linecolor": "white",
            "showbackground": true,
            "ticks": "",
            "zerolinecolor": "white"
           },
           "yaxis": {
            "backgroundcolor": "#E5ECF6",
            "gridcolor": "white",
            "gridwidth": 2,
            "linecolor": "white",
            "showbackground": true,
            "ticks": "",
            "zerolinecolor": "white"
           },
           "zaxis": {
            "backgroundcolor": "#E5ECF6",
            "gridcolor": "white",
            "gridwidth": 2,
            "linecolor": "white",
            "showbackground": true,
            "ticks": "",
            "zerolinecolor": "white"
           }
          },
          "shapedefaults": {
           "line": {
            "color": "#2a3f5f"
           }
          },
          "ternary": {
           "aaxis": {
            "gridcolor": "white",
            "linecolor": "white",
            "ticks": ""
           },
           "baxis": {
            "gridcolor": "white",
            "linecolor": "white",
            "ticks": ""
           },
           "bgcolor": "#E5ECF6",
           "caxis": {
            "gridcolor": "white",
            "linecolor": "white",
            "ticks": ""
           }
          },
          "title": {
           "x": 0.05
          },
          "xaxis": {
           "automargin": true,
           "gridcolor": "white",
           "linecolor": "white",
           "ticks": "",
           "title": {
            "standoff": 15
           },
           "zerolinecolor": "white",
           "zerolinewidth": 2
          },
          "yaxis": {
           "automargin": true,
           "gridcolor": "white",
           "linecolor": "white",
           "ticks": "",
           "title": {
            "standoff": 15
           },
           "zerolinecolor": "white",
           "zerolinewidth": 2
          }
         }
        },
        "title": {
         "text": "Multiple Linear Regression - 3D Regression Plane"
        },
        "width": 800
       }
      }
     },
     "metadata": {},
     "output_type": "display_data"
    }
   ],
   "source": [
    "grid_size = 30\n",
    "feature1_range = np.linspace(df['feature1'].min(), df['feature1'].max(), grid_size)\n",
    "feature2_range = np.linspace(df['feature2'].min(), df['feature2'].max(), grid_size)\n",
    "feature1_grid, feature2_grid = np.meshgrid(feature1_range, feature2_range)\n",
    "\n",
    "\n",
    "grid_points = np.c_[feature1_grid.ravel(), feature2_grid.ravel()]\n",
    "predicted_target = lr.predict(grid_points).reshape(feature1_grid.shape)\n",
    "\n",
    "# 3D Plot using Plotly\n",
    "fig = go.Figure()\n",
    "\n",
    "# Scatter plot of the actual data points\n",
    "fig.add_trace(go.Scatter3d(x=df['feature1'], y=df['feature2'], z=df['target'],\n",
    "                           mode='markers', marker=dict(size=4, color='blue'), name='Actual Data'))\n",
    "\n",
    "# Surface plot of the regression plane\n",
    "fig.add_trace(go.Surface(x=feature1_grid, y=feature2_grid, z=predicted_target,\n",
    "                         opacity=0.5, colorscale='Viridis', name='Regression Plane'))\n",
    "\n",
    "fig.update_layout(scene=dict(xaxis_title='Feature 1',\n",
    "                             yaxis_title='Feature 2',\n",
    "                             zaxis_title='Target'),\n",
    "                  title='Multiple Linear Regression - 3D Regression Plane',\n",
    "                  width=800, height=700)\n",
    "fig.show()"
   ]
  }
 ],
 "metadata": {
  "kernelspec": {
   "display_name": "base",
   "language": "python",
   "name": "python3"
  },
  "language_info": {
   "codemirror_mode": {
    "name": "ipython",
    "version": 3
   },
   "file_extension": ".py",
   "mimetype": "text/x-python",
   "name": "python",
   "nbconvert_exporter": "python",
   "pygments_lexer": "ipython3",
   "version": "3.12.7"
  }
 },
 "nbformat": 4,
 "nbformat_minor": 5
}
