{
 "cells": [
  {
   "cell_type": "code",
   "execution_count": 20,
   "id": "04c816bd",
   "metadata": {},
   "outputs": [],
   "source": [
    "import pandas as pd \n",
    "import numpy as np"
   ]
  },
  {
   "cell_type": "code",
   "execution_count": 22,
   "id": "89931e2e",
   "metadata": {},
   "outputs": [
    {
     "name": "stdout",
     "output_type": "stream",
     "text": [
      "4.46153846153846\n",
      "14.46153846153846\n",
      "4.46153846153846\n",
      "14.46153846153846\n",
      "-0.5384615384615401\n",
      "29.461538461538467\n",
      "9.46153846153846\n"
     ]
    }
   ],
   "source": [
    "Age=[40,50,40,50,35,65,45]\n",
    "salary=[50000,40000,35000,55000,45000,35000,55000]\n",
    "#using formula\n",
    "age_mean=np.mean(Age)\n",
    "max_age=np.max(Age)\n",
    "min_age=np.min(Age)\n",
    "for i in Age :\n",
    "    min_max_scaler=i-min_age/max_age-min_age\n",
    "    print(min_max_scaler)    \n",
    "income_mean=np.mean(salary)"
   ]
  },
  {
   "cell_type": "code",
   "execution_count": 23,
   "id": "246baaec",
   "metadata": {},
   "outputs": [
    {
     "data": {
      "text/plain": [
       "array([[0.33333333, 0.33333333, 0.33333333],\n",
       "       [0.        , 0.        , 0.        ],\n",
       "       [1.        , 1.        , 1.        ]])"
      ]
     },
     "execution_count": 23,
     "metadata": {},
     "output_type": "execute_result"
    }
   ],
   "source": [
    "##with the help of package\n",
    "from sklearn.preprocessing import MinMaxScaler\n",
    "sclr=MinMaxScaler()\n",
    "x=np.array([\n",
    "    [20,30,40],\n",
    "    [10,20,30],\n",
    "    [40,50,60],\n",
    "])\n",
    "forage=sclr.fit_transform(x)\n",
    "forage\n"
   ]
  },
  {
   "cell_type": "code",
   "execution_count": null,
   "id": "3353e744",
   "metadata": {},
   "outputs": [],
   "source": []
  }
 ],
 "metadata": {
  "kernelspec": {
   "display_name": "base",
   "language": "python",
   "name": "python3"
  },
  "language_info": {
   "codemirror_mode": {
    "name": "ipython",
    "version": 3
   },
   "file_extension": ".py",
   "mimetype": "text/x-python",
   "name": "python",
   "nbconvert_exporter": "python",
   "pygments_lexer": "ipython3",
   "version": "3.12.7"
  }
 },
 "nbformat": 4,
 "nbformat_minor": 5
}
